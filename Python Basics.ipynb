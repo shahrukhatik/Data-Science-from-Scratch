{
 "cells": [
  {
   "cell_type": "markdown",
   "metadata": {},
   "source": [
    "# INFS 772 Python for Data Analytics\n",
    "# A Rich Tutorial of Python for Data Science\n",
    "# Week 3 ~ 4\n",
    "## This document is also used for Assignment 1, due Thursday Feb. 8 11:59PM"
   ]
  },
  {
   "cell_type": "code",
   "execution_count": 1,
   "metadata": {},
   "outputs": [],
   "source": [
    "from IPython.display import display, Image, HTML"
   ]
  },
  {
   "cell_type": "code",
   "execution_count": 2,
   "metadata": {},
   "outputs": [
    {
     "name": "stdout",
     "output_type": "stream",
     "text": [
      "['/Users/shahrukh', '/Users/shahrukh/anaconda3/lib/python37.zip', '/Users/shahrukh/anaconda3/lib/python3.7', '/Users/shahrukh/anaconda3/lib/python3.7/lib-dynload', '', '/Users/shahrukh/anaconda3/lib/python3.7/site-packages', '/Users/shahrukh/anaconda3/lib/python3.7/site-packages/aeosa', '/Users/shahrukh/anaconda3/lib/python3.7/site-packages/IPython/extensions', '/Users/shahrukh/.ipython']\n"
     ]
    }
   ],
   "source": [
    "import sys\n",
    "print(sys.path)"
   ]
  },
  {
   "cell_type": "code",
   "execution_count": 3,
   "metadata": {},
   "outputs": [
    {
     "data": {
      "text/plain": [
       "'/Users/shahrukh/simple_ml.py'"
      ]
     },
     "execution_count": 3,
     "metadata": {},
     "output_type": "execute_result"
    }
   ],
   "source": [
    "# Display my current working directory and file location for certain module.\n",
    "import os\n",
    "import simple_ml\n",
    "os.getcwd()\n",
    "#os.path.dirname(simple_ml.__file__)\n",
    "simple_ml.__file__"
   ]
  },
  {
   "cell_type": "markdown",
   "metadata": {},
   "source": [
    "# 1. Introduction"
   ]
  },
  {
   "cell_type": "markdown",
   "metadata": {},
   "source": [
    "\n",
    "Python is an easy to learn, powerful programming language. It has efficient high-level data structures and a simple but effective approach to object-oriented programming. Python’s elegant syntax and dynamic typing, together with its interpreted nature, make it an ideal language for data science.\n",
    "\n",
    "The practice of data science involves many interrelated but different activities, including accessing data, manipulating data, computing statistics about data, plotting/graphing/visualizing data, building predictive and explanatory models from data, evaluating those models on yet more data, integrating models into production systems, etc. One option for the data scientist is to learn several different software packages that each specialize in one or two of these things, but don’t do them all well, plus learn a programming language to tie them together. (Or do a lot of manual work.)  \n",
    "> \n",
    "> An alternative is to use a general-purpose, high-level programming language that provides libraries to do all these things. Python is an excellent choice for this. It has a diverse range of open source libraries for just about everything the data scientist will do. It is available everywhere; high performance python interpreters exist for running your code on almost any operating system or architecture. Python and most of its libraries are both open source and free. Contrast this with common software packages that are available in a course via an academic license, yet are extremely expensive to license and use in industry.\n",
    "\n",
    "<a href=\"http://scikit-learn.org/\"><img src=\"http://scikit-learn.org/stable/_static/scikit-learn-logo-small.png\" style=\"margin: 0px 0px 5px 20px; width: 125px; float: right;\" title=\"scikit-learn: Machine Learning for Python\" alt=\"scikit-learn-logo-small.png\" /></a>\n",
    "The goal of this introduction (and the course) is to provide efficient and sufficient scaffolding for students with no prior knowledge of Python to be able to effectively use Python-based tools for data science research and development, such as the open-source library [scikit-learn](http://scikit-learn.org/). There is another, more comprehensive tutorial for scikit-learn, [Python Scientific Lecture Notes](http://scipy-lectures.github.io/index.html), that includes coverage of a number of other useful Python open-source libraries used by scikit-learn ([numpy](http://www.numpy.org/), [scipy](http://www.scipy.org/) and [matplotlib](http://matplotlib.org)) - all highly recommended ... and, to keep things simple, all beyond the scope of this tutorial.\n",
    "\n",
    "You can run this notebook locally in a browser once you [install jupyter notebook](https://jupyter.readthedocs.io/en/latest/install.html).\n",
    "\n",
    "\n",
    "We will focus entirely on using Python within the interpreter environment (as supported within an Jupyter Notebook). Python scripts - files containing definitions of functions and variables, and typically including code invoking some of those functions - can also be run from a command line. Using Python scripts from the command line may be the subject of a future primer. \n",
    "\n",
    "To help motivate the data science-oriented Python programming examples provided in this primer, we will start off with a brief overview of basic concepts and terminology in data science."
   ]
  },
  {
   "cell_type": "markdown",
   "metadata": {},
   "source": [
    "## 2. Data Science: Basic Concepts"
   ]
  },
  {
   "cell_type": "markdown",
   "metadata": {},
   "source": [
    "### Data Science and Data Mining"
   ]
  },
  {
   "cell_type": "markdown",
   "metadata": {},
   "source": [
    "> **Data science** involves principles, processes and techniques for understanding phenomena via the (automated) analysis of data.\n",
    "> \n",
    "> **Data mining** is the extraction of knowledge from data, via technologies that incorporate these principles."
   ]
  },
  {
   "cell_type": "markdown",
   "metadata": {},
   "source": [
    "### Knowledge Discovery, Data Mining and Machine Learning"
   ]
  },
  {
   "cell_type": "markdown",
   "metadata": {},
   "source": [
    "Provost & Fawcett also offer some history and insights into the relationship between *data mining* and *machine learning*, terms which are often used somewhat interchangeably:\n",
    "\n",
    "> The field of Data Mining (or KDD: Knowledge Discovery and Data Mining) started as an offshoot of Machine Learning, and they remain closely linked. Both fields are concerned with the analysis of data to find useful or informative patterns. Techniques and algorithms are shared between the two; indeed, the areas are so closely related that researchers commonly participate in both communities and transition between them seamlessly. Nevertheless, it is worth pointing out some of the differences to give perspective.\n",
    "> \n",
    ">Speaking generally, because Machine Learning is concerned with many types of performance improvement, it includes subfields such as robotics and computer vision that are not part of KDD. It also is concerned with issues of agency and cognition — how will an intelligent agent use learned knowledge to reason and act in its environment — which are not concerns of Data Mining.\n",
    "> \n",
    ">Historically, KDD spun off from Machine Learning as a research field focused on concerns raised by examining real-world applications, and a decade and a half later the KDD community remains more concerned with applications than Machine Learning is. As such, research focused on commercial applications and business issues of data analysis tends to gravitate toward the KDD community rather than to Machine Learning. KDD also tends to be more concerned with the entire process of data analytics: data preparation, model learning, evaluation, and so on.\n"
   ]
  },
  {
   "cell_type": "markdown",
   "metadata": {},
   "source": [
    "### Cross Industry Standard Process for Data Mining (CRISP-DM)"
   ]
  },
  {
   "cell_type": "markdown",
   "metadata": {},
   "source": [
    "The [Cross Industry Standard Process for Data Mining](https://en.wikipedia.org/wiki/Cross_Industry_Standard_Process_for_Data_Mining) introduced a process model for data mining in 2000 that has become widely adopted.\n",
    "\n",
    "<a href=\"https://en.wikipedia.org/wiki/Cross_Industry_Standard_Process_for_Data_Mining\"><img src=\"https://upload.wikimedia.org/wikipedia/commons/thumb/b/b9/CRISP-DM_Process_Diagram.png/479px-CRISP-DM_Process_Diagram.png\" title=\"Cross Industry Standard Process for Data Mining\" alt=\"CRISP-DM_Process_Diagram\" width=30%/></a>\n",
    "\n",
    "The model emphasizes the ***iterative*** nature of the data mining process, distinguishing several different stages that are regularly revisited in the course of developing and deploying data-driven solutions to business problems:\n",
    "\n",
    "* Business understanding\n",
    "* Data understanding\n",
    "* Data preparation\n",
    "* Modeling \n",
    "* Deployment\n",
    "\n",
    "We will be focusing primarily on using Python for **data preparation** and **modeling**."
   ]
  },
  {
   "cell_type": "markdown",
   "metadata": {},
   "source": [
    "### Data Science Workflow"
   ]
  },
  {
   "cell_type": "markdown",
   "metadata": {},
   "source": [
    "[Philip Guo](http://www.pgbovine.net/) presents a [Data Science Workflow](http://cacm.acm.org/blogs/blog-cacm/169199-data-science-workflow-overview-and-challenges/fulltext) offering a slightly different process model emhasizing the importance of **reflection** and some of the meta-data, data management and bookkeeping challenges that typically arise in the data science process. His 2012 PhD thesis, [Software Tools to Facilitate Research Programming](http://pgbovine.net/projects/pubs/guo_phd_dissertation.pdf), offers an insightful and more comprehensive description of many of these challenges.\n",
    "\n",
    "<a href=\"http://cacm.acm.org/blogs/blog-cacm/169199-data-science-workflow-overview-and-challenges/fulltext\"><img src=\"http://cacm.acm.org/system/assets/0001/3678/rp-overview.jpg\" title=\"Data Science Workflow, by Philip Guo\" alt=\"pguo-data-science-overview.jpg\" style=\"width: 500px\" /></a>"
   ]
  },
  {
   "cell_type": "markdown",
   "metadata": {},
   "source": [
    "Provost & Fawcett list a number of different tasks in which data science techniques are employed:\n",
    "\n",
    "* Classification and class probability estimation \n",
    "* Regression (aka value estimation) \n",
    "* Similarity matching \n",
    "* Clustering \n",
    "* Co-occurrence grouping (aka frequent itemset mining, association rule discovery, market-basket analysis) \n",
    "* Profiling (aka behavior description, fraud / anomaly detection) \n",
    "* Link prediction \n",
    "* Data reduction \n",
    "* Causal modeling \n",
    "\n",
    "We will be focusing primarily on **classification** and **class probability estimation** tasks, which are defined by Provost & Fawcett as follows:\n",
    "\n",
    "> *Classification* and *class probability estimation* attempt to predict, for each individual in a population, which of a (small) set of classes this individual belongs to. Usually the classes are mutually exclusive. An example classification question would be: “Among all the customers of MegaTelCo, which are likely to respond to a given offer?” In this example the two classes could be called will respond and will not respond.\n",
    "\n",
    "To further simplify this primer, we will focus exclusively on **supervised** methods, in which the data is explicitly labeled with classes. There are also *unsupervised* methods that involve working with data in which there are no pre-specified class labels."
   ]
  },
  {
   "cell_type": "markdown",
   "metadata": {},
   "source": [
    "### Supervised Classification"
   ]
  },
  {
   "cell_type": "markdown",
   "metadata": {},
   "source": [
    "The [Natural Language Toolkit (NLTK) book](http://www.nltk.org/book) provides a diagram and succinct description (below, with italics and bold added for emphasis) of supervised classification:\n",
    "\n",
    "<a href=\"http://www.nltk.org/book/ch06.html\"><img src=\"http://www.nltk.org/images/supervised-classification.png\" title=\"Supervised Classification, from NLTK book, Chapter 6\" alt=\"nltk_ch06_supervised-classification.png\" style=\"width: 500px\" /></a>\n",
    "\n",
    "> *Supervised Classification*. (a) During *training*, a **feature extractor** is used to convert each **input value** to a **feature set**. These feature sets, which capture the basic information about each input that should be used to classify it, are discussed in the next section. Pairs of feature sets and **labels** are fed into the **machine learning algorithm** to generate a **model**. (b) During *prediction*, the same feature extractor is used to convert **unseen inputs** to feature sets. These feature sets are then fed into the model, which generates **predicted labels**."
   ]
  },
  {
   "cell_type": "markdown",
   "metadata": {},
   "source": [
    "### Data Mining Terminology"
   ]
  },
  {
   "cell_type": "markdown",
   "metadata": {},
   "source": [
    "* **Structured** data has simple, well-defined patterns (e.g., a table or graph)\n",
    "* **Unstructured** data has less well-defined patterns (e.g., text, images)\n",
    "* **Model**: a pattern that captures / generalizes regularities in data (e.g., an equation, set of rules, decision tree)\n",
    "* **Attribute** (aka *variable*, *feature*, *signal*, *column*): an element used in a model\n",
    "* **Instance** (aka *example*, *feature vector*, *row*): a representation of a single entity being modeled\n",
    "* **Target attribute** (aka *dependent variable*, *class label*): the class / type / category of an entity being modeled"
   ]
  },
  {
   "cell_type": "markdown",
   "metadata": {},
   "source": [
    "### Data Mining Example: UCI Mushroom dataset"
   ]
  },
  {
   "cell_type": "markdown",
   "metadata": {},
   "source": [
    "The [Center for Machine Learning and Intelligent Systems](http://cml.ics.uci.edu/) at the University of California, Irvine (UCI), hosts a  [Machine Learning Repository](https://archive.ics.uci.edu/ml/datasets.html) containing over 200 publicly available data sets.\n",
    "\n",
    "<a href=\"https://archive.ics.uci.edu/ml/datasets/Mushroom\"><img src=\"https://archive.ics.uci.edu/ml/assets/MLimages/Large73.jpg\"  style=\"margin: 0px 0px 5px 20px; width: 125px; float: right;\" title=\"Mushrooms from Agaricus and Lepiota Family\" alt=\"mushroom\"/></a>\n",
    "We will use the [mushroom](https://archive.ics.uci.edu/ml/datasets/Mushroom) data set, which forms the basis of several examples in Chapter 3 of the Provost & Fawcett data science book.\n",
    "\n",
    "The following description of the dataset is provided at the UCI repository:\n",
    "\n",
    ">This data set includes descriptions of hypothetical samples corresponding to 23 species of gilled mushrooms in the Agaricus and Lepiota Family (pp. 500-525 [The Audubon Society Field Guide to North American Mushrooms, 1981]). Each species is identified as definitely edible, definitely poisonous, or of unknown edibility and not recommended. This latter class was combined with the poisonous one. The Guide clearly states that there is no simple rule for determining the edibility of a mushroom; no rule like leaflets three, let it be'' for Poisonous Oak and Ivy.\n",
    "> \n",
    "> **Number of Instances**: 8124\n",
    "> \n",
    "> **Number of Attributes**: 22 (all nominally valued)\n",
    "> \n",
    "> **Attribute Information**: (*classes*: edible=e, poisonous=p)\n",
    "> \n",
    "> 1. *cap-shape*: bell=b, conical=c, convex=x, flat=f, knobbed=k, sunken=s\n",
    "> 2. *cap-surface*: fibrous=f, grooves=g, scaly=y, smooth=s\n",
    "> 3. *cap-color*: brown=n ,buff=b, cinnamon=c, gray=g, green=r, pink=p, purple=u, red=e, white=w, yellow=y\n",
    "> 4. *bruises?*: bruises=t, no=f\n",
    "> 5. *odor*: almond=a, anise=l, creosote=c, fishy=y, foul=f, musty=m, none=n, pungent=p, spicy=s\n",
    "> 6. *gill-attachment*: attached=a, descending=d, free=f, notched=n\n",
    "> 7. *gill-spacing*: close=c, crowded=w, distant=d\n",
    "> 8. *gill-size*: broad=b, narrow=n\n",
    "> 9. *gill-color*: black=k, brown=n, buff=b, chocolate=h, gray=g, green=r, orange=o, pink=p, purple=u, red=e, white=w, yellow=y\n",
    "> 10. *stalk-shape*: enlarging=e, tapering=t\n",
    "> 11. *stalk-root*: bulbous=b, club=c, cup=u, equal=e, rhizomorphs=z, rooted=r, missing=?\n",
    "> 12. *stalk-surface-above-ring*: fibrous=f, scaly=y, silky=k, smooth=s\n",
    "> 13. *stalk-surface-below-ring*: fibrous=f, scaly=y, silky=k, smooth=s\n",
    "> 14. *stalk-color-above-ring*: brown=n, buff=b, cinnamon=c, gray=g, orange=o, pink=p, red=e, white=w, yellow=y\n",
    "> 15. *stalk-color-below-ring*: brown=n, buff=b, cinnamon=c, gray=g, orange=o, pink=p, red=e, white=w, yellow=y\n",
    "> 16. *veil-type*: partial=p, universal=u\n",
    "> 17. *veil-color*: brown=n, orange=o, white=w, yellow=y\n",
    "> 18. *ring-number*: none=n, one=o, two=t\n",
    "> 19. *ring-type*: cobwebby=c, evanescent=e, flaring=f, large=l, none=n, pendant=p, sheathing=s, zone=z\n",
    "> 20. *spore-print-color*: black=k, brown=n, buff=b, chocolate=h, green=r, orange=o, purple=u, white=w, yellow=y\n",
    "> 21. *population*: abundant=a, clustered=c, numerous=n, scattered=s, several=v, solitary=y\n",
    "> 22. *habitat*: grasses=g, leaves=l, meadows=m, paths=p, urban=u, waste=w, woods=d\n",
    "> \n",
    "> **Missing Attribute Values**: 2480 of them (denoted by \"?\"), all for attribute #11.\n",
    "> \n",
    "> **Class Distribution**: -- edible: 4208 (51.8%) -- poisonous: 3916 (48.2%) -- total: 8124 instances\n",
    "\n",
    "The [data file](https://archive.ics.uci.edu/ml/machine-learning-databases/mushroom/agaricus-lepiota.data) associated with this dataset has one instance of a hypothetical mushroom per line, with abbreviations for the values of the class and each of the other 22 attributes separated by commas.\n",
    "\n",
    "Here is a sample line from the data file:\n",
    "\n",
    "p,k,f,n,f,n,f,c,n,w,e,?,k,y,w,n,p,w,o,e,w,v,d\n",
    "\n",
    "This instance represents a mushroom with the following attribute values (highlighted in **bold**):\n",
    "\n",
    "*class*: edible=e, **poisonous=p**\n",
    "\n",
    "1. *cap-shape*: bell=b, conical=c, convex=x, flat=f, **knobbed=k**, sunken=s\n",
    "2. *cap-surface*: **fibrous=f**, grooves=g, scaly=y, smooth=s\n",
    "3. *cap-color*: **brown=n** ,buff=b, cinnamon=c, gray=g, green=r, pink=p, purple=u, red=e, white=w, yellow=y\n",
    "4. *bruises?*: bruises=t, **no=f**\n",
    "5. *odor*: almond=a, anise=l, creosote=c, fishy=y, foul=f, musty=m, **none=n**, pungent=p, spicy=s\n",
    "6. *gill-attachment*: attached=a, descending=d, **free=f**, notched=n\n",
    "7. *gill-spacing*: **close=c**, crowded=w, distant=d\n",
    "8. *gill-size*: broad=b, **narrow=n**\n",
    "9. *gill-color*: black=k, brown=n, buff=b, chocolate=h, gray=g, green=r, orange=o, pink=p, purple=u, red=e, **white=w**, yellow=y\n",
    "10. *stalk-shape*: **enlarging=e**, tapering=t\n",
    "11. *stalk-root*: bulbous=b, club=c, cup=u, equal=e, rhizomorphs=z, rooted=r, **missing=?**\n",
    "12. *stalk-surface-above-ring*: fibrous=f, scaly=y, **silky=k**, smooth=s\n",
    "13. *stalk-surface-below-ring*: fibrous=f, **scaly=y**, silky=k, smooth=s\n",
    "14. *stalk-color-above-ring*: brown=n, buff=b, cinnamon=c, gray=g, orange=o, pink=p, red=e, **white=w**, yellow=y\n",
    "15. *stalk-color-below-ring*: **brown=n**, buff=b, cinnamon=c, gray=g, orange=o, pink=p, red=e, white=w, yellow=y\n",
    "16. *veil-type*: **partial=p**, universal=u\n",
    "17. *veil-color*: brown=n, orange=o, **white=w**, yellow=y\n",
    "18. *ring-number*: none=n, **one=o**, two=t\n",
    "19. *ring-type*: cobwebby=c, **evanescent=e**, flaring=f, large=l, none=n, pendant=p, sheathing=s, zone=z\n",
    "20. *spore-print-color*: black=k, brown=n, buff=b, chocolate=h, green=r, orange=o, purple=u, **white=w**, yellow=y\n",
    "21. *population*: abundant=a, clustered=c, numerous=n, scattered=s, **several=v**, solitary=y\n",
    "22. *habitat*: grasses=g, leaves=l, meadows=m, paths=p, urban=u, waste=w, **woods=d**\n",
    "\n",
    "Building a model with this data set will serve as a motivating example throughout much of this primer."
   ]
  },
  {
   "cell_type": "markdown",
   "metadata": {},
   "source": [
    "## 3. Python: Basic Concepts"
   ]
  },
  {
   "cell_type": "markdown",
   "metadata": {},
   "source": [
    "### *A note on Python 2 vs. Python 3*"
   ]
  },
  {
   "cell_type": "markdown",
   "metadata": {},
   "source": [
    "There are 2 major versions of Python in widespread use: [Python 2](https://docs.python.org/2/) and [Python 3](https://docs.python.org/3/). Python 3 has some features that are not backward compatible with Python 2, and some Python 2 libraries have not been updated to work with Python 3. I have been using Python 2, primarily because I use some of those Python 2[-only] libraries, but an increasing proportion of them are migrating to Python 3, and I anticipate shifting to Python 3 in the near future.\n",
    "\n",
    "For more on the topic, I recommend a very well documented IPython Notebook, which includes numerous helpful examples and links, by [Sebastian Raschka](http://sebastianraschka.com/), [Key differences between Python 2.7.x and Python 3.x](http://nbviewer.ipython.org/github/rasbt/python_reference/blob/master/tutorials/key_differences_between_python_2_and_3.ipynb), the [Cheat Sheet: Writing Python 2-3 compatible code](http://python-future.org/compatible_idioms.html) by Ed Schofield ... or [googling Python 2 vs 3](https://www.google.com/q=python%202%20vs%203).\n",
    "\n",
    "Minor changes in this notebook would enable it to run with Python 2 *or* Python 3: importing the `print_function` from the  [**`__future__`**](https://docs.python.org/2/library/__future__.html) module, and changing the [`print` *statements* (Python 2)](https://docs.python.org/2/reference/simple_stmts.html#print) to [`print` *function calls* (Python 3)](https://docs.python.org/3/library/functions.html#print). Although a relatively minor conceptual change, it necessitated the changing of many individual cells to reflect the Python 3 `print` syntax. \n",
    "\n",
    "I decided to import the `division` module from the `future`, as I find [the use of `/` for \"true division\"](https://www.python.org/dev/peps/pep-0238/) - and the use of `//` for \"floor division\" - to be more aligned with my intuition. I also needed to replace a few functions that are no longer available in Python 3 with related functions that are available in both versions; I've added notes in nearby cells where the incompatible functions were removed explaining why they are related ... and no longer available. \n",
    "\n",
    "The differences are briefly illustrated below, with print statements or function calls before and after the importing of the Python 3 versions of the print function and division operator."
   ]
  },
  {
   "cell_type": "code",
   "execution_count": 4,
   "metadata": {},
   "outputs": [
    {
     "name": "stdout",
     "output_type": "stream",
     "text": [
      "1 / 2 = 0.5\n"
     ]
    }
   ],
   "source": [
    "print(1, \"/\", 2, \"=\", 1 / 2)"
   ]
  },
  {
   "cell_type": "code",
   "execution_count": 5,
   "metadata": {},
   "outputs": [
    {
     "data": {
      "text/plain": [
       "'/Users/shahrukh'"
      ]
     },
     "execution_count": 5,
     "metadata": {},
     "output_type": "execute_result"
    }
   ],
   "source": [
    "import os\n",
    "os.getcwd()"
   ]
  },
  {
   "cell_type": "markdown",
   "metadata": {},
   "source": [
    "### Names (identifiers), strings & binding values to names (assignment)"
   ]
  },
  {
   "cell_type": "markdown",
   "metadata": {},
   "source": [
    "The sample instance of a mushroom shown above can be represented as a string. \n",
    "\n",
    "A Python ***string* ([`str`](http://docs.python.org/2/tutorial/introduction.html#strings))** is a sequence of 0 or more characters enclosed within a pair of single quotes (`'`) or a pair of double quotes (`\"`). "
   ]
  },
  {
   "cell_type": "code",
   "execution_count": 6,
   "metadata": {},
   "outputs": [
    {
     "data": {
      "text/plain": [
       "'p,k,f,n,f,n,f,c,n,w,e,?,k,y,w,n,p,w,o,e,w,v,d'"
      ]
     },
     "execution_count": 6,
     "metadata": {},
     "output_type": "execute_result"
    }
   ],
   "source": [
    "'p,k,f,n,f,n,f,c,n,w,e,?,k,y,w,n,p,w,o,e,w,v,d'"
   ]
  },
  {
   "cell_type": "markdown",
   "metadata": {},
   "source": [
    "Python [*identifiers*](http://docs.python.org/2/reference/lexical_analysis.html#identifiers) (or [*names*](https://docs.python.org/2/reference/executionmodel.html#naming-and-binding)) are composed of letters, numbers and/or underscores ('`_`'), starting with a letter or underscore. Python identifiers are case sensitive. Although camelCase identifiers can be used, it is generally considered more [pythonic](http://python.net/~goodger/projects/pycon/2007/idiomatic/handout.html) to use underscores. Python variables and functions typically start with lowercase letters; Python classes start with uppercase letters.\n",
    "\n",
    "The following [assignment statement](http://docs.python.org/2/reference/simple_stmts.html#assignment-statements) binds the value of the string shown above to the name `single_instance_str`. Typing the name on the subsequent line will cause the intepreter to print the value bound to that name."
   ]
  },
  {
   "cell_type": "code",
   "execution_count": 7,
   "metadata": {},
   "outputs": [
    {
     "data": {
      "text/plain": [
       "'p,k,f,n,f,n,f,c,n,w,e,?,k,y,w,n,p,w,o,e,w,v,d'"
      ]
     },
     "execution_count": 7,
     "metadata": {},
     "output_type": "execute_result"
    }
   ],
   "source": [
    "single_instance_str = 'p,k,f,n,f,n,f,c,n,w,e,?,k,y,w,n,p,w,o,e,w,v,d'\n",
    "single_instance_str"
   ]
  },
  {
   "cell_type": "markdown",
   "metadata": {},
   "source": [
    "### Printing"
   ]
  },
  {
   "cell_type": "markdown",
   "metadata": {},
   "source": [
    "The [**`print`**](https://docs.python.org/3/library/functions.html#print) function writes the value of its comma-delimited arguments to [**`sys.stdout`**](http://docs.python.org/2/library/sys.html#sys.stdout) (typically the console). Each value in the output is separated by a single blank space. "
   ]
  },
  {
   "cell_type": "code",
   "execution_count": 8,
   "metadata": {},
   "outputs": [
    {
     "name": "stdout",
     "output_type": "stream",
     "text": [
      "A B C 1 2 3\n",
      "Instance 1: p,k,f,n,f,n,f,c,n,w,e,?,k,y,w,n,p,w,o,e,w,v,d\n"
     ]
    }
   ],
   "source": [
    "print('A', 'B', 'C', 1, 2, 3)\n",
    "print('Instance 1:', single_instance_str)"
   ]
  },
  {
   "cell_type": "markdown",
   "metadata": {},
   "source": [
    "The print function has an optional keyword argument, **`end`**. When this argument is used and its value does not include `'\\n'` (newline character), the output cursor will not advance to the next line."
   ]
  },
  {
   "cell_type": "code",
   "execution_count": 9,
   "metadata": {},
   "outputs": [
    {
     "name": "stdout",
     "output_type": "stream",
     "text": [
      "A B\n",
      "C\n",
      "A B...\n",
      "C\n",
      "A B C\n"
     ]
    }
   ],
   "source": [
    "print('A', 'B')  # no end argument\n",
    "print('C')\n",
    "print ('A', 'B', end='...\\n')  # end includes '\\n' --> output cursor advancees to next line\n",
    "print ('C')\n",
    "print('A', 'B', end=' ')  # end=' ' --> use a space rather than newline at the end of the line\n",
    "print('C')  # so that subsequent printed output will appear on same line"
   ]
  },
  {
   "cell_type": "markdown",
   "metadata": {},
   "source": [
    "### Comments"
   ]
  },
  {
   "cell_type": "markdown",
   "metadata": {},
   "source": [
    "The Python ***comment*** character is **`'#'`**: anything after `'#'` on the line is ignored by the Python interpreter. Use at least 2 blank spaces before an inline comment that appears on the same line as any code.\n",
    "\n",
    "***Multi-line strings*** can be used within code blocks to provide multi-line comments.\n",
    "\n",
    "Multi-line strings are delimited by pairs of triple quotes (**`'''`** or **`\"\"\"`**). Any newlines in the string will be represented as `'\\n'` characters in the string."
   ]
  },
  {
   "cell_type": "code",
   "execution_count": 10,
   "metadata": {},
   "outputs": [
    {
     "data": {
      "text/plain": [
       "'\\nThis is\\na mult-line\\nstring'"
      ]
     },
     "execution_count": 10,
     "metadata": {},
     "output_type": "execute_result"
    }
   ],
   "source": [
    "'''\n",
    "This is\n",
    "a mult-line\n",
    "string'''"
   ]
  },
  {
   "cell_type": "code",
   "execution_count": 11,
   "metadata": {},
   "outputs": [
    {
     "name": "stdout",
     "output_type": "stream",
     "text": [
      "Before comment\n",
      "After comment\n"
     ]
    }
   ],
   "source": [
    "print('Before comment')  # this is an inline comment\n",
    "'''\n",
    "This is\n",
    "a multi-line\n",
    "comment\n",
    "'''\n",
    "print('After comment')"
   ]
  },
  {
   "cell_type": "markdown",
   "metadata": {},
   "source": [
    "Multi-line strings can be printed, in which case the embedded newline (`'\\n'`) characters will be converted to newlines in the output."
   ]
  },
  {
   "cell_type": "code",
   "execution_count": 12,
   "metadata": {},
   "outputs": [
    {
     "name": "stdout",
     "output_type": "stream",
     "text": [
      "\n",
      "This is\n",
      "a mult-line\n",
      "string\n"
     ]
    }
   ],
   "source": [
    "print('''\n",
    "This is\n",
    "a mult-line\n",
    "string''')"
   ]
  },
  {
   "cell_type": "markdown",
   "metadata": {},
   "source": [
    "### Lists"
   ]
  },
  {
   "cell_type": "markdown",
   "metadata": {},
   "source": [
    "A [**`list`**](http://docs.python.org/2/tutorial/introduction.html#lists) is an ordered ***sequence*** of 0 or more comma-delimited elements enclosed within square brackets ('`[`', '`]`'). The Python [**`str.split(sep)`**](http://docs.python.org/2/library/stdtypes.html#str.split) method can be used to split a `sep`-delimited string into a corresponding list of elements.\n",
    "\n",
    "In the following example, a comma-delimited string is split using `sep=','`."
   ]
  },
  {
   "cell_type": "code",
   "execution_count": 13,
   "metadata": {},
   "outputs": [
    {
     "name": "stdout",
     "output_type": "stream",
     "text": [
      "['p', 'k', 'f', 'n', 'f', 'n', 'f', 'c', 'n', 'w', 'e', '?', 'k', 'y', 'w', 'n', 'p', 'w', 'o', 'e', 'w', 'v', 'd']\n"
     ]
    }
   ],
   "source": [
    "single_instance_list = single_instance_str.split(',')\n",
    "print(single_instance_list)"
   ]
  },
  {
   "cell_type": "markdown",
   "metadata": {},
   "source": [
    "Python lists are *heterogeneous*, i.e., they can contain elements of different types."
   ]
  },
  {
   "cell_type": "code",
   "execution_count": 14,
   "metadata": {},
   "outputs": [
    {
     "name": "stdout",
     "output_type": "stream",
     "text": [
      "['a', 1, 2.3, True, [1, 'b']]\n"
     ]
    }
   ],
   "source": [
    "mixed_list = ['a', 1, 2.3, True, [1, 'b']]\n",
    "print(mixed_list)"
   ]
  },
  {
   "cell_type": "markdown",
   "metadata": {},
   "source": [
    "The Python **`+`** operator can be used for addition, and also to concatenate strings and lists."
   ]
  },
  {
   "cell_type": "code",
   "execution_count": 15,
   "metadata": {},
   "outputs": [
    {
     "name": "stdout",
     "output_type": "stream",
     "text": [
      "6\n",
      "abc\n",
      "['a', 1, 2.3, True, [1, 'b']]\n"
     ]
    }
   ],
   "source": [
    "print(1 + 2 + 3)\n",
    "print('a' + 'b' + 'c')\n",
    "print(['a', 1] + [2.3, True] + [[1, 'b']])"
   ]
  },
  {
   "cell_type": "markdown",
   "metadata": {},
   "source": [
    "### Accessing sequence elements & subsequences "
   ]
  },
  {
   "cell_type": "markdown",
   "metadata": {},
   "source": [
    "Individual elements of [*sequences*](http://docs.python.org/2/library/stdtypes.html#typesseq) (e.g., lists and strings) can be accessed by specifying their *zero-based index position* within square brackets ('`[`', '`]`').\n",
    "\n",
    "The following statements print out the 3rd element - at zero-based index position 2 - of `single_instance_str` and `single_instance_list`.\n",
    "\n",
    "Note that the 3rd elements are not the same, as commas count as elements in the string, but not in the list created by splitting a comma-delimited string."
   ]
  },
  {
   "cell_type": "code",
   "execution_count": 16,
   "metadata": {},
   "outputs": [
    {
     "name": "stdout",
     "output_type": "stream",
     "text": [
      "p,k,f,n,f,n,f,c,n,w,e,?,k,y,w,n,p,w,o,e,w,v,d\n",
      "k\n",
      "['p', 'k', 'f', 'n', 'f', 'n', 'f', 'c', 'n', 'w', 'e', '?', 'k', 'y', 'w', 'n', 'p', 'w', 'o', 'e', 'w', 'v', 'd']\n",
      "f\n"
     ]
    }
   ],
   "source": [
    "print(single_instance_str)\n",
    "print(single_instance_str[2])\n",
    "print(single_instance_list)\n",
    "print(single_instance_list[2])"
   ]
  },
  {
   "cell_type": "markdown",
   "metadata": {},
   "source": [
    "*Negative index values* can be used to specify a position offset from the end of the sequence.\n",
    "\n",
    "It is often useful to use a `-1` index value to access the last element of a sequence."
   ]
  },
  {
   "cell_type": "code",
   "execution_count": 17,
   "metadata": {},
   "outputs": [
    {
     "name": "stdout",
     "output_type": "stream",
     "text": [
      "p,k,f,n,f,n,f,c,n,w,e,?,k,y,w,n,p,w,o,e,w,v,d\n",
      "d\n",
      ",\n"
     ]
    }
   ],
   "source": [
    "print(single_instance_str)\n",
    "print(single_instance_str[-1])\n",
    "print(single_instance_str[-2])"
   ]
  },
  {
   "cell_type": "code",
   "execution_count": 18,
   "metadata": {},
   "outputs": [
    {
     "name": "stdout",
     "output_type": "stream",
     "text": [
      "['p', 'k', 'f', 'n', 'f', 'n', 'f', 'c', 'n', 'w', 'e', '?', 'k', 'y', 'w', 'n', 'p', 'w', 'o', 'e', 'w', 'v', 'd']\n",
      "d\n",
      "v\n"
     ]
    }
   ],
   "source": [
    "print(single_instance_list)\n",
    "print(single_instance_list[-1])\n",
    "print(single_instance_list[-2])"
   ]
  },
  {
   "cell_type": "markdown",
   "metadata": {},
   "source": [
    "The Python ***slice notation*** can be used to access subsequences by specifying two index positions separated by a colon (':'); `seq[start:stop]` returns all the elements in `seq` between `start` and `stop - 1` (inclusive)."
   ]
  },
  {
   "cell_type": "code",
   "execution_count": 19,
   "metadata": {},
   "outputs": [
    {
     "name": "stdout",
     "output_type": "stream",
     "text": [
      "k,\n",
      "['f', 'n']\n"
     ]
    }
   ],
   "source": [
    "print(single_instance_str[2:4])\n",
    "print(single_instance_list[2:4])"
   ]
  },
  {
   "cell_type": "markdown",
   "metadata": {},
   "source": [
    "Slices index values can be negative."
   ]
  },
  {
   "cell_type": "code",
   "execution_count": 20,
   "metadata": {},
   "outputs": [
    {
     "name": "stdout",
     "output_type": "stream",
     "text": [
      ",v\n",
      "['e', 'w']\n"
     ]
    }
   ],
   "source": [
    "print(single_instance_str[-4:-2])\n",
    "print(single_instance_list[-4:-2])"
   ]
  },
  {
   "cell_type": "markdown",
   "metadata": {},
   "source": [
    "The `start` and/or `stop` index can be omitted. A common use of slices with a single index value is to access all but the first element or all but the last element of a sequence."
   ]
  },
  {
   "cell_type": "code",
   "execution_count": 21,
   "metadata": {},
   "outputs": [
    {
     "name": "stdout",
     "output_type": "stream",
     "text": [
      "p,k,f,n,f,n,f,c,n,w,e,?,k,y,w,n,p,w,o,e,w,v,d\n",
      "p,k,f,n,f,n,f,c,n,w,e,?,k,y,w,n,p,w,o,e,w,v,\n",
      "p,k,f,n,f,n,f,c,n,w,e,?,k,y,w,n,p,w,o,e,w,v\n",
      ",k,f,n,f,n,f,c,n,w,e,?,k,y,w,n,p,w,o,e,w,v,d\n",
      "k,f,n,f,n,f,c,n,w,e,?,k,y,w,n,p,w,o,e,w,v,d\n"
     ]
    }
   ],
   "source": [
    "print(single_instance_str)\n",
    "print(single_instance_str[:-1])  # all but the last \n",
    "print(single_instance_str[:-2])  # all but the last 2 \n",
    "print(single_instance_str[1:])  # all but the first\n",
    "print(single_instance_str[2:])  # all but the first 2"
   ]
  },
  {
   "cell_type": "code",
   "execution_count": 22,
   "metadata": {},
   "outputs": [
    {
     "name": "stdout",
     "output_type": "stream",
     "text": [
      "['p', 'k', 'f', 'n', 'f', 'n', 'f', 'c', 'n', 'w', 'e', '?', 'k', 'y', 'w', 'n', 'p', 'w', 'o', 'e', 'w', 'v', 'd']\n",
      "['p', 'k', 'f', 'n', 'f', 'n', 'f', 'c', 'n', 'w', 'e', '?', 'k', 'y', 'w', 'n', 'p', 'w', 'o', 'e', 'w', 'v']\n",
      "['k', 'f', 'n', 'f', 'n', 'f', 'c', 'n', 'w', 'e', '?', 'k', 'y', 'w', 'n', 'p', 'w', 'o', 'e', 'w', 'v', 'd']\n"
     ]
    }
   ],
   "source": [
    "print(single_instance_list)\n",
    "print(single_instance_list[:-1])\n",
    "print(single_instance_list[1:])"
   ]
  },
  {
   "cell_type": "markdown",
   "metadata": {},
   "source": [
    "Slice notation includes an optional third element, `step`, as in `seq[start:stop:step]`, that specifies the steps or increments by which elements are retrieved from `seq` between `start` and `step - 1`:"
   ]
  },
  {
   "cell_type": "code",
   "execution_count": 23,
   "metadata": {},
   "outputs": [
    {
     "name": "stdout",
     "output_type": "stream",
     "text": [
      "p,k,f,n,f,n,f,c,n,w,e,?,k,y,w,n,p,w,o,e,w,v,d\n",
      "pkfnfnfcnwe?kywnpwoewvd\n",
      ",,,,,,,,,,,,,,,,,,,,,,\n",
      "d,v,w,e,o,w,p,n,w,y,k,?,e,w,n,c,f,n,f,n,f,k,p\n"
     ]
    }
   ],
   "source": [
    "print(single_instance_str)\n",
    "print(single_instance_str[::2])  # print elements in even-numbered positions\n",
    "print(single_instance_str[1::2])  # print elements in odd-numbered positions\n",
    "print(single_instance_str[::-1])  # print elements in reverse order"
   ]
  },
  {
   "cell_type": "markdown",
   "metadata": {},
   "source": [
    "The [Python tutorial](http://docs.python.org/2/tutorial/introduction.html) offers a helpful ASCII art representation to show how positive and negative indexes are interpreted:\n",
    "\n",
    "<pre>\n",
    " +---+---+---+---+---+\n",
    " | H | e | l | p | A |\n",
    " +---+---+---+---+---+\n",
    " 0   1   2   3   4   5\n",
    "-5  -4  -3  -2  -1\n",
    "</pre>"
   ]
  },
  {
   "cell_type": "markdown",
   "metadata": {},
   "source": [
    "### Splitting / separating statements"
   ]
  },
  {
   "cell_type": "markdown",
   "metadata": {},
   "source": [
    "Python statements are typically separated by newlines (rather than, say, the semi-colon in Java). Statements can extend over more than one line; it is generally best to break the lines after commas, parentheses, braces or brackets. Inserting a backslash character ('\\\\') at the end of a line will also enable continuation of the statement on the next line, but it is generally best to look for other alternatives."
   ]
  },
  {
   "cell_type": "code",
   "execution_count": 24,
   "metadata": {},
   "outputs": [
    {
     "name": "stdout",
     "output_type": "stream",
     "text": [
      "['class', 'cap-shape', 'cap-surface', 'cap-color', 'bruises?', 'odor', 'gill-attachment', 'gill-spacing', 'gill-size', 'gill-color', 'stalk-shape', 'stalk-root', 'stalk-surface-above-ring', 'stalk-surface-below-ring', 'stalk-color-above-ring', 'stalk-color-below-ring', 'veil-type', 'veil-color', 'ring-number', 'ring-type', 'spore-print-color', 'population', 'habitat']\n"
     ]
    }
   ],
   "source": [
    "attribute_names = ['class', \n",
    "                   'cap-shape', 'cap-surface', 'cap-color', \n",
    "                   'bruises?', \n",
    "                   'odor', \n",
    "                   'gill-attachment', 'gill-spacing', 'gill-size', 'gill-color', \n",
    "                   'stalk-shape', 'stalk-root', \n",
    "                   'stalk-surface-above-ring', 'stalk-surface-below-ring', \n",
    "                   'stalk-color-above-ring', 'stalk-color-below-ring',\n",
    "                   'veil-type', 'veil-color', \n",
    "                   'ring-number', 'ring-type', \n",
    "                   'spore-print-color', \n",
    "                   'population', \n",
    "                   'habitat']\n",
    "print(attribute_names)"
   ]
  },
  {
   "cell_type": "code",
   "execution_count": 25,
   "metadata": {},
   "outputs": [
    {
     "name": "stdout",
     "output_type": "stream",
     "text": [
      "a b c 1 2 3\n"
     ]
    }
   ],
   "source": [
    "print('a', 'b', 'c',  # no '\\' needed when breaking after comma\n",
    "      1, 2, 3)"
   ]
  },
  {
   "cell_type": "code",
   "execution_count": 26,
   "metadata": {},
   "outputs": [
    {
     "name": "stdout",
     "output_type": "stream",
     "text": [
      "a b c 1 2 3\n"
     ]
    }
   ],
   "source": [
    "print(  # no '\\' needed when breaking after parenthesis, brace or bracket\n",
    "    'a', 'b', 'c',\n",
    "    1, 2, 3)"
   ]
  },
  {
   "cell_type": "code",
   "execution_count": 27,
   "metadata": {},
   "outputs": [
    {
     "name": "stdout",
     "output_type": "stream",
     "text": [
      "6\n"
     ]
    }
   ],
   "source": [
    "print(1 + 2 \\\n",
    "      + 3)"
   ]
  },
  {
   "cell_type": "markdown",
   "metadata": {},
   "source": [
    "### Processing strings & other sequences"
   ]
  },
  {
   "cell_type": "markdown",
   "metadata": {},
   "source": [
    "The [**`str.strip([chars]`**)](http://docs.python.org/2/library/stdtypes.html#str.strip) method returns a copy of `str` in which any leading or trailing `chars` are removed. If no `chars` are specified, it removes all leading and trailing whitespace. [*Whitespace* is any sequence of spaces, tabs (`'\\t'`) and/or newline (`'\\n'`) characters.] \n",
    "\n",
    "Note that since a blank space is inserted in the output after every item in a comma-delimited list, the second asterisk below is printed after a leading blank space is inserted on the new line."
   ]
  },
  {
   "cell_type": "code",
   "execution_count": 28,
   "metadata": {},
   "outputs": [
    {
     "name": "stdout",
     "output_type": "stream",
     "text": [
      "* \tp,k,f,n,f,n,f,c,n,w,e,?,k,y,w,n,p,w,o,e,w,v,d\n",
      " *\n"
     ]
    }
   ],
   "source": [
    "print('*', '\\tp,k,f,n,f,n,f,c,n,w,e,?,k,y,w,n,p,w,o,e,w,v,d\\n', '*')"
   ]
  },
  {
   "cell_type": "code",
   "execution_count": 29,
   "metadata": {},
   "outputs": [
    {
     "name": "stdout",
     "output_type": "stream",
     "text": [
      "* p,k,f,n,f,n,f,c,n,w,e,?,k,y,w,n,p,w,o,e,w,v,d *\n"
     ]
    }
   ],
   "source": [
    "print('*', '\\tp,k,f,n,f,n,f,c,n,w,e,?,k,y,w,n,p,w,o,e,w,v,d\\n'.strip(), '*')"
   ]
  },
  {
   "cell_type": "code",
   "execution_count": 30,
   "metadata": {},
   "outputs": [
    {
     "name": "stdout",
     "output_type": "stream",
     "text": [
      "* p,k,f,n,f,n,f,c,n,w,e,       ?,k,y\t,w,n,p,w\n",
      ",o,e,w,v,d *\n"
     ]
    }
   ],
   "source": [
    "print('*', '\\tp,k,f,n,f,n,f,c,n,w,e,       ?,k,y\\t,w,n,p,w\\n,o,e,w,v,d\\n'.strip(), '*')"
   ]
  },
  {
   "cell_type": "markdown",
   "metadata": {},
   "source": [
    "A common programming pattern when dealing with CSV (comma-separated value) files, such as the mushroom dataset file mentioned above, is to repeatedly:\n",
    "\n",
    "1. read a line from a file\n",
    "2. strip off any leading and trailing whitespace\n",
    "3. split the values separated by commas into a list\n",
    "\n",
    "We will get to repetition control structures (loops) and file input and output shortly, but here is an example of how `str.strip()` and `str.split()` be chained together in a single instruction for processing a line representing a single instance from the mushroom dataset file. Note that chained methods are executed in left-to-right order.\n",
    "\n",
    "*\\[Python provides a **[`csv`](https://docs.python.org/2/library/csv.html)** module to facilitate the processing of CSV files, but we will not use that module here\\]*"
   ]
  },
  {
   "cell_type": "code",
   "execution_count": 31,
   "metadata": {},
   "outputs": [
    {
     "name": "stdout",
     "output_type": "stream",
     "text": [
      "p,k,f,n,f,n,f,c,n,w,e,?,k,y,w,n,p,w,o,e,w,v,d\n",
      "['p', 'k', 'f', 'n', 'f', 'n', 'f', 'c', 'n', 'w', 'e', '?', 'k', 'y', 'w', 'n', 'p', 'w', 'o', 'e', 'w', 'v', 'd']\n"
     ]
    }
   ],
   "source": [
    "single_instance_str = 'p,k,f,n,f,n,f,c,n,w,e,?,k,y,w,n,p,w,o,e,w,v,d'\n",
    "print(single_instance_str)\n",
    "# first strip leading & trailing whitespace, then split on commas\n",
    "single_instance_list = single_instance_str.split(',')  \n",
    "print(single_instance_list)"
   ]
  },
  {
   "cell_type": "markdown",
   "metadata": {},
   "source": [
    "The [**`str.join(words)`**](http://docs.python.org/2/library/string.html#string.join) method is the inverse of `str.split()`, returning a single string in which each string in the sequence of `words` is separated by `str`."
   ]
  },
  {
   "cell_type": "code",
   "execution_count": 32,
   "metadata": {},
   "outputs": [
    {
     "name": "stdout",
     "output_type": "stream",
     "text": [
      "['p', 'k', 'f', 'n', 'f', 'n', 'f', 'c', 'n', 'w', 'e', '?', 'k', 'y', 'w', 'n', 'p', 'w', 'o', 'e', 'w', 'v', 'd']\n",
      "p,k,f,n,f,n,f,c,n,w,e,?,k,y,w,n,p,w,o,e,w,v,d\n"
     ]
    }
   ],
   "source": [
    "print(single_instance_list)\n",
    "print(','.join(single_instance_list))"
   ]
  },
  {
   "cell_type": "markdown",
   "metadata": {},
   "source": [
    "A number of Python methods can be used on strings, lists and other sequences.\n",
    "\n",
    "The [**`len(s)`**](http://docs.python.org/2/library/functions.html#len) function can be used to find the length of (number of items in) a sequence `s`.  It will also return the number of items in a *dictionary*, a data structure we will cover further below."
   ]
  },
  {
   "cell_type": "code",
   "execution_count": 33,
   "metadata": {},
   "outputs": [
    {
     "name": "stdout",
     "output_type": "stream",
     "text": [
      "45\n",
      "23\n"
     ]
    }
   ],
   "source": [
    "print(len(single_instance_str))\n",
    "print(len(single_instance_list))"
   ]
  },
  {
   "cell_type": "markdown",
   "metadata": {},
   "source": [
    "The **`in`** operator can be used to determine whether a sequence contains a value. \n",
    "\n",
    "Boolean values in Python are **`True`** and **`False`** (note the capitalization)."
   ]
  },
  {
   "cell_type": "code",
   "execution_count": 34,
   "metadata": {},
   "outputs": [
    {
     "name": "stdout",
     "output_type": "stream",
     "text": [
      "True\n",
      "False\n"
     ]
    }
   ],
   "source": [
    "print(',' in single_instance_str)\n",
    "print(',' in single_instance_list)"
   ]
  },
  {
   "cell_type": "markdown",
   "metadata": {},
   "source": [
    "The [**`s.count(x)`**](http://docs.python.org/2/library/stdtypes.html#str.count) ormethod can be used to count the number of occurrences of item `x` in sequence `s`."
   ]
  },
  {
   "cell_type": "code",
   "execution_count": 35,
   "metadata": {},
   "outputs": [
    {
     "name": "stdout",
     "output_type": "stream",
     "text": [
      "22\n",
      "3\n"
     ]
    }
   ],
   "source": [
    "print(single_instance_str.count(','))\n",
    "print(single_instance_list.count('f'))"
   ]
  },
  {
   "cell_type": "markdown",
   "metadata": {},
   "source": [
    "The [**`s.index(x)`**](http://docs.python.org/2/library/stdtypes.html#str.index) method can be used to find the first zero-based index of item `x` in sequence `s`. "
   ]
  },
  {
   "cell_type": "code",
   "execution_count": 36,
   "metadata": {
    "scrolled": true
   },
   "outputs": [
    {
     "name": "stdout",
     "output_type": "stream",
     "text": [
      "1\n",
      "2\n"
     ]
    }
   ],
   "source": [
    "print(single_instance_str.index(','))\n",
    "print(single_instance_list.index('f'))"
   ]
  },
  {
   "cell_type": "markdown",
   "metadata": {},
   "source": [
    "Note that an [`ValueError`](https://docs.python.org/2/library/exceptions.html#exceptions.ValueError) exception will be raised if item `x` is not found in sequence `s`."
   ]
  },
  {
   "cell_type": "code",
   "execution_count": 37,
   "metadata": {
    "scrolled": true
   },
   "outputs": [],
   "source": [
    "# print(single_instance_list.index('o'))#FIXED BY selecting a letter in the list\n",
    "#Remove the two exception-handling examples in the file(Number 1)\""
   ]
  },
  {
   "cell_type": "markdown",
   "metadata": {},
   "source": [
    "### Mutability"
   ]
  },
  {
   "cell_type": "markdown",
   "metadata": {},
   "source": [
    "One important distinction between strings and lists has to do with their [*mutability*](http://docs.python.org/2/reference/datamodel.html).\n",
    "\n",
    "Python strings are *immutable*, i.e., they cannot be modified. Most string methods (like `str.strip()`) return modified *copies* of the strings on which they are used.\n",
    "\n",
    "Python lists are *mutable*, i.e., they can be modified. \n",
    "\n",
    "The examples below illustrate a number of [`list`](http://docs.python.org/2/tutorial/datastructures.html#more-on-lists) methods that modify lists."
   ]
  },
  {
   "cell_type": "code",
   "execution_count": 38,
   "metadata": {},
   "outputs": [
    {
     "name": "stdout",
     "output_type": "stream",
     "text": [
      "list_1:              [1, 2, 3, 5, 1]\n",
      "list_2:              [1, 2, 3, 5, 1]\n",
      "\n",
      "list_1.remove(1):    [2, 3, 5, 1]\n",
      "\n",
      "list_1.pop(2):       [2, 3, 1]\n",
      "\n",
      "list_1.append(6):    [2, 3, 1, 6]\n",
      "\n",
      "list_1.insert(0, 7): [7, 2, 3, 1, 6]\n",
      "\n",
      "list_1.sort():       [1, 2, 3, 6, 7]\n",
      "\n",
      "list_1.reverse():    [7, 6, 3, 2, 1]\n"
     ]
    }
   ],
   "source": [
    "list_1 = [1, 2, 3, 5, 1]\n",
    "list_2 = list_1  # list_2 now references the same object as list_1\n",
    "\n",
    "print('list_1:             ', list_1)\n",
    "print('list_2:             ', list_2)\n",
    "print()\n",
    "\n",
    "list_1.remove(1)  # remove [only] the first occurrence of 1 in list_1\n",
    "print('list_1.remove(1):   ', list_1)\n",
    "print()\n",
    "\n",
    "list_1.pop(2)  # remove the element in position 2\n",
    "print('list_1.pop(2):      ', list_1)\n",
    "print()\n",
    "\n",
    "list_1.append(6)  # add 6 to the end of list_1\n",
    "print('list_1.append(6):   ', list_1)\n",
    "print()\n",
    "\n",
    "list_1.insert(0, 7)  # add 7 to the beinning of list_1 (before the element in position 0)\n",
    "print('list_1.insert(0, 7):', list_1)\n",
    "print()\n",
    "\n",
    "list_1.sort()\n",
    "print('list_1.sort():      ', list_1)\n",
    "print()\n",
    "\n",
    "list_1.reverse()\n",
    "print('list_1.reverse():   ', list_1)"
   ]
  },
  {
   "cell_type": "markdown",
   "metadata": {},
   "source": [
    "When more than one name (e.g., a variable) is bound to the same mutable object, changes made to that object are reflected in all names bound to that object. For example, in the second statement above, `list_2` is bound to the same object that is bound to `list_1`. All changes made to the object bound to `list_1` will thus be reflected in `list_2` (since they both reference the same object)."
   ]
  },
  {
   "cell_type": "code",
   "execution_count": 39,
   "metadata": {},
   "outputs": [
    {
     "name": "stdout",
     "output_type": "stream",
     "text": [
      "list_1:           [7, 6, 3, 2, 1]\n",
      "list_2:           [7, 6, 3, 2, 1]\n"
     ]
    }
   ],
   "source": [
    "print('list_1:          ', list_1)\n",
    "print('list_2:          ', list_2)"
   ]
  },
  {
   "cell_type": "markdown",
   "metadata": {},
   "source": [
    "We can create a copy of a list by using slice notation and not specifying a `start` or `end` parameter, i.e., `[:]`, and if we assign that copy to another variable, the variables will be bound to different objects, so changes to one do not affect the other."
   ]
  },
  {
   "cell_type": "code",
   "execution_count": 40,
   "metadata": {},
   "outputs": [
    {
     "name": "stdout",
     "output_type": "stream",
     "text": [
      "list_1:              [1, 2, 3, 5, 1]\n",
      "list_2:              [1, 2, 3, 5, 1]\n",
      "\n",
      "list_1.remove(1):    [2, 3, 5, 1]\n",
      "\n",
      "list_1:           [2, 3, 5, 1]\n",
      "list_2:           [1, 2, 3, 5, 1]\n"
     ]
    }
   ],
   "source": [
    "list_1 = [1, 2, 3, 5, 1]\n",
    "list_2 = list_1[:]  # list_1[:] returns a copy of the entire contents of list_1\n",
    "\n",
    "print('list_1:             ', list_1)\n",
    "print('list_2:             ', list_2)\n",
    "print()\n",
    "\n",
    "list_1.remove(1)  # remove [only] the first occurrence of 1 in list_1\n",
    "print('list_1.remove(1):   ', list_1)\n",
    "print()\n",
    "\n",
    "print('list_1:          ', list_1)\n",
    "print('list_2:          ', list_2)"
   ]
  },
  {
   "cell_type": "markdown",
   "metadata": {},
   "source": [
    "The [`dir()`](https://docs.python.org/2/library/functions.html#dir) function returns all the attributes associated with a Python name (e.g., a variable) in alphabetical order. \n",
    "\n",
    "When invoked with a name bound to a `list` object, it will return the methods that can be invoked on a list. The attributes with leading and trailing underscores should be treated as protected (i.e., they should not be used); we'll discuss this further below."
   ]
  },
  {
   "cell_type": "code",
   "execution_count": 41,
   "metadata": {
    "scrolled": true
   },
   "outputs": [
    {
     "data": {
      "text/plain": [
       "['__add__',\n",
       " '__class__',\n",
       " '__contains__',\n",
       " '__delattr__',\n",
       " '__delitem__',\n",
       " '__dir__',\n",
       " '__doc__',\n",
       " '__eq__',\n",
       " '__format__',\n",
       " '__ge__',\n",
       " '__getattribute__',\n",
       " '__getitem__',\n",
       " '__gt__',\n",
       " '__hash__',\n",
       " '__iadd__',\n",
       " '__imul__',\n",
       " '__init__',\n",
       " '__init_subclass__',\n",
       " '__iter__',\n",
       " '__le__',\n",
       " '__len__',\n",
       " '__lt__',\n",
       " '__mul__',\n",
       " '__ne__',\n",
       " '__new__',\n",
       " '__reduce__',\n",
       " '__reduce_ex__',\n",
       " '__repr__',\n",
       " '__reversed__',\n",
       " '__rmul__',\n",
       " '__setattr__',\n",
       " '__setitem__',\n",
       " '__sizeof__',\n",
       " '__str__',\n",
       " '__subclasshook__',\n",
       " 'append',\n",
       " 'clear',\n",
       " 'copy',\n",
       " 'count',\n",
       " 'extend',\n",
       " 'index',\n",
       " 'insert',\n",
       " 'pop',\n",
       " 'remove',\n",
       " 'reverse',\n",
       " 'sort']"
      ]
     },
     "execution_count": 41,
     "metadata": {},
     "output_type": "execute_result"
    }
   ],
   "source": [
    "dir(list_1)"
   ]
  },
  {
   "cell_type": "markdown",
   "metadata": {},
   "source": [
    "There are sorting and reversing functions, **[`sorted()`](https://docs.python.org/2.7/library/functions.html#sorted)** and **[`reversed()`](https://docs.python.org/2.7/library/functions.html#reversed)**, that do *not* modify their arguments, and can thus be used on mutable or immutable objects. \n",
    "\n",
    "Note that `sorted()` always returns a sorted *list* of each element in its argument, regardless of which type of sequence it is passed. Thus, invoking `sorted()` on a *string* returns a *list* of sorted characters from the string, rather than a sorted string."
   ]
  },
  {
   "cell_type": "code",
   "execution_count": 42,
   "metadata": {},
   "outputs": [
    {
     "name": "stdout",
     "output_type": "stream",
     "text": [
      "sorted(list_1): [1, 2, 3, 5]\n",
      "list_1:         [2, 3, 5, 1]\n",
      "\n",
      "sorted(single_instance_str): [',', ',', ',', ',', ',', ',', ',', ',', ',', ',', ',', ',', ',', ',', ',', ',', ',', ',', ',', ',', ',', ',', '?', 'c', 'd', 'e', 'e', 'f', 'f', 'f', 'k', 'k', 'n', 'n', 'n', 'n', 'o', 'p', 'p', 'v', 'w', 'w', 'w', 'w', 'y']\n",
      "single_instance_str:         p,k,f,n,f,n,f,c,n,w,e,?,k,y,w,n,p,w,o,e,w,v,d\n"
     ]
    }
   ],
   "source": [
    "print('sorted(list_1):', sorted(list_1)) \n",
    "print('list_1:        ', list_1)\n",
    "print()\n",
    "print('sorted(single_instance_str):', sorted(single_instance_str)) \n",
    "print('single_instance_str:        ', single_instance_str)"
   ]
  },
  {
   "cell_type": "markdown",
   "metadata": {},
   "source": [
    "The `sorted()` function sorts its argument in ascending order by default.  \n",
    "\n",
    "An optional ***[keyword argument](http://docs.python.org/2/tutorial/controlflow.html#keyword-arguments)***, `reverse`, can be used to sort in descending order. The default value of this optional parameter is `False`; to get non-default behavior of an optional argument, we must specify the name and value of the argument, in this case, `reverse=True`."
   ]
  },
  {
   "cell_type": "code",
   "execution_count": 43,
   "metadata": {},
   "outputs": [
    {
     "name": "stdout",
     "output_type": "stream",
     "text": [
      "[',', ',', ',', ',', ',', ',', ',', ',', ',', ',', ',', ',', ',', ',', ',', ',', ',', ',', ',', ',', ',', ',', '?', 'c', 'd', 'e', 'e', 'f', 'f', 'f', 'k', 'k', 'n', 'n', 'n', 'n', 'o', 'p', 'p', 'v', 'w', 'w', 'w', 'w', 'y']\n",
      "['y', 'w', 'w', 'w', 'w', 'v', 'p', 'p', 'o', 'n', 'n', 'n', 'n', 'k', 'k', 'f', 'f', 'f', 'e', 'e', 'd', 'c', '?', ',', ',', ',', ',', ',', ',', ',', ',', ',', ',', ',', ',', ',', ',', ',', ',', ',', ',', ',', ',', ',', ',']\n"
     ]
    }
   ],
   "source": [
    "print(sorted(single_instance_str)) \n",
    "print(sorted(single_instance_str, reverse=True))"
   ]
  },
  {
   "cell_type": "markdown",
   "metadata": {},
   "source": [
    "### Tuples (immutable list-like sequences)"
   ]
  },
  {
   "cell_type": "markdown",
   "metadata": {},
   "source": [
    "A [*tuple*](http://docs.python.org/2/tutorial/datastructures.html#tuples-and-sequences) is an ordered, immutable sequence of 0 or more comma-delimited values enclosed in parentheses (`'('`, `')'`). Many of the functions and methods that operate on strings and lists also operate on tuples."
   ]
  },
  {
   "cell_type": "code",
   "execution_count": 44,
   "metadata": {},
   "outputs": [
    {
     "name": "stdout",
     "output_type": "stream",
     "text": [
      "x = (5, 4, 3, 2, 1)\n",
      "len(x) = 5\n",
      "x.index(3) = 2\n",
      "x[2:4] =  (3, 2)\n",
      "x[4:2:-1] =  (1, 2)\n",
      "sorted(x): [1, 2, 3, 4, 5]\n",
      "x is the same: x = (5, 4, 3, 2, 1)\n"
     ]
    }
   ],
   "source": [
    "x = (5, 4, 3, 2, 1)  # a tuple\n",
    "print('x =', x)\n",
    "print('len(x) =', len(x))\n",
    "print('x.index(3) =', x.index(3))\n",
    "print('x[2:4] = ', x[2:4])\n",
    "print('x[4:2:-1] = ', x[4:2:-1]) # item no.5 to before no.3, reversed\n",
    "print('sorted(x):', sorted(x))  # note: sorted() always returns a list\n",
    "print('x is the same: x =', x)"
   ]
  },
  {
   "cell_type": "markdown",
   "metadata": {},
   "source": [
    "Note that the methods that modify lists (e.g., `append()`, `remove()`, `reverse()`, `sort()`) are not defined for immutable sequences such as tuples (or strings). Invoking one of these sequence modification methods on an immutable sequence will raise an [`AttributeError`](https://docs.python.org/2/library/exceptions.html#exceptions.AttributeError) exception."
   ]
  },
  {
   "cell_type": "code",
   "execution_count": 45,
   "metadata": {
    "scrolled": false
   },
   "outputs": [],
   "source": [
    "# x.append(5) #we can remove the APPEND in tuples adding \n",
    "#x = x + (6,) # we can replace original tuple. \n",
    "#Remove the two exception-handling examples in the file(Number 1)\""
   ]
  },
  {
   "cell_type": "markdown",
   "metadata": {},
   "source": [
    "However, one can approximate these modifications by creating modified copies of an immutable sequence and then re-assigning it to a name."
   ]
  },
  {
   "cell_type": "code",
   "execution_count": 46,
   "metadata": {},
   "outputs": [
    {
     "data": {
      "text/plain": [
       "(5, 4, 3, 2, 1, 6)"
      ]
     },
     "execution_count": 46,
     "metadata": {},
     "output_type": "execute_result"
    }
   ],
   "source": [
    "x = x + (6,)  # need to include a comma to differentiate tuple from numeric expression\n",
    "x"
   ]
  },
  {
   "cell_type": "markdown",
   "metadata": {},
   "source": [
    "Note that Python has a **`+=`** operator which is a shortcut for the *`name = name + new_value`* pattern. This can be used for addition (e.g., `x += 1` is shorthand for `x = x + 1`) or concatenation (e.g., `x += (7,)` is shorthand for `x = x + (7,)`)."
   ]
  },
  {
   "cell_type": "code",
   "execution_count": 47,
   "metadata": {},
   "outputs": [
    {
     "data": {
      "text/plain": [
       "(5, 4, 3, 2, 1, 6, 7)"
      ]
     },
     "execution_count": 47,
     "metadata": {},
     "output_type": "execute_result"
    }
   ],
   "source": [
    "x += (7,)\n",
    "x"
   ]
  },
  {
   "cell_type": "markdown",
   "metadata": {},
   "source": [
    "A tuple of one element must include a trailing comma to differentiate it from a parenthesized expression."
   ]
  },
  {
   "cell_type": "code",
   "execution_count": 48,
   "metadata": {},
   "outputs": [
    {
     "data": {
      "text/plain": [
       "'a'"
      ]
     },
     "execution_count": 48,
     "metadata": {},
     "output_type": "execute_result"
    }
   ],
   "source": [
    "('a')"
   ]
  },
  {
   "cell_type": "code",
   "execution_count": 49,
   "metadata": {},
   "outputs": [
    {
     "data": {
      "text/plain": [
       "('a',)"
      ]
     },
     "execution_count": 49,
     "metadata": {},
     "output_type": "execute_result"
    }
   ],
   "source": [
    "('a',)"
   ]
  },
  {
   "cell_type": "markdown",
   "metadata": {},
   "source": [
    "### Conditionals"
   ]
  },
  {
   "cell_type": "markdown",
   "metadata": {},
   "source": [
    "One common approach to handling errors is to *look before you leap (LBYL)*, i.e., test for potential [exceptions](http://docs.python.org/2/tutorial/errors.html) before executing instructions that might raise those exceptions. \n",
    "\n",
    "This approach can be implemented using the [**`if`**](http://docs.python.org/2/tutorial/controlflow.html#if-statements) statement (which may optionally include an **`else`** and any number of **`elif`** clauses).\n",
    "\n",
    "The following is a simple example of an `if` statement:"
   ]
  },
  {
   "cell_type": "code",
   "execution_count": 50,
   "metadata": {},
   "outputs": [
    {
     "name": "stdout",
     "output_type": "stream",
     "text": [
      "edible\n"
     ]
    }
   ],
   "source": [
    "class_value = 'e'  # try changing this to 'p' or 'x'\n",
    "\n",
    "if class_value == 'e':\n",
    "    print('edible')\n",
    "elif class_value == 'p':\n",
    "    print('poisonous')\n",
    "else:\n",
    "    print('unknown')"
   ]
  },
  {
   "cell_type": "markdown",
   "metadata": {},
   "source": [
    "Note that \n",
    "\n",
    "* a colon ('`:`') is used at the end of the lines with `if`, `else` or `elif`\n",
    "* no parentheses are required to enclose the boolean condition (it is presumed to include everything between `if` or `elif` and the colon)\n",
    "* the statements below each `if`, `elif` and `else` line are all indented\n",
    "\n",
    "Python does not have special characters to delimit statement blocks (like the '{' and '}' delimiters in Java); instead, sequences of statements with the same *indentation level* are treated as a statement block. The [Python Style Guide](http://legacy.python.org/dev/peps/pep-0008/) recommends using 4 spaces for each indentation level.\n",
    "\n",
    "An `if` statement can be used to follow the LBYL paradigm in preventing the `ValueError` that occured in an earlier example:"
   ]
  },
  {
   "cell_type": "code",
   "execution_count": 51,
   "metadata": {},
   "outputs": [
    {
     "name": "stdout",
     "output_type": "stream",
     "text": [
      "bruises? is in position 4\n"
     ]
    }
   ],
   "source": [
    "attribute = 'bruises?'  # try substituting 'bruises?' for 'bruises' and re-running this code\n",
    "\n",
    "if attribute in attribute_names:\n",
    "    i = attribute_names.index(attribute)\n",
    "    print(attribute, 'is in position', i)\n",
    "else:\n",
    "    print(attribute, 'is not in', attribute_names)"
   ]
  },
  {
   "cell_type": "code",
   "execution_count": 52,
   "metadata": {},
   "outputs": [
    {
     "name": "stdout",
     "output_type": "stream",
     "text": [
      "bruises is not in ['class', 'cap-shape', 'cap-surface', 'cap-color', 'bruises?', 'odor', 'gill-attachment', 'gill-spacing', 'gill-size', 'gill-color', 'stalk-shape', 'stalk-root', 'stalk-surface-above-ring', 'stalk-surface-below-ring', 'stalk-color-above-ring', 'stalk-color-below-ring', 'veil-type', 'veil-color', 'ring-number', 'ring-type', 'spore-print-color', 'population', 'habitat']\n"
     ]
    }
   ],
   "source": [
    "attribute = 'bruises'  # try substituting 'bruises?' for 'bruises' and re-running this code\n",
    "\n",
    "if attribute in attribute_names:\n",
    "    i = attribute_names.index(attribute)\n",
    "    print(attribute, 'is in position', i)\n",
    "else:\n",
    "    print(attribute, 'is not in', attribute_names)"
   ]
  },
  {
   "cell_type": "markdown",
   "metadata": {},
   "source": [
    "### Seeking forgiveness vs. asking for permission (EAFP vs. LBYL)"
   ]
  },
  {
   "cell_type": "markdown",
   "metadata": {},
   "source": [
    "Another perspective on handling errors championed by some pythonistas is that it is [*easier to ask forgiveness than permission (EAFP)*](http://python.net/~goodger/projects/pycon/2007/idiomatic/handout.html#eafp-vs-lbyl).\n",
    "\n",
    "As in many practical applications of philosophy, religion or dogma, it is helpful to *think before you choose (TBYC)*. There are a number of factors to consider in deciding whether to follow the EAFP or LBYL paradigm, including code readability and the anticipated likelihood and relative severity of encountering an exception. For those who are interested, Oran Looney wrote a blog post providing a nice overview of the debate over [LBYL vs. EAFP](http://oranlooney.com/lbyl-vs-eafp/).\n",
    "\n",
    "In keeping with practices most commonly used with other languages, we will follow the LBYL paradigm throughout most of this primer. \n",
    "\n",
    "However, as a brief illustration of the EAFP paradigm in Python, here is an alternate implementation of the functionality of the code above, using a [**`try/except`**](http://docs.python.org/2/tutorial/errors.html#handling-exceptions) statement."
   ]
  },
  {
   "cell_type": "code",
   "execution_count": 53,
   "metadata": {},
   "outputs": [
    {
     "name": "stdout",
     "output_type": "stream",
     "text": [
      "bruises? is in position 4\n"
     ]
    }
   ],
   "source": [
    "attribute = 'bruises?'  # try substituting 'bruises' for 'bruises' and re-running this code\n",
    "\n",
    "i = -1\n",
    "try:\n",
    "    i = attribute_names.index(attribute)\n",
    "    print(attribute, 'is in position', i)\n",
    "except ValueError:\n",
    "    print(attribute, 'is not found')"
   ]
  },
  {
   "cell_type": "markdown",
   "metadata": {},
   "source": [
    "The try statement works as follows.\n",
    "\n",
    "    First, the try clause (the statement(s) between the try and except keywords) is executed.\n",
    "    If no exception occurs, the except clause is skipped and execution of the try statement is finished.\n",
    "    If an exception occurs during execution of the try clause, the rest of the clause is skipped. Then if its type matches the exception named after the except keyword, the except clause is executed, and then execution continues after the try statement.\n",
    "    If an exception occurs which does not match the exception named in the except clause, it is passed on to outer try statements; if no handler is found, it is an unhandled exception and execution stops with a message as shown above.\n",
    "\t"
   ]
  },
  {
   "cell_type": "code",
   "execution_count": 54,
   "metadata": {
    "scrolled": true
   },
   "outputs": [
    {
     "name": "stdout",
     "output_type": "stream",
     "text": [
      "NO module found\n"
     ]
    }
   ],
   "source": [
    "try:\n",
    "    import myNonexistingmodule\n",
    "except IOError:\n",
    "    print('An error occured trying to read the file.')\n",
    "    \n",
    "except ValueError:\n",
    "    print('Non-numeric data found in the file.')\n",
    "\n",
    "except ImportError:\n",
    "    print(\"NO module found\")\n",
    "    \n",
    "except EOFError:\n",
    "    print('Why did you do an EOF on me?')\n",
    "\n",
    "except KeyboardInterrupt:\n",
    "    print('You cancelled the operation.')\n",
    "\n",
    "except:\n",
    "    print('An error occured.')\n"
   ]
  },
  {
   "cell_type": "markdown",
   "metadata": {},
   "source": [
    "There is no local scoping inside a `try`, so the value of `i` persists after the `try/except` statement."
   ]
  },
  {
   "cell_type": "code",
   "execution_count": 55,
   "metadata": {},
   "outputs": [
    {
     "data": {
      "text/plain": [
       "4"
      ]
     },
     "execution_count": 55,
     "metadata": {},
     "output_type": "execute_result"
    }
   ],
   "source": [
    "i"
   ]
  },
  {
   "cell_type": "markdown",
   "metadata": {},
   "source": [
    "The Python *null object* is **`None`** (note the capitalization)."
   ]
  },
  {
   "cell_type": "code",
   "execution_count": 56,
   "metadata": {},
   "outputs": [
    {
     "name": "stdout",
     "output_type": "stream",
     "text": [
      "bruises = None\n",
      "<class 'NoneType'>\n"
     ]
    }
   ],
   "source": [
    "attribute = 'bruises'  # try substituting 'bruises?' for 'bruises' and re-running this code\n",
    "\n",
    "if attribute not in attribute_names: # equivalent to 'not attribute in attribute_names'\n",
    "    value = None\n",
    "else:\n",
    "    i = attribute_names.index(attribute)\n",
    "    value = single_instance_list[i]\n",
    "    \n",
    "print(attribute, '=', value)\n",
    "print(type(value))"
   ]
  },
  {
   "cell_type": "markdown",
   "metadata": {},
   "source": [
    "### Defining and calling functions"
   ]
  },
  {
   "cell_type": "markdown",
   "metadata": {},
   "source": [
    "Python [*function definitions*](http://docs.python.org/2/tutorial/controlflow.html#defining-functions) start with the **`def`** keyword followed by a function name, a list of 0 or more comma-delimited *parameters* (aka 'formal parameters') enclosed within parentheses, and then a colon ('`:`'). \n",
    "\n",
    "A function definition may include one or more [**`return`**](http://docs.python.org/2/reference/simple_stmts.html#the-return-statement) statements to indicate the value(s) returned to where the function is called. It is good practice to include a short [docstring](http://docs.python.org/2/tutorial/controlflow.html#tut-docstrings) to briefly describe the behavior of the function and the value(s) it returns."
   ]
  },
  {
   "cell_type": "code",
   "execution_count": 57,
   "metadata": {},
   "outputs": [],
   "source": [
    "def attribute_value(instance, attribute, attribute_names):\n",
    "    '''Returns the value of attribute in instance, \n",
    "        based on its position in attribute_names'''\n",
    "    if attribute not in attribute_names:\n",
    "        return None\n",
    "    else:\n",
    "        i = attribute_names.index(attribute)\n",
    "        return instance[i]  # using the parameter name here"
   ]
  },
  {
   "cell_type": "markdown",
   "metadata": {},
   "source": [
    "A *function call* starts with the function name, followed by a list of 0 or more comma-delimited *arguments* (aka 'actual parameters') enclosed within parentheses. A function call can be used as a statement or within an expression."
   ]
  },
  {
   "cell_type": "code",
   "execution_count": 58,
   "metadata": {},
   "outputs": [
    {
     "name": "stdout",
     "output_type": "stream",
     "text": [
      "cap-shape = k\n"
     ]
    }
   ],
   "source": [
    "attribute = 'cap-shape'  # try substituting any of the other attribute names shown above\n",
    "print(attribute, '=', attribute_value(single_instance_list, 'cap-shape', attribute_names))"
   ]
  },
  {
   "cell_type": "markdown",
   "metadata": {},
   "source": [
    "Note that Python does not distinguish between names used for *variables* and names used for *functions*. An assignment statement binds a value to a name; a function definition also binds a value to a name. At any given time, the value most recently bound to a name is the one that is used. \n",
    "\n",
    "This can be demonstrated using the [**`type(object)`**](http://docs.python.org/2.7/library/functions.html#type) function, which returns the `type` of `object`."
   ]
  },
  {
   "cell_type": "code",
   "execution_count": 59,
   "metadata": {},
   "outputs": [
    {
     "name": "stdout",
     "output_type": "stream",
     "text": [
      "x used as a variable: 0 <class 'int'>\n",
      "x used as a function: <function x at 0x10a6cce18> <class 'function'>\n"
     ]
    }
   ],
   "source": [
    "x = 0\n",
    "print('x used as a variable:', x, type(x))\n",
    "\n",
    "def x():\n",
    "    print('x')\n",
    "    \n",
    "print('x used as a function:', x, type(x))"
   ]
  },
  {
   "cell_type": "markdown",
   "metadata": {},
   "source": [
    "Another way to determine the `type` of an object is to use [**`isinstance(object, class)`**](https://docs.python.org/2/library/functions.html#isinstance). This is generally [preferable](http://stackoverflow.com/questions/1549801/differences-between-isinstance-and-type-in-python), as it takes into account [class inheritance](https://docs.python.org/2/tutorial/classes.html#inheritance). There is a larger issue of [*duck typing*](https://en.wikipedia.org/wiki/Duck_typing), and whether code should ever explicitly check for the type of an object, but we will omit further discussion of the topic in this primer."
   ]
  },
  {
   "cell_type": "markdown",
   "metadata": {},
   "source": [
    "### Call by sharing"
   ]
  },
  {
   "cell_type": "markdown",
   "metadata": {},
   "source": [
    "An important feature of Python functions is that arguments are passed using [*call by sharing*](https://en.wikipedia.org/wiki/Evaluation_strategy#Call_by_sharing). \n",
    "\n",
    "If a *mutable* object is passed as an argument to a function parameter, assignment statements using that parameter do not affect the passed argument, however other modifications to the parameter (e.g., modifications to a list using methods such as `append()`, `remove()`, `reverse()` or `sort()`) do affect the passed argument.\n",
    "\n",
    "Not being aware of - or forgetting - this important distinction can lead to challenging debugging sessions. \n",
    "\n",
    "The example below demonstrates this difference and introduces another [list method](https://docs.python.org/2/tutorial/datastructures.html#more-on-lists), `list.insert(i, x)`, which inserts `x` into `list` at position `i`."
   ]
  },
  {
   "cell_type": "code",
   "execution_count": 60,
   "metadata": {},
   "outputs": [
    {
     "name": "stdout",
     "output_type": "stream",
     "text": [
      "argument1, before calling modify_parameters: [1, 2, 3]\n",
      "argument2, before calling modify_parameters: [4, 5, 6]\n",
      "\n",
      "parameter1, after inserting \"x\": ['x', 1, 2, 3]\n",
      "parameter2, after assigning \"x\" [7, 8, 9]\n",
      "\n",
      "argument1, after calling modify_parameters: ['x', 1, 2, 3]\n",
      "argument2, after calling modify_parameters: [4, 5, 6]\n"
     ]
    }
   ],
   "source": [
    "def modify_parameters(parameter1, parameter2):\n",
    "    '''Inserts \"x\" at the head of parameter1, assigns [7, 8, 9] to parameter2'''\n",
    "    parameter1.insert(0, 'x')  # insert() WILL affect argument passed as parameter1\n",
    "    print('parameter1, after inserting \"x\":', parameter1)\n",
    "    parameter2 = [7, 8, 9]  # assignment WILL NOT affect argument passed as parameter2\n",
    "    print('parameter2, after assigning \"x\"', parameter2)\n",
    "    return\n",
    "\n",
    "argument1 = [1, 2, 3] \n",
    "argument2 = [4, 5, 6]\n",
    "print('argument1, before calling modify_parameters:', argument1)\n",
    "print('argument2, before calling modify_parameters:', argument2)\n",
    "print()\n",
    "modify_parameters(argument1, argument2)\n",
    "print()\n",
    "print('argument1, after calling modify_parameters:', argument1)\n",
    "print('argument2, after calling modify_parameters:', argument2)"
   ]
  },
  {
   "cell_type": "markdown",
   "metadata": {},
   "source": [
    "One way of preventing functions from modifying mutable objects passed as parameters is to make a copy of those objects inside the function. Here is another version of the function above that makes a shallow copy of the *list_parameter* using the slice operator. \n",
    "\n",
    "*\\[Note: the Python [copy](http://docs.python.org/2/library/copy.html) module provides both [shallow] [`copy()`](http://docs.python.org/2/library/copy.html#copy.copy) and [`deepcopy()`](http://docs.python.org/2/library/copy.html#copy.deepcopy) methods; we will cover modules further below.\\]*"
   ]
  },
  {
   "cell_type": "code",
   "execution_count": 61,
   "metadata": {},
   "outputs": [
    {
     "name": "stdout",
     "output_type": "stream",
     "text": [
      "Before: [1, 2, 3]\n",
      "Inserted \"x\": ['x', 1, 2, 3]\n",
      "After: [1, 2, 3]\n"
     ]
    }
   ],
   "source": [
    "def modify_parameter_copy(parameter_1):\n",
    "    '''Inserts \"x\" at the head of parameter_1, without modifying the list argument'''\n",
    "    parameter_1_copy = parameter_1[:]  # list[:] returns a copy of list\n",
    "    parameter_1_copy.insert(0, 'x')\n",
    "    print('Inserted \"x\":', parameter_1_copy)\n",
    "    return\n",
    "\n",
    "argument_1 = [1, 2, 3]  # passing a named object will not affect the object bound to that name\n",
    "print('Before:', argument_1)\n",
    "modify_parameter_copy(argument_1)\n",
    "print('After:', argument_1)"
   ]
  },
  {
   "cell_type": "markdown",
   "metadata": {},
   "source": [
    "Another way to avoid modifying parameters is to use assignment statements which do not modify the parameter objects but return a new object that is bound to the name (locally)."
   ]
  },
  {
   "cell_type": "code",
   "execution_count": 62,
   "metadata": {},
   "outputs": [
    {
     "name": "stdout",
     "output_type": "stream",
     "text": [
      "Before: [1, 2, 3]\n",
      "Inserted \"x\": ['x', 1, 2, 3]\n",
      "After: [1, 2, 3]\n"
     ]
    }
   ],
   "source": [
    "def modify_parameter_assignment(parameter_1):\n",
    "    '''Inserts \"x\" at the head of parameter_1, without modifying the list argument'''\n",
    "    parameter_1 = ['x'] + parameter_1  # using assignment rather than list.insert()\n",
    "    print('Inserted \"x\":', parameter_1)\n",
    "    return\n",
    "\n",
    "argument_1 = [1, 2, 3]  # passing a named object will not affect the object bound to that name\n",
    "print('Before:', argument_1)\n",
    "modify_parameter_assignment(argument_1)\n",
    "print('After:', argument_1)"
   ]
  },
  {
   "cell_type": "markdown",
   "metadata": {},
   "source": [
    "### Multiple return values"
   ]
  },
  {
   "cell_type": "markdown",
   "metadata": {},
   "source": [
    "Python functions can return more than one value by separating those return values with commas in the **return** statement. Multiple values are returned as a tuple. \n",
    "\n",
    "If the function-invoking expression is an assignment statement, multiple variables can be assigned the multiple values returned by the function in a single statement. This combining of values and subsequent separation is known as tuple ***packing*** and ***unpacking***."
   ]
  },
  {
   "cell_type": "code",
   "execution_count": 63,
   "metadata": {},
   "outputs": [
    {
     "name": "stdout",
     "output_type": "stream",
     "text": [
      "min and max of [3, 1, 4, 2, 5] : (1, 5)\n",
      "min and max of [3, 1, 4, 2, 5] : (1, 5)\n",
      "min and max of [3, 1, 4, 2, 5] : 1 , 5\n"
     ]
    }
   ],
   "source": [
    "def min_and_max(list_of_values):\n",
    "    '''Returns a tuple containing the min and max values in the list_of_values'''\n",
    "    return min(list_of_values), max(list_of_values)\n",
    "\n",
    "list_1 = [3, 1, 4, 2, 5]\n",
    "print('min and max of', list_1, ':', min_and_max(list_1))\n",
    "\n",
    "# a single variable is assigned the two-element tuple\n",
    "min_and_max_list_1 = min_and_max(list_1) \n",
    "print('min and max of', list_1, ':', min_and_max_list_1)\n",
    "\n",
    "# the 1st variable is assigned the 1st value, the 2nd variable is assigned the 2nd value\n",
    "min_list_1, max_list_1 = min_and_max(list_1) \n",
    "print('min and max of', list_1, ':', min_list_1, ',', max_list_1)"
   ]
  },
  {
   "cell_type": "markdown",
   "metadata": {},
   "source": [
    "## Iteration: for, range\n",
    "\n",
    "<img src=\"https://www.tutorialspoint.com/python/images/python_for_loop.jpg\">"
   ]
  },
  {
   "cell_type": "markdown",
   "metadata": {},
   "source": [
    "The [**`for`**](http://docs.python.org/2/tutorial/controlflow.html#for-statements) statement iterates over the elements of a sequence or other [*iterable*](http://docs.python.org/2/glossary.html#term-iterable) object.\n",
    "\n",
    "for iterating_var in sequence:\n",
    "   statements(s)\n",
    "   \n",
    "iterating_var is the iteration variable for the for loop. The variable changes for each iteration of the loop and controls when the for loop completes. The iteration variable steps successively through the items stored in the sequence variable."
   ]
  },
  {
   "cell_type": "code",
   "execution_count": 64,
   "metadata": {},
   "outputs": [
    {
     "name": "stdout",
     "output_type": "stream",
     "text": [
      "0\n",
      "1\n",
      "2\n"
     ]
    }
   ],
   "source": [
    "for i in [0, 1, 2]:\n",
    "    print(i)"
   ]
  },
  {
   "cell_type": "code",
   "execution_count": 65,
   "metadata": {},
   "outputs": [
    {
     "name": "stdout",
     "output_type": "stream",
     "text": [
      "a\n",
      "b\n",
      "c\n"
     ]
    }
   ],
   "source": [
    "for c in 'abc':\n",
    "    print(c)"
   ]
  },
  {
   "cell_type": "code",
   "execution_count": 66,
   "metadata": {},
   "outputs": [
    {
     "name": "stdout",
     "output_type": "stream",
     "text": [
      "Current Letter : P\n",
      "Current Letter : y\n",
      "Current Letter : t\n",
      "Current Letter : h\n",
      "Current Letter : o\n",
      "Current Letter : n\n",
      "Current fruit : banana\n",
      "Current fruit : apple\n",
      "Current fruit : mango\n",
      "Good bye!\n"
     ]
    }
   ],
   "source": [
    "for letter in 'Python':     # First Example\n",
    "   print('Current Letter :', letter)\n",
    "\n",
    "fruits = ['banana', 'apple',  'mango']\n",
    "for fruit in fruits:        # Second Example\n",
    "   print('Current fruit :', fruit)\n",
    "\n",
    "print(\"Good bye!\")"
   ]
  },
  {
   "cell_type": "markdown",
   "metadata": {},
   "source": [
    "### Iterating by Sequence Index\n",
    "An alternative way of iterating through each item is by index offset into the sequence itself."
   ]
  },
  {
   "cell_type": "code",
   "execution_count": 67,
   "metadata": {},
   "outputs": [
    {
     "name": "stdout",
     "output_type": "stream",
     "text": [
      "Index:  0\n",
      "Current fruit : banana\n",
      "Index:  1\n",
      "Current fruit : apple\n",
      "Index:  2\n",
      "Current fruit : mango\n",
      "Good bye!\n"
     ]
    }
   ],
   "source": [
    "fruits = ['banana', 'apple',  'mango']\n",
    "for index in range(len(fruits)):\n",
    "   print(\"Index: \", index)\n",
    "   print('Current fruit :', fruits[index])\n",
    "\n",
    "print (\"Good bye!\")"
   ]
  },
  {
   "cell_type": "markdown",
   "metadata": {},
   "source": [
    "The value of the variable used to iterate in a `for` statement persists after the `for` statement"
   ]
  },
  {
   "cell_type": "code",
   "execution_count": 68,
   "metadata": {},
   "outputs": [
    {
     "data": {
      "text/plain": [
       "(2, 'c', 2)"
      ]
     },
     "execution_count": 68,
     "metadata": {},
     "output_type": "execute_result"
    }
   ],
   "source": [
    "i, c, index"
   ]
  },
  {
   "cell_type": "markdown",
   "metadata": {},
   "source": [
    "The [**`range(stop)`**](http://docs.python.org/2/tutorial/controlflow.html#the-range-function) function returns a list of values from 0 up to `stop - 1` (inclusive). It is often used in the context of a `for` loop that iterates over the list of values."
   ]
  },
  {
   "cell_type": "code",
   "execution_count": 69,
   "metadata": {},
   "outputs": [
    {
     "name": "stdout",
     "output_type": "stream",
     "text": [
      "Values for the 23 attributes:\n",
      "\n",
      "class = p\n",
      "cap-shape = k\n",
      "cap-surface = f\n",
      "cap-color = n\n",
      "bruises? = f\n",
      "odor = n\n",
      "gill-attachment = f\n",
      "gill-spacing = c\n",
      "gill-size = n\n",
      "gill-color = w\n",
      "stalk-shape = e\n",
      "stalk-root = ?\n",
      "stalk-surface-above-ring = k\n",
      "stalk-surface-below-ring = y\n",
      "stalk-color-above-ring = w\n",
      "stalk-color-below-ring = n\n",
      "veil-type = p\n",
      "veil-color = w\n",
      "ring-number = o\n",
      "ring-type = e\n",
      "spore-print-color = w\n",
      "population = v\n",
      "habitat = d\n"
     ]
    }
   ],
   "source": [
    "print('Values for the', len(attribute_names), 'attributes:', end='\\n\\n')  # adds a blank line\n",
    "for i in range(len(attribute_names)):\n",
    "    print(attribute_names[i], '=', \n",
    "          attribute_value(single_instance_list, attribute_names[i], attribute_names))"
   ]
  },
  {
   "cell_type": "markdown",
   "metadata": {},
   "source": [
    "The more general form of the function, [**`range(start, stop[, step])`**](http://docs.python.org/2/library/functions.html#range), returns a list of values from `start` to `stop - 1` (inclusive) increasing by `step` (which defaults to `1`), or from `start` down to `stop + 1` (inclusive) decreasing by `step` if `step` is negative."
   ]
  },
  {
   "cell_type": "code",
   "execution_count": 70,
   "metadata": {},
   "outputs": [
    {
     "name": "stdout",
     "output_type": "stream",
     "text": [
      "3\n",
      "2\n",
      "1\n"
     ]
    }
   ],
   "source": [
    "for i in range(3, 0, -1):\n",
    "    print(i)"
   ]
  },
  {
   "cell_type": "markdown",
   "metadata": {},
   "source": [
    "In Python 2, the [**`xrange(stop[, stop[, step]])`**](http://docs.python.org/2/library/functions.html#xrange) function is an [*iterable*](http://docs.python.org/2/glossary.html#term-iterable) version of the `range()` function. In the context of a `for` loop, it returns the *next* item of the sequence for each iteration of the loop rather than creating *all* the elements of the sequence before the first iteration. This can reduce memory consumption in cases where iteration over all the items is not required.\n",
    "\n",
    "In Python 3, the `range()` function behaves the same way as the `xrange()` function does in Python 2, and so the `xrange()` function is not defined in Python 3. \n",
    "\n",
    "To maximize compatibility, we will use `range()` throughout this notebook; however, note that it is generally more efficient to use `xrange()` rather than `range()` in Python 2."
   ]
  },
  {
   "cell_type": "markdown",
   "metadata": {},
   "source": [
    "### Modules, namespaces and dotted notation"
   ]
  },
  {
   "cell_type": "code",
   "execution_count": 71,
   "metadata": {},
   "outputs": [
    {
     "data": {
      "text/plain": [
       "'__main__'"
      ]
     },
     "execution_count": 71,
     "metadata": {},
     "output_type": "execute_result"
    }
   ],
   "source": [
    "__name__"
   ]
  },
  {
   "cell_type": "markdown",
   "metadata": {},
   "source": [
    "A Python [***module***](http://docs.python.org/2/tutorial/modules.html) is a file containing related definitions (e.g., of functions and variables). Modules are used to help organize a Python [***namespace***](http://docs.python.org/2/tutorial/classes.html#python-scopes-and-namespaces), the set of identifiers accessible in a particular context. All of the functions and variables we define in this IPython Notebook are in the `__main__` namespace, so accessing them does not require any specification of a module.\n",
    "\n",
    "A Python module named **`simple_ml`** (in the file `simple_ml.py`), contains a set of solutions to the exercises in this IPython Notebook. *\\[The learning opportunity provided by this tutorial will be maximized by not looking at that file, or waiting as long as possible to do so.\\]*\n",
    "\n",
    "Accessing functions in an external module requires that we first **[`import`](http://docs.python.org/2/reference/simple_stmts.html#the-import-statement)** the module, and then prefix the function names with the module name followed by a dot (this is known as ***dotted notation***).\n",
    "\n",
    "For example, the following function call in Exercise 1 below: \n",
    "\n",
    "`simple_ml.print_attribute_names_and_values(single_instance_list, attribute_names)`\n",
    "\n",
    "uses dotted notation to reference the `print_attribute_names_and_values()` function in the `simple_ml` module.\n",
    "\n",
    "After you have defined your own function for Exercise 1, you can test your function by deleting the `simple_ml` module specification, so that the statement becomes\n",
    "\n",
    "`print_attribute_names_and_values(single_instance_list, attribute_names)`\n",
    "\n",
    "This will reference the `print_attribute_names_and_values()` function in the current namespace (`__main__`), i.e., the top-level interpreter environment. The `simple_ml.print_attribute_names_and_values()` function will still be accessible in the `simple_ml` namespace by using the \"`simple_ml.`\" prefix (so you can easily toggle back and forth between your own definition and that provided in the solutions file)."
   ]
  },
  {
   "cell_type": "markdown",
   "metadata": {},
   "source": [
    "<p style=\"font-family: Arial; font-size:1.5em;color:blue; font-style:bold\"><br>\n",
    "Exercise 1: define `print_attribute_names_and_values()`<br></p><br>"
   ]
  },
  {
   "cell_type": "markdown",
   "metadata": {},
   "source": [
    "Complete the following function definition, `print_attribute_names_and_values(instance, attribute_names)`, so that it generates exactly the same output as the code above."
   ]
  },
  {
   "cell_type": "code",
   "execution_count": 72,
   "metadata": {},
   "outputs": [
    {
     "name": "stdout",
     "output_type": "stream",
     "text": [
      "Values for the 23 attributes:\n",
      "\n",
      "class = p\n",
      "cap-shape = k\n",
      "cap-surface = f\n",
      "cap-color = n\n",
      "bruises? = f\n",
      "odor = n\n",
      "gill-attachment = f\n",
      "gill-spacing = c\n",
      "gill-size = n\n",
      "gill-color = w\n",
      "stalk-shape = e\n",
      "stalk-root = ?\n",
      "stalk-surface-above-ring = k\n",
      "stalk-surface-below-ring = y\n",
      "stalk-color-above-ring = w\n",
      "stalk-color-below-ring = n\n",
      "veil-type = p\n",
      "veil-color = w\n",
      "ring-number = o\n",
      "ring-type = e\n",
      "spore-print-color = w\n",
      "population = v\n",
      "habitat = d\n"
     ]
    }
   ],
   "source": [
    "def print_attribute_names_and_values(instance, attribute_names):\n",
    "    '''Prints the attribute names and values for instance'''\n",
    "    print('Values for the', len(attribute_names), 'attributes:', end='\\n\\n')\n",
    "    for i in range(len(attribute_names)):\n",
    "        print(attribute_names[i], '=', \n",
    "        attribute_value(instance, attribute_names[i], attribute_names))\n",
    "\n",
    "\n",
    "import simple_ml  # this module contains my solutions to exercises\n",
    "\n",
    "# delete 'simple_ml.' in the function call below to test your function\n",
    "print_attribute_names_and_values(single_instance_list, attribute_names)"
   ]
  },
  {
   "cell_type": "markdown",
   "metadata": {},
   "source": [
    "### File I/O"
   ]
  },
  {
   "cell_type": "markdown",
   "metadata": {},
   "source": [
    "Python [file input and output](http://docs.python.org/2/tutorial/inputoutput.html#reading-and-writing-files) is done through [file](http://docs.python.org/2/library/stdtypes.html#file-objects) objects. A file object is created with the [`open(name[, mode])`](http://docs.python.org/2/library/functions.html#open) statement, where `name` is a string representing the name of the file, and `mode` is `'r'` (read), `'w'` (write) or `'a'` (append); if no second argument is provided, the mode defaults to `'r'`.\n",
    "\n",
    "A common Python programming pattern for processing an input text file is to \n",
    "\n",
    "* [**`open`**](http://docs.python.org/2/library/functions.html#open) the file using a [**`with`**](http://docs.python.org/2/reference/compound_stmts.html#the-with-statement) statement (which will automatically [**`close`**](http://docs.python.org/2/library/stdtypes.html#file.close) the file after the statements inside the `with` block have been executed)\n",
    "* iterate over each line in the file using a **`for`** statement\n",
    "\n",
    "The following code creates a list of instances, where each instance is a list of attribute values (like `instance_1_str` above). "
   ]
  },
  {
   "cell_type": "code",
   "execution_count": 73,
   "metadata": {
    "scrolled": true
   },
   "outputs": [
    {
     "name": "stdout",
     "output_type": "stream",
     "text": [
      "Read 8124 instances from agaricus-lepiota.data\n",
      "First 2 instances: [['p', 'x', 's', 'n', 't', 'p', 'f', 'c', 'n', 'k', 'e', 'e', 's', 's', 'w', 'w', 'p', 'w', 'o', 'p', 'k', 's', 'u'], ['e', 'x', 's', 'y', 't', 'a', 'f', 'c', 'b', 'k', 'e', 'c', 's', 's', 'w', 'w', 'p', 'w', 'o', 'p', 'n', 'n', 'g']]\n"
     ]
    }
   ],
   "source": [
    "all_instances = []  # initialize instances to an empty list\n",
    "data_filename = 'agaricus-lepiota.data'\n",
    "\n",
    "with open(data_filename, 'r') as f:\n",
    "    for line in f:  # 'line' will be bound to the next line in f in each for loop iteration\n",
    "        all_instances.append(line.strip().split(','))\n",
    "        # The strip() method returns a copy of the string \n",
    "        # with both leading and trailing characters removed \n",
    "        # based on the string argument passed.\n",
    "        \n",
    "print('Read', len(all_instances), 'instances from', data_filename)\n",
    "# we don't want to print all the instances, so we'll just print the first one to verify\n",
    "print('First 2 instances:', all_instances[0:2]) "
   ]
  },
  {
   "cell_type": "markdown",
   "metadata": {},
   "source": [
    "### Exercise 2: define load_instances()"
   ]
  },
  {
   "cell_type": "markdown",
   "metadata": {},
   "source": [
    "Define a function, `load_instances(filename)`, that returns a list of instances in a text file. <br>\n",
    "**The function definition is started for you below. The function should exhibit the same behavior as the code above.**"
   ]
  },
  {
   "cell_type": "code",
   "execution_count": 74,
   "metadata": {},
   "outputs": [
    {
     "name": "stdout",
     "output_type": "stream",
     "text": [
      "Read 8124 instances from agaricus-lepiota.data\n",
      "First instance: ['p', 'x', 's', 'n', 't', 'p', 'f', 'c', 'n', 'k', 'e', 'e', 's', 's', 'w', 'w', 'p', 'w', 'o', 'p', 'k', 's', 'u']\n"
     ]
    }
   ],
   "source": [
    "\n",
    "def load_instances(filename, filter_missing_values=False, missing_value='?'):\n",
    "    '''Returns a list of instances stored in a file.\n",
    "    \n",
    "    filename is expected to have a series of comma-separated attribute values per line, e.g.,\n",
    "        p,k,f,n,f,n,f,c,n,w,e,?,k,y,w,n,p,w,o,e,w,v,d'''\n",
    "    instances = []\n",
    "    with open(filename, 'r') as f:\n",
    "        for line in f:\n",
    "            new_instance = line.strip().split(',')\n",
    "            if not filter_missing_values or missing_value not in new_instance:\n",
    "                instances.append(new_instance)\n",
    "    return instances\n",
    "\n",
    "data_filename = 'agaricus-lepiota.data'\n",
    "# delete 'simple_ml.' in the function call below to test your function\n",
    "all_instances_2 = load_instances(data_filename)\n",
    "print('Read', len(all_instances_2), 'instances from', data_filename)\n",
    "print('First instance:', all_instances_2[0])"
   ]
  },
  {
   "cell_type": "markdown",
   "metadata": {},
   "source": [
    "Output can be written to a text file via the [**`file.write(str)`**](http://docs.python.org/2/library/stdtypes.html#file.write) method.\n",
    "\n",
    "As we saw earlier, the [`str.join(words)`](http://docs.python.org/2/library/stdtypes.html#str.join) method returns a single `str`-delimited string containing each of the strings in the `words` list.\n",
    "\n",
    "SQL and Hive database tables sometimes use a pipe ('|') delimiter to separate column values for each row when they are stored as flat files. The following code creates a new data file using pipes rather than commas to separate the attribute values.\n",
    "\n",
    "To help maintain internal consistency, it is generally a good practice to define a variable such as `DELIMITER` or `SEPARATOR`, bind it to the intended delimiter string, and then use it as a named constant. The Python language does not support named constants, so the use of variables as named constants depends on conventions (e.g., using ALL-CAPS)."
   ]
  },
  {
   "cell_type": "code",
   "execution_count": 75,
   "metadata": {
    "scrolled": true
   },
   "outputs": [
    {
     "name": "stdout",
     "output_type": "stream",
     "text": [
      "Converting to |-delimited strings, e.g., p|x|s|n|t|p|f|c|n|k|e|e|s|s|w|w|p|w|o|p|k|s|u\n",
      "Read 8124 instances from agaricus-lepiota-2.data\n",
      "First instance: ['p', 'x', 's', 'n', 't', 'p', 'f', 'c', 'n', 'k', 'e', 'e', 's', 's', 'w', 'w', 'p', 'w', 'o', 'p', 'k', 's', 'u']\n"
     ]
    }
   ],
   "source": [
    "DELIMITER = '|'\n",
    "\n",
    "print('Converting to {}-delimited strings, e.g.,'.format(DELIMITER), \n",
    "      DELIMITER.join(all_instances[0]))\n",
    "\n",
    "datafile2 = 'agaricus-lepiota-2.data'\n",
    "with open(datafile2, 'w') as f:  # 'w' = open file for writing (output)\n",
    "    for instance in all_instances:\n",
    "        f.write(DELIMITER.join(instance) + '\\n')  # write each instance on a separate line\n",
    "\n",
    "all_instances_3 = []\n",
    "with open(datafile2, 'r') as f:\n",
    "    for line in f:\n",
    "        all_instances_3.append(line.strip().split(DELIMITER))  # note: changed ',' to '|'\n",
    "        \n",
    "print('Read', len(all_instances_3), 'instances from', datafile2)\n",
    "print('First instance:', all_instances_3[0]) "
   ]
  },
  {
   "cell_type": "markdown",
   "metadata": {},
   "source": [
    "### List comprehensions"
   ]
  },
  {
   "cell_type": "markdown",
   "metadata": {},
   "source": [
    "Python provides a powerful [*list comprehension*](http://docs.python.org/2/tutorial/datastructures.html#list-comprehensions) construct to simplify the creation of a list by specifying a formula in a single expression.\n",
    "\n",
    "Some programmers find list comprehensions confusing, and avoid their use. We won't rely on list comprehensions here, but we will offer several examples with and without list comprehensions to highlight the power of the construct.\n",
    "\n",
    "One common use of list comprehensions is in the context of the [`str.join(words)`](http://docs.python.org/2/library/string.html#string.join) method we saw earlier.\n",
    "\n",
    "If we wanted to construct a pipe-delimited string containing elements of the list, we could use a `for` loop to iteratively add list elements and pipe delimiters to a string for all but the last element, and then manually add the last element."
   ]
  },
  {
   "cell_type": "code",
   "execution_count": 76,
   "metadata": {},
   "outputs": [
    {
     "data": {
      "text/plain": [
       "'a|b|c'"
      ]
     },
     "execution_count": 76,
     "metadata": {},
     "output_type": "execute_result"
    }
   ],
   "source": [
    "# create pipe-delimited string without using list comprehension\n",
    "DELIMITER = '|'\n",
    "delimited_string = ''\n",
    "token_list = ['a', 'b', 'c']\n",
    "\n",
    "for token in token_list[:-1]:  # add all but the last token + DELIMITER\n",
    "    delimited_string += token + DELIMITER\n",
    "delimited_string += token_list[-1]  # add the last token (with no trailing DELIMITER)\n",
    "delimited_string"
   ]
  },
  {
   "cell_type": "markdown",
   "metadata": {},
   "source": [
    "**This process is much simpler using a list comprehension.**\n",
    "* List comprehensions provide a concise way to create lists.\n",
    "* A list comprehension consists of brackets containing an expression followed by a for clause, then zero or more for or if clauses."
   ]
  },
  {
   "cell_type": "code",
   "execution_count": 77,
   "metadata": {},
   "outputs": [
    {
     "data": {
      "text/plain": [
       "[0, 1, 4, 9, 16, 25, 36, 49, 64, 81]"
      ]
     },
     "execution_count": 77,
     "metadata": {},
     "output_type": "execute_result"
    }
   ],
   "source": [
    "squares = [x**2 for x in range(10)]\n",
    "squares"
   ]
  },
  {
   "cell_type": "code",
   "execution_count": 78,
   "metadata": {},
   "outputs": [
    {
     "data": {
      "text/plain": [
       "[0, 1, 4, 9, 16, 25, 36, 49, 64, 81]"
      ]
     },
     "execution_count": 78,
     "metadata": {},
     "output_type": "execute_result"
    }
   ],
   "source": [
    "squares = []\n",
    "for x in range(10):\n",
    "    squares.append(x**2)\n",
    "squares"
   ]
  },
  {
   "cell_type": "code",
   "execution_count": 79,
   "metadata": {},
   "outputs": [
    {
     "data": {
      "text/plain": [
       "[0, 1, 4, 9, 16, 25, 36, 49, 64, 81]"
      ]
     },
     "execution_count": 79,
     "metadata": {},
     "output_type": "execute_result"
    }
   ],
   "source": [
    "squares = list(map(lambda x: x**2, range(10)))\n",
    "squares"
   ]
  },
  {
   "cell_type": "code",
   "execution_count": 80,
   "metadata": {},
   "outputs": [
    {
     "data": {
      "text/plain": [
       "[(1, 3), (1, 4), (2, 3), (2, 1), (2, 4), (3, 1), (3, 4)]"
      ]
     },
     "execution_count": 80,
     "metadata": {},
     "output_type": "execute_result"
    }
   ],
   "source": [
    "[(x, y) for x in [1,2,3] for y in [3,1,4] if x != y]"
   ]
  },
  {
   "cell_type": "code",
   "execution_count": 81,
   "metadata": {},
   "outputs": [
    {
     "data": {
      "text/plain": [
       "[(1, 3), (1, 4), (2, 3), (2, 1), (2, 4), (3, 1), (3, 4)]"
      ]
     },
     "execution_count": 81,
     "metadata": {},
     "output_type": "execute_result"
    }
   ],
   "source": [
    "combs = []\n",
    "for x in [1,2,3]:\n",
    "    for y in [3,1,4]:\n",
    "        if x != y:\n",
    "            combs.append((x, y))\n",
    "combs"
   ]
  },
  {
   "cell_type": "code",
   "execution_count": 82,
   "metadata": {},
   "outputs": [
    {
     "data": {
      "text/plain": [
       "'a|b|c'"
      ]
     },
     "execution_count": 82,
     "metadata": {},
     "output_type": "execute_result"
    }
   ],
   "source": [
    "delimited_string = DELIMITER.join([token for token in token_list])\n",
    "delimited_string"
   ]
  },
  {
   "cell_type": "markdown",
   "metadata": {},
   "source": [
    "### Missing values & \"clean\" instances"
   ]
  },
  {
   "cell_type": "markdown",
   "metadata": {},
   "source": [
    "As noted in the initial description of the UCI mushroom set above, 2480 of the 8124 instances have missing attribute values (denoted by `'?'`). \n",
    "\n",
    "There are several techniques for dealing with instances that include missing attribute values, but to simplify things in the context of this primer - and following the example in the [Data Science for Business](http://www.data-science-for-biz.com/) book - we will simply ignore any such instances and restrict our focus to only the *clean* instances (with no missing values).\n",
    "\n",
    "We could use several lines of code - with an `if` statement inside a `for` loop - to create a `clean_instances` list from the `all_instances` list. Or we could use a list comprehension that includes an `if` statement.\n",
    "\n",
    "We will show both approaches to creating `clean_instances` below."
   ]
  },
  {
   "cell_type": "code",
   "execution_count": 83,
   "metadata": {},
   "outputs": [
    {
     "name": "stdout",
     "output_type": "stream",
     "text": [
      "5644 clean instances\n"
     ]
    }
   ],
   "source": [
    "# version 1: using an if statement nested within a for statement\n",
    "UNKNOWN_VALUE = '?'\n",
    "\n",
    "clean_instances = []\n",
    "for instance in all_instances:\n",
    "    if UNKNOWN_VALUE not in instance:\n",
    "        clean_instances.append(instance)\n",
    "        \n",
    "print(len(clean_instances), 'clean instances')"
   ]
  },
  {
   "cell_type": "code",
   "execution_count": 84,
   "metadata": {},
   "outputs": [
    {
     "name": "stdout",
     "output_type": "stream",
     "text": [
      "5644 clean instances\n"
     ]
    }
   ],
   "source": [
    "# version 2: using an equivalent list comprehension\n",
    "clean_instances = [instance\n",
    "                   for instance in all_instances\n",
    "                   if UNKNOWN_VALUE not in instance]\n",
    "\n",
    "print(len(clean_instances), 'clean instances')"
   ]
  },
  {
   "cell_type": "markdown",
   "metadata": {},
   "source": [
    "Note that line breaks can be used before a `for` or `if` keyword in a list comprehension."
   ]
  },
  {
   "cell_type": "markdown",
   "metadata": {},
   "source": [
    "### Dictionaries (dicts)"
   ]
  },
  {
   "cell_type": "markdown",
   "metadata": {},
   "source": [
    "Although single character abbreviations of attribute values (e.g., 'x') allow for more compact data files, they are not as easy to understand by human readers as the longer attribute value descriptions (e.g., 'convex').\n",
    "\n",
    "A Python [dictionary (or **`dict`**)](http://docs.python.org/2/tutorial/datastructures.html#dictionaries) is an unordered, comma-delimited collection of ***key: value*** pairs, serving a siimilar function as a hash table or hashmap in other programming languages.\n",
    "\n",
    "We could create a dictionary for the `cap-type` attribute values shown above:\n",
    "\n",
    "> bell=b, conical=c, convex=x, flat=f, knobbed=k, sunken=s\n",
    "\n",
    "Since we will want to look up the value using the abbreviation (which is the representation of the value stored in the file), we will use the abbreviations as *keys* and the descriptions as *values*.\n",
    "\n",
    "A Python dictionary can be created by specifying all `key: value` pairs (with colons separating each *key* and *value*), or by adding them iteratively. We will show the first method in the cell below, and use the second method in a subsequent cell. \n",
    "\n",
    "Note that a *value* in a Python dictionary (`dict`) can be accessed by specifying its *key* using the general form `dict[key]` (or `dict.get(key, [default])`, which allows the specification of a `default` value to use if `key` is not in `dict`)."
   ]
  },
  {
   "cell_type": "code",
   "execution_count": 85,
   "metadata": {},
   "outputs": [
    {
     "name": "stdout",
     "output_type": "stream",
     "text": [
      "x = convex\n"
     ]
    }
   ],
   "source": [
    "attribute_values_cap_type = {'b': 'bell', \n",
    "                             'c': 'conical', \n",
    "                             'x': 'convex', \n",
    "                             'f': 'flat', \n",
    "                             'k': 'knobbed', \n",
    "                             's': 'sunken'}\n",
    "\n",
    "attribute_value_abbrev = 'x'\n",
    "print(attribute_value_abbrev, '=', attribute_values_cap_type[attribute_value_abbrev])"
   ]
  },
  {
   "cell_type": "markdown",
   "metadata": {},
   "source": [
    "A Python dictionary is an *iterable* container, so we can iterate over the keys in a dictionary using a `for` loop.\n",
    "\n",
    "Note that since a dictionary is an *unordered* collection, the sequence of abbreviations and associated values is not guaranteed to appear in any particular order. "
   ]
  },
  {
   "cell_type": "code",
   "execution_count": 86,
   "metadata": {},
   "outputs": [
    {
     "name": "stdout",
     "output_type": "stream",
     "text": [
      "b = bell\n",
      "c = conical\n",
      "x = convex\n",
      "f = flat\n",
      "k = knobbed\n",
      "s = sunken\n"
     ]
    }
   ],
   "source": [
    "for attribute_value_abbrev in attribute_values_cap_type:\n",
    "    print(attribute_value_abbrev, '=', attribute_values_cap_type[attribute_value_abbrev])"
   ]
  },
  {
   "cell_type": "markdown",
   "metadata": {},
   "source": [
    "Python supports *dictionary comprehensions*, which have a similar form as the *list comprehensions* described above, except that both a key and a value have to be specified for each iteration.\n",
    "\n",
    "For example, if we provisionally omit the 'convex' cap-type (whose abbreviation is the last letter rather than first letter in the attribute name), we could construct a dictionary of abbreviations and descriptions using the following expression."
   ]
  },
  {
   "cell_type": "code",
   "execution_count": 87,
   "metadata": {},
   "outputs": [
    {
     "name": "stdout",
     "output_type": "stream",
     "text": [
      "{'b': 'bell', 'c': 'conical', 'f': 'flat', 'k': 'knobbed', 's': 'sunken'}\n"
     ]
    }
   ],
   "source": [
    "attribute_values_cap_type_2 = {x[0]: x \n",
    "                               for x in ['bell', 'conical', 'flat', 'knobbed', 'sunken']}\n",
    "print(attribute_values_cap_type_2)"
   ]
  },
  {
   "cell_type": "code",
   "execution_count": 88,
   "metadata": {},
   "outputs": [
    {
     "name": "stdout",
     "output_type": "stream",
     "text": [
      "[['b', 'bell'], ['c', 'conical'], ['f', 'flat'], ['k', 'knobbed'], ['s', 'sunken']]\n"
     ]
    }
   ],
   "source": [
    "attribute_values_cap_type_2 = [[x[0], x ]\n",
    "                               for x in ['bell', 'conical', 'flat', 'knobbed', 'sunken']]\n",
    "print(attribute_values_cap_type_2)"
   ]
  },
  {
   "cell_type": "markdown",
   "metadata": {},
   "source": [
    "While it's useful to have a dictionary of values for the `cap-type` attribute, it would be even more useful to have a dictionary of values for *every* attribute. Earlier, we created a list of `attribute_names`; we will now expand this to create a list of `attribute_values` wherein each list element is a dictionary.\n",
    "\n",
    "Rather than explicitly type in each dictionary entry in the Python interpreter, we'll define a function to read a file containing the list of attribute names, values and value abbreviations in the format shown above:\n",
    "\n",
    "* class: edible=e, poisonous=p\n",
    "* cap-shape: bell=b, conical=c, convex=x, flat=f, knobbed=k, sunken=s\n",
    "* cap-surface: fibrous=f, grooves=g, scaly=y, smooth=s\n",
    "* ..."
   ]
  },
  {
   "cell_type": "markdown",
   "metadata": {},
   "source": [
    "We can make calls to [shell commands](https://ipython.org/ipython-doc/dev/interactive/tutorial.html#system-shell-commands) from a Python cell by using the bang (exclamation point). *\\[There are a large number of [cell magics](https://ipython.org/ipython-doc/dev/interactive/magics.html) that extend the capability of IPython Notebooks (which we will not explore further in this notebook.\\]*\n",
    "\n",
    "For example, the following cell will show the contents of the `agaricus-lepiota.attributes` file on OSX or Linux (for Windows, substitute `type` for `cat`).\n",
    "\n",
    "Now, make sure you download the file and save it into your working directory."
   ]
  },
  {
   "cell_type": "code",
   "execution_count": 89,
   "metadata": {
    "scrolled": true
   },
   "outputs": [
    {
     "name": "stdout",
     "output_type": "stream",
     "text": [
      "/bin/sh: line 0: type: agaricus-lepiota.attributes: not found\r\n"
     ]
    }
   ],
   "source": [
    "! type agaricus-lepiota.attributes "
   ]
  },
  {
   "cell_type": "markdown",
   "metadata": {},
   "source": [
    "### Exercise 3: define `load_attribute_values()` and `load_attribute_names_and_values()`\n",
    "** The solutions of this exercise are given and so they are not part of assignment 1 **\n",
    "** However, you are encouraged to carefully study the codes and the comments below. **\n",
    "\n",
    "### Please call the function after the definition."
   ]
  },
  {
   "cell_type": "code",
   "execution_count": 90,
   "metadata": {},
   "outputs": [],
   "source": [
    "def load_attribute_values(attribute_filename):\n",
    "    '''Returns a list of attribute values in filename.\n",
    "    \n",
    "    The attribute values are represented as dictionaries, \n",
    "    wherein the keys are abbreviations and the values are descriptions.\n",
    "    \n",
    "    filename is expected to have one attribute name and set of values per line, \n",
    "    with the following format:\n",
    "        name: value_description=value_abbreviation[,value_description=value_abbreviation]*\n",
    "    for example\n",
    "        cap-shape: bell=b, conical=c, convex=x, flat=f, knobbed=k, sunken=s\n",
    "    The attribute value description dictionary created from this line would be the following:\n",
    "        {'c': 'conical', 'b': 'bell', 'f': 'flat', 'k': 'knobbed', 's': 'sunken', 'x': 'convex'}'''\n",
    "    attribute_values = []\n",
    "    with open(attribute_filename) as f:\n",
    "        for line in f:\n",
    "            attribute_name_and_value_string_list = line.strip().split(':')\n",
    "            attribute_name = attribute_name_and_value_string_list[0]\n",
    "            if len(attribute_name_and_value_string_list) < 2:\n",
    "                attribute_values.append({}) # no values for this attribute\n",
    "            else:\n",
    "                value_abbreviation_description_dict = {}\n",
    "                description_and_abbreviation_string_list = attribute_name_and_value_string_list[1].strip().split(',')\n",
    "                for description_and_abbreviation_string in description_and_abbreviation_string_list:\n",
    "                    description_and_abbreviation = description_and_abbreviation_string.strip().split('=')\n",
    "                    description = description_and_abbreviation[0]\n",
    "                    if len(description_and_abbreviation) < 2: # assumption: no more than 1 value is missing an abbreviation\n",
    "                        value_abbreviation_description_dict[None] = description\n",
    "                    else:\n",
    "                        abbreviation = description_and_abbreviation[1]\n",
    "                        value_abbreviation_description_dict[abbreviation] = description\n",
    "                attribute_values.append(value_abbreviation_description_dict)\n",
    "    return attribute_values"
   ]
  },
  {
   "cell_type": "markdown",
   "metadata": {},
   "source": [
    "We earlier created the `attribute_names` list manually. The `load_attribute_values()` function above creates the `attribute_values` list from the contents of a file, each line of which starts with the name of an attribute. Unfortunately, the function discards the name of each attribute.\n",
    "\n",
    "It would be nice to retain the name as well as the value abbreviations and descriptions. One way to do this would be to create a list of dictionaries, in which each dictionary has 2 keys, a `name`, the value of which is the attribute name (a string), and `values`, the value of which is yet another dictionary (with abbreviation keys and description values, as in `load_attribute_values()`).\n",
    "\n",
    "Complete the following function definition so that the code implements this functionality."
   ]
  },
  {
   "cell_type": "code",
   "execution_count": 91,
   "metadata": {},
   "outputs": [
    {
     "name": "stdout",
     "output_type": "stream",
     "text": [
      "Read 23 attribute values from agaricus-lepiota.attributes\n",
      "First attribute name: cap-surface ; values: {'f': 'fibrous', 'g': 'grooves', 'y': 'scaly', 's': 'smooth'}\n"
     ]
    }
   ],
   "source": [
    "def load_attribute_names_and_values(filename):\n",
    "    '''Returns a list of attribute names and values in filename.\n",
    "    \n",
    "    This list contains dictionaries wherein the keys are names \n",
    "    and the values are value description dictionaries.\n",
    "    \n",
    "    Each value description sub-dictionary will use the attribute value abbreviations as its keys \n",
    "    and the attribute descriptions as the values.\n",
    "    \n",
    "    filename is expected to have one attribute name and set of values per line, with the following format:\n",
    "        name: value_description=value_abbreviation[,value_description=value_abbreviation]*\n",
    "    for example\n",
    "        cap-shape: bell=b, conical=c, convex=x, flat=f, knobbed=k, sunken=s\n",
    "    The attribute name and values dictionary created from this line would be the following:\n",
    "        {'name': 'cap-shape', 'values': {'c': 'conical', 'b': 'bell', 'f': 'flat', 'k': 'knobbed', 's': 'sunken', 'x': 'convex'}}'''\n",
    "    attribute_names_and_values = [] # this will be a list of dicts\n",
    "    with open(filename) as f:\n",
    "        for line in f:\n",
    "            attribute_name_and_value_dict = {}\n",
    "            attribute_name_and_value_string_list = line.strip().split(':')\n",
    "            attribute_name = attribute_name_and_value_string_list[0]\n",
    "            attribute_name_and_value_dict['name'] = attribute_name\n",
    "            if len(attribute_name_and_value_string_list) < 2:\n",
    "                attribute_name_and_value_dict['values'] = None # no values for this attribute\n",
    "            else:\n",
    "                value_abbreviation_description_dict = {}\n",
    "                description_and_abbreviation_string_list = attribute_name_and_value_string_list[1].strip().split(',')\n",
    "                for description_and_abbreviation_string in description_and_abbreviation_string_list:\n",
    "                    description_and_abbreviation = description_and_abbreviation_string.strip().split('=')\n",
    "                    description = description_and_abbreviation[0]\n",
    "                    if len(description_and_abbreviation) < 2: # assumption: no more than 1 value is missing an abbreviation\n",
    "                        value_abbreviation_description_dict[None] = description\n",
    "                    else:\n",
    "                        abbreviation = description_and_abbreviation[1]\n",
    "                        value_abbreviation_description_dict[abbreviation] = description\n",
    "                attribute_name_and_value_dict['values'] = value_abbreviation_description_dict\n",
    "            attribute_names_and_values.append(attribute_name_and_value_dict)\n",
    "    return attribute_names_and_values\n",
    "\n",
    "attribute_filename = 'agaricus-lepiota.attributes'\n",
    "# delete 'simple_ml.' in the function call below to test your function\n",
    "attribute_names_and_values = load_attribute_names_and_values(attribute_filename)\n",
    "print('Read', len(attribute_names_and_values), 'attribute values from', attribute_filename)\n",
    "print('First attribute name:', attribute_names_and_values[2]['name'], \n",
    "      '; values:', attribute_names_and_values[2]['values'])"
   ]
  },
  {
   "cell_type": "markdown",
   "metadata": {},
   "source": [
    "### Counters"
   ]
  },
  {
   "cell_type": "markdown",
   "metadata": {},
   "source": [
    "Data scientists often need to count things. For example, we might want to count the numbers of edible and poisonous mushrooms in the *clean_instances* list we created earlier."
   ]
  },
  {
   "cell_type": "code",
   "execution_count": 92,
   "metadata": {},
   "outputs": [
    {
     "name": "stdout",
     "output_type": "stream",
     "text": [
      "There are 3488 edible mushrooms among the 5644 clean instances\n"
     ]
    }
   ],
   "source": [
    "edible_count = 0\n",
    "for instance in clean_instances:\n",
    "    if instance[0] == 'e':\n",
    "        edible_count += 1  # this is shorthand for edible_count = edible_count + 1\n",
    "\n",
    "print('There are', edible_count, 'edible mushrooms among the', \n",
    "      len(clean_instances), 'clean instances')"
   ]
  },
  {
   "cell_type": "markdown",
   "metadata": {},
   "source": [
    "More generally, we often want to count the number of occurrences (frequencies) of each possible value for an attribute. One way to do so is to create a dictionary where each dictionary key is an attribute value and each dictionary value is the count of instances with that attribute value.\n",
    "\n",
    "Using an ordinary dictionary, we must be careful to create a new dictionary entry the first time we see a new attribute value (that is not already contained in the dictionary)."
   ]
  },
  {
   "cell_type": "code",
   "execution_count": 93,
   "metadata": {},
   "outputs": [
    {
     "name": "stdout",
     "output_type": "stream",
     "text": [
      "Counts for each value of cap-state:\n",
      "x : 2840\n",
      "b : 300\n",
      "s : 32\n",
      "f : 2432\n",
      "k : 36\n",
      "c : 4\n"
     ]
    }
   ],
   "source": [
    "cap_state_value_counts = {}\n",
    "for instance in clean_instances:\n",
    "    cap_state_value = instance[1]  # cap-state is the 2nd attribute\n",
    "    if cap_state_value not in cap_state_value_counts:\n",
    "        # first occurrence, must explicitly initialize counter for this cap_state_value\n",
    "        cap_state_value_counts[cap_state_value] = 0\n",
    "    cap_state_value_counts[cap_state_value] += 1\n",
    "\n",
    "print('Counts for each value of cap-state:')\n",
    "for value in cap_state_value_counts:\n",
    "    print(value, ':', cap_state_value_counts[value])"
   ]
  },
  {
   "cell_type": "markdown",
   "metadata": {},
   "source": [
    "The Python [**`collections`**](http://docs.python.org/2/library/collections.html) module provides a number of high performance container datatypes. A frequently useful datatype is a [**`Counter`**](http://docs.python.org/2/library/collections.html#collections.Counter), a specialized dictionary in which each *key* is a unique element found in a list or some other container, and each *value* is the number of occurrences of that element in the source container. The default value for each newly created key is zero.\n",
    "\n",
    "A `Counter` includes a method, [**`most_common([n])`**](http://docs.python.org/2/library/collections.html#collections.Counter.most_common), that returns a list of 2-element tuples representing the values and their associated counts for the most common `n` values in descending order of the counts; if `n` is omitted, the method returns all tuples.\n",
    "\n",
    "Note that we can either use\n",
    "\n",
    "`import collections`\n",
    "\n",
    "and then use `collections.Counter()` in our code, or use\n",
    "\n",
    "`from collections import Counter`\n",
    "\n",
    "and then use `Counter()` (with no module specification) in our code."
   ]
  },
  {
   "cell_type": "code",
   "execution_count": 94,
   "metadata": {},
   "outputs": [
    {
     "name": "stdout",
     "output_type": "stream",
     "text": [
      "Counts for each value of cap-state:\n",
      "x : 2840\n",
      "b : 300\n",
      "s : 32\n",
      "f : 2432\n",
      "k : 36\n",
      "c : 4\n"
     ]
    }
   ],
   "source": [
    "from collections import Counter\n",
    "\n",
    "cap_state_value_counts = Counter()\n",
    "for instance in clean_instances:\n",
    "    cap_state_value = instance[1]\n",
    "    # no need to explicitly initialize counters for cap_state_value; all start at zero\n",
    "    cap_state_value_counts[cap_state_value] += 1\n",
    "\n",
    "print('Counts for each value of cap-state:')\n",
    "for value in cap_state_value_counts:\n",
    "    print(value, ':', cap_state_value_counts[value])"
   ]
  },
  {
   "cell_type": "markdown",
   "metadata": {},
   "source": [
    "When a `Counter` object is instantiated with a list of items, it returns a dictionary-like container in which the *keys* are the unique items in the list, and the *values* are the counts of each unique item in that list. "
   ]
  },
  {
   "cell_type": "code",
   "execution_count": 95,
   "metadata": {},
   "outputs": [
    {
     "name": "stdout",
     "output_type": "stream",
     "text": [
      "Counter({'a': 3, 'b': 2, 'c': 1})\n",
      "[('a', 3), ('b', 2), ('c', 1)]\n"
     ]
    }
   ],
   "source": [
    "counts = Counter(['a', 'b', 'c', 'a', 'b', 'a'])\n",
    "print(counts)\n",
    "print(counts.most_common())"
   ]
  },
  {
   "cell_type": "markdown",
   "metadata": {},
   "source": [
    "This allows us to count the number of values for `cap-state` in a very compact way."
   ]
  },
  {
   "cell_type": "markdown",
   "metadata": {},
   "source": [
    "We can use a `Counter` initialized with a list comprehension to collect all the values of the 2nd attribute, `cap-state`.\n",
    "\n",
    "The following shows the first 10 instances; the second element in each sublist is the value of `cap-state` or that instance."
   ]
  },
  {
   "cell_type": "code",
   "execution_count": 96,
   "metadata": {},
   "outputs": [
    {
     "name": "stdout",
     "output_type": "stream",
     "text": [
      "[['p', 'x', 's', 'n', 't', 'p', 'f', 'c', 'n', 'k', 'e', 'e', 's', 's', 'w', 'w', 'p', 'w', 'o', 'p', 'k', 's', 'u'], ['e', 'x', 's', 'y', 't', 'a', 'f', 'c', 'b', 'k', 'e', 'c', 's', 's', 'w', 'w', 'p', 'w', 'o', 'p', 'n', 'n', 'g'], ['e', 'b', 's', 'w', 't', 'l', 'f', 'c', 'b', 'n', 'e', 'c', 's', 's', 'w', 'w', 'p', 'w', 'o', 'p', 'n', 'n', 'm'], ['p', 'x', 'y', 'w', 't', 'p', 'f', 'c', 'n', 'n', 'e', 'e', 's', 's', 'w', 'w', 'p', 'w', 'o', 'p', 'k', 's', 'u'], ['e', 'x', 's', 'g', 'f', 'n', 'f', 'w', 'b', 'k', 't', 'e', 's', 's', 'w', 'w', 'p', 'w', 'o', 'e', 'n', 'a', 'g'], ['e', 'x', 'y', 'y', 't', 'a', 'f', 'c', 'b', 'n', 'e', 'c', 's', 's', 'w', 'w', 'p', 'w', 'o', 'p', 'k', 'n', 'g'], ['e', 'b', 's', 'w', 't', 'a', 'f', 'c', 'b', 'g', 'e', 'c', 's', 's', 'w', 'w', 'p', 'w', 'o', 'p', 'k', 'n', 'm'], ['e', 'b', 'y', 'w', 't', 'l', 'f', 'c', 'b', 'n', 'e', 'c', 's', 's', 'w', 'w', 'p', 'w', 'o', 'p', 'n', 's', 'm'], ['p', 'x', 'y', 'w', 't', 'p', 'f', 'c', 'n', 'p', 'e', 'e', 's', 's', 'w', 'w', 'p', 'w', 'o', 'p', 'k', 'v', 'g'], ['e', 'b', 's', 'y', 't', 'a', 'f', 'c', 'b', 'g', 'e', 'c', 's', 's', 'w', 'w', 'p', 'w', 'o', 'p', 'k', 's', 'm']]\n"
     ]
    }
   ],
   "source": [
    "print(clean_instances[:10])"
   ]
  },
  {
   "cell_type": "markdown",
   "metadata": {},
   "source": [
    "The following list comprehension gathers the 2nd attribute of each of the first 10 sublists (note the slice notation)."
   ]
  },
  {
   "cell_type": "code",
   "execution_count": 97,
   "metadata": {},
   "outputs": [
    {
     "data": {
      "text/plain": [
       "['x', 'x', 'b', 'x', 'x', 'x', 'b', 'b', 'x', 'b']"
      ]
     },
     "execution_count": 97,
     "metadata": {},
     "output_type": "execute_result"
    }
   ],
   "source": [
    "[instance[1] for instance in clean_instances][:10]"
   ]
  },
  {
   "cell_type": "markdown",
   "metadata": {},
   "source": [
    "Now we will gather all of the values for the 2nd attribute into a list and create a `Counter` for that list."
   ]
  },
  {
   "cell_type": "code",
   "execution_count": 98,
   "metadata": {},
   "outputs": [
    {
     "name": "stdout",
     "output_type": "stream",
     "text": [
      "Counts for each value of cap-state:\n",
      "x : 2840\n",
      "b : 300\n",
      "s : 32\n",
      "f : 2432\n",
      "k : 36\n",
      "c : 4\n"
     ]
    }
   ],
   "source": [
    "cap_state_value_counts = Counter([instance[1] for instance in clean_instances])\n",
    "\n",
    "print('Counts for each value of cap-state:')\n",
    "for value in cap_state_value_counts:\n",
    "    print(value, ':', cap_state_value_counts[value])"
   ]
  },
  {
   "cell_type": "markdown",
   "metadata": {},
   "source": [
    "### Exercise 4: define `attribute_value_counts()`"
   ]
  },
  {
   "cell_type": "markdown",
   "metadata": {},
   "source": [
    "Define a function, `attribute_value_counts(instances, attribute, attribute_names)`, that returns a `Counter` containing the counts of occurrences of each value of `attribute` in the list of `instances`. `attribute_names` is the list we created above, where each element is the name of an attribute.\n",
    "\n",
    "This exercise is designed to generalize the solution shown in the code directly above (which handles only the `cap-state` attribute)."
   ]
  },
  {
   "cell_type": "code",
   "execution_count": 99,
   "metadata": {},
   "outputs": [
    {
     "name": "stdout",
     "output_type": "stream",
     "text": [
      "Counts for each value of cap-surface :\n",
      "s : 1260\n",
      "y : 2220\n",
      "f : 2160\n",
      "g : 4\n"
     ]
    }
   ],
   "source": [
    "def attribute_value_counts(instances, attribute, attribute_names):\n",
    "    i = attribute_names.index(attribute)\n",
    "    return Counter([instance[i] for instance in instances])\n",
    "\n",
    "attribute = 'cap-surface'\n",
    "# delete 'simple_ml.' in the function call below to test your function\n",
    "my_attribute_value_counts = attribute_value_counts(clean_instances, \n",
    "                                                          attribute, \n",
    "                                                          attribute_names)\n",
    "\n",
    "print('Counts for each value of', attribute, ':')\n",
    "for value in my_attribute_value_counts:\n",
    "    print(value, ':', my_attribute_value_counts[value])"
   ]
  },
  {
   "cell_type": "markdown",
   "metadata": {},
   "source": [
    "### More on sorting"
   ]
  },
  {
   "cell_type": "markdown",
   "metadata": {},
   "source": [
    "Earlier, we saw that there is a `list.sort()` method that will sort a list in-place, i.e., by replacing the original value of `list` with a sorted version of the elements in `list`. \n",
    "\n",
    "We also saw that the [**`sorted(iterable[, cmp[, key[, reverse]]])`**](http://docs.python.org/2/library/functions.html#sorted) function can be used to return a *copy* of a list, dictionary or any other [*iterable*](http://docs.python.org/2/glossary.html#term-iterable) container it is passed, in ascending order."
   ]
  },
  {
   "cell_type": "code",
   "execution_count": 100,
   "metadata": {},
   "outputs": [
    {
     "name": "stdout",
     "output_type": "stream",
     "text": [
      "[3, 1, 4, 2, 5]\n",
      "[1, 2, 3, 4, 5]\n"
     ]
    }
   ],
   "source": [
    "original_list = [3, 1, 4, 2, 5]\n",
    "sorted_list = sorted(original_list)\n",
    "\n",
    "print(original_list)\n",
    "print(sorted_list)"
   ]
  },
  {
   "cell_type": "markdown",
   "metadata": {},
   "source": [
    "`sorted()` can also be used with dictionaries (it returns a sorted list of the dictionary *keys*)."
   ]
  },
  {
   "cell_type": "code",
   "execution_count": 101,
   "metadata": {},
   "outputs": [
    {
     "name": "stdout",
     "output_type": "stream",
     "text": [
      "['b', 'c', 'f', 'k', 's', 'x']\n"
     ]
    }
   ],
   "source": [
    "print(sorted(attribute_values_cap_type))"
   ]
  },
  {
   "cell_type": "markdown",
   "metadata": {},
   "source": [
    "We can use the sorted *keys* to access the *values* of a dictionary in ascending order of the keys."
   ]
  },
  {
   "cell_type": "code",
   "execution_count": 102,
   "metadata": {},
   "outputs": [
    {
     "name": "stdout",
     "output_type": "stream",
     "text": [
      "b = bell\n",
      "c = conical\n",
      "f = flat\n",
      "k = knobbed\n",
      "s = sunken\n",
      "x = convex\n"
     ]
    }
   ],
   "source": [
    "for attribute_value_abbrev in sorted(attribute_values_cap_type):\n",
    "    print(attribute_value_abbrev, '=', attribute_values_cap_type[attribute_value_abbrev])"
   ]
  },
  {
   "cell_type": "code",
   "execution_count": 103,
   "metadata": {},
   "outputs": [
    {
     "name": "stdout",
     "output_type": "stream",
     "text": [
      "Counts for each value of cap-surface :\n",
      "f : 2160\n",
      "g : 4\n",
      "s : 1260\n",
      "y : 2220\n"
     ]
    }
   ],
   "source": [
    "attribute = 'cap-surface'\n",
    "attribute_value_counts = simple_ml.attribute_value_counts(clean_instances, \n",
    "                                                          attribute, \n",
    "                                                          attribute_names)\n",
    "\n",
    "print('Counts for each value of', attribute, ':')\n",
    "for value in sorted(attribute_value_counts):\n",
    "    print(value, ':', attribute_value_counts[value])"
   ]
  },
  {
   "cell_type": "markdown",
   "metadata": {},
   "source": [
    "### Sorting a dictionary by values"
   ]
  },
  {
   "cell_type": "markdown",
   "metadata": {},
   "source": [
    "It is often useful to sort a dictionary by its *values* rather than its *keys*. \n",
    "\n",
    "For example, when we printed out the counts of the attribute values for `cap-shape` above, the counts appeared in an ascending alphabetic order of their attribute names. It is often more helpful to show the attribute value counts in descending order of the counts (which are the values in that dictionary).\n",
    "\n",
    "There are a [variety of ways to sort a dictionary by values](http://writeonly.wordpress.com/2008/08/30/sorting-dictionaries-by-value-in-python-improved/), but the approach described in [PEP-256](http://legacy.python.org/dev/peps/pep-0265/) is generally considered the most efficient.\n",
    "\n",
    "In order to understand the components used in this approach, we will revisit and elaborate on a few concepts involving *dictionaries*, *iterators* and *modules*."
   ]
  },
  {
   "cell_type": "markdown",
   "metadata": {},
   "source": [
    "The [**`dict.items()`**](http://docs.python.org/2/library/stdtypes.html#dict.items) method returns an unordered list of `(key, value)` tuples in `dict`."
   ]
  },
  {
   "cell_type": "code",
   "execution_count": 104,
   "metadata": {},
   "outputs": [
    {
     "data": {
      "text/plain": [
       "dict_items([('b', 'bell'), ('c', 'conical'), ('x', 'convex'), ('f', 'flat'), ('k', 'knobbed'), ('s', 'sunken')])"
      ]
     },
     "execution_count": 104,
     "metadata": {},
     "output_type": "execute_result"
    }
   ],
   "source": [
    "attribute_values_cap_type.items()"
   ]
  },
  {
   "cell_type": "markdown",
   "metadata": {},
   "source": [
    "In Python 2, a related method, [**`dict.iteritems()`**](http://docs.python.org/2/library/stdtypes.html#dict.iteritems), returns an [**`iterator`**](http://docs.python.org/2/library/stdtypes.html#iterator-types): a callable object that returns the *next* item in a sequence each time it is referenced (e.g., during each iteration of a for loop), which can be more efficient than generating *all* the items in the sequence before any are used ... and so should be used rather than `items()` wherever possible\n",
    "\n",
    "This is similar to the distinction between `xrange()` and `range()` described above ... and, also similarly, `dict.items()` is an `iterator` in Python 3 and so `dict.iteritems()` is no longer needed (nor defined) ... and further similarly, we will use only `dict.items()` in this notebook, but it is generally more efficient to use `dict.iteritems()` in Python 2."
   ]
  },
  {
   "cell_type": "code",
   "execution_count": 105,
   "metadata": {},
   "outputs": [
    {
     "name": "stdout",
     "output_type": "stream",
     "text": [
      "b : bell\n",
      "c : conical\n",
      "x : convex\n",
      "f : flat\n",
      "k : knobbed\n",
      "s : sunken\n"
     ]
    }
   ],
   "source": [
    "for key, value in attribute_values_cap_type.items():\n",
    "    print(key, ':', value)"
   ]
  },
  {
   "cell_type": "markdown",
   "metadata": {},
   "source": [
    "The Python [**`operator`**](http://docs.python.org/2/library/operator.html) module contains a number of functions that perform object comparisons, logical operations, mathematical operations, sequence operations, and abstract type tests.\n",
    "\n",
    "To facilitate sorting a dictionary by values, we will use the [**`operator.itemgetter(i)`**](http://docs.python.org/2/library/operator.html#operator.itemgetter) function that can be used to retrieve the `i`th value in a tuple (such as a `(key, value)` pair returned by `[iter]items()`).\n",
    "\n",
    "We can use `operator.itemgetter(1)`) to reference the *value* - the 2nd item in each `(key, value)` tuple, (at zero-based index position 1) - rather than the *key* - the first item in each `(key, value)` tuple (at index position 0).\n",
    "\n",
    "We will use the optional keyword argument **`key`** in [`sorted(iterable[, cmp[, key[, reverse]]])`](http://docs.python.org/2/library/functions.html#sorted) to specify a *sorting* key that is not the same as the `dict` key (recall that the `dict` key is the default *sorting* key for `sorted()`)."
   ]
  },
  {
   "cell_type": "code",
   "execution_count": 106,
   "metadata": {},
   "outputs": [
    {
     "data": {
      "text/plain": [
       "[('b', 'bell'),\n",
       " ('c', 'conical'),\n",
       " ('x', 'convex'),\n",
       " ('f', 'flat'),\n",
       " ('k', 'knobbed'),\n",
       " ('s', 'sunken')]"
      ]
     },
     "execution_count": 106,
     "metadata": {},
     "output_type": "execute_result"
    }
   ],
   "source": [
    "import operator\n",
    "\n",
    "sorted(attribute_values_cap_type.items(), \n",
    "       key=operator.itemgetter(1))"
   ]
  },
  {
   "cell_type": "markdown",
   "metadata": {},
   "source": [
    "We can now sort the counts of attribute values in descending frequency of occurrence, and print them out using tuple unpacking."
   ]
  },
  {
   "cell_type": "code",
   "execution_count": 107,
   "metadata": {},
   "outputs": [
    {
     "name": "stdout",
     "output_type": "stream",
     "text": [
      "Counts for each value of cap-shape (sorted by count):\n",
      "x : 2840\n",
      "f : 2432\n",
      "b : 300\n",
      "k : 36\n",
      "s : 32\n",
      "c : 4\n"
     ]
    }
   ],
   "source": [
    "attribute = 'cap-shape'\n",
    "value_counts = simple_ml.attribute_value_counts(clean_instances, \n",
    "                                                attribute, \n",
    "                                                attribute_names)\n",
    "\n",
    "print('Counts for each value of', attribute, '(sorted by count):')\n",
    "for value, count in sorted(value_counts.items(), \n",
    "                           key=operator.itemgetter(1), \n",
    "                           reverse=True):\n",
    "    print(value, ':', count)"
   ]
  },
  {
   "cell_type": "markdown",
   "metadata": {},
   "source": [
    "Note that this example is rather contrived, as it is generally easiest to use a `Counter` and its associated `most_common()` method when sorting a dictionary wherein the values are all counts. The need to sort other kinds of dictionaries by their values is rather common. "
   ]
  },
  {
   "cell_type": "markdown",
   "metadata": {},
   "source": [
    "### String formatting"
   ]
  },
  {
   "cell_type": "markdown",
   "metadata": {},
   "source": [
    "It is often helpful to use [fancier output formatting](http://docs.python.org/2/tutorial/inputoutput.html#fancier-output-formatting) than simply printing comma-delimited lists of items. \n",
    "\n",
    "Examples of the **[`str.format()`](https://docs.python.org/2/library/stdtypes.html#str.format)** function used in conjunction with print statements is shown below. \n",
    "\n",
    "More details can be found in the Python documentation on [format string syntax](http://docs.python.org/2/library/string.html#format-string-syntax)."
   ]
  },
  {
   "cell_type": "code",
   "execution_count": 108,
   "metadata": {},
   "outputs": [
    {
     "name": "stdout",
     "output_type": "stream",
     "text": [
      "0.100\n",
      "  0.100\n",
      "000.100\n",
      "  1\n",
      "001\n",
      "hello     \n",
      "     hello\n"
     ]
    }
   ],
   "source": [
    "print('{:5.3f}'.format(0.1))  # fieldwidth = 5; precision = 3; f = float\n",
    "print('{:7.3f}'.format(0.1))  # if fieldwidth is larger than needed, left pad with spaces\n",
    "print('{:07.3f}'.format(0.1))  # use leading zero to left pad with leading zeros\n",
    "print('{:3d}'.format(1))  # d = int\n",
    "print('{:03d}'.format(1))\n",
    "print('{:10s}'.format('hello'))  # s = string, left-justified\n",
    "print('{:>10s}'.format('hello'))  # use '>' to right-justify within fieldwidth"
   ]
  },
  {
   "cell_type": "markdown",
   "metadata": {},
   "source": [
    "The following example illustrates the use of `str.format()` on data associated with the mushroom dataset."
   ]
  },
  {
   "cell_type": "code",
   "execution_count": 109,
   "metadata": {},
   "outputs": [
    {
     "name": "stdout",
     "output_type": "stream",
     "text": [
      "class: e = 3488 (0.618), p = 2156 (0.382) "
     ]
    }
   ],
   "source": [
    "print('class: {} = {} ({:5.3f}), {} = {} ({:5.3f})'.format(\n",
    "        'e', 3488, 3488 / 5644, \n",
    "        'p', 2156, 2156 / 5644), end=' ')"
   ]
  },
  {
   "cell_type": "markdown",
   "metadata": {},
   "source": [
    "The following variation - splitting off the printing of the attribute name from the printing of the values and counts of values for that attrbiute - may be more useful in developing a solution to the following exercise."
   ]
  },
  {
   "cell_type": "code",
   "execution_count": 110,
   "metadata": {},
   "outputs": [
    {
     "name": "stdout",
     "output_type": "stream",
     "text": [
      "class: e = 3488 (0.618), p = 2156 (0.382) \n"
     ]
    }
   ],
   "source": [
    "print('class:', end=' ')  # keeps cursor on the same line for subsequent print statements\n",
    "print('{} = {} ({:5.3f}),'.format('e', 3488, 3488 / 5644), end=' ')\n",
    "print('{} = {} ({:5.3f})'.format('p', 2156, 2156 / 5644), end=' ')\n",
    "print()  # advance the cursor to the beginning of the next line"
   ]
  },
  {
   "cell_type": "markdown",
   "metadata": {},
   "source": [
    "### Exercise 5: define `print_all_attribute_value_counts()`"
   ]
  },
  {
   "cell_type": "markdown",
   "metadata": {},
   "source": [
    "Define a function, `print_all_attribute_value_counts(instances, attribute_names)`, that prints each attribute name in `attribute_names`, and then for each attribute value, prints the value abbreviation, the count of occurrences of that value and the proportion of instances that have that attribute value.\n",
    "**The solutions are provided.**"
   ]
  },
  {
   "cell_type": "code",
   "execution_count": 111,
   "metadata": {},
   "outputs": [
    {
     "name": "stdout",
     "output_type": "stream",
     "text": [
      "\n",
      "Counts for all attributes and values:\n",
      "\n",
      "class: e = 3488 (0.618), p = 2156 (0.382), \n",
      "cap-shape: x = 2840 (0.503), f = 2432 (0.431), b = 300 (0.053), k = 36 (0.006), s = 32 (0.006), c = 4 (0.001), \n",
      "cap-surface: y = 2220 (0.393), f = 2160 (0.383), s = 1260 (0.223), g = 4 (0.001), \n",
      "cap-color: g = 1696 (0.300), n = 1164 (0.206), y = 1056 (0.187), w = 880 (0.156), e = 588 (0.104), b = 120 (0.021), p = 96 (0.017), c = 44 (0.008), \n",
      "bruises?: t = 3184 (0.564), f = 2460 (0.436), \n",
      "odor: n = 2776 (0.492), f = 1584 (0.281), a = 400 (0.071), l = 400 (0.071), p = 256 (0.045), c = 192 (0.034), m = 36 (0.006), \n",
      "gill-attachment: f = 5626 (0.997), a = 18 (0.003), \n",
      "gill-spacing: c = 4620 (0.819), w = 1024 (0.181), \n",
      "gill-size: b = 4940 (0.875), n = 704 (0.125), \n",
      "gill-color: p = 1384 (0.245), n = 984 (0.174), w = 966 (0.171), h = 720 (0.128), g = 656 (0.116), u = 480 (0.085), k = 408 (0.072), r = 24 (0.004), y = 22 (0.004), \n",
      "stalk-shape: t = 2880 (0.510), e = 2764 (0.490), \n",
      "stalk-root: b = 3776 (0.669), e = 1120 (0.198), c = 556 (0.099), r = 192 (0.034), \n",
      "stalk-surface-above-ring: s = 3736 (0.662), k = 1332 (0.236), f = 552 (0.098), y = 24 (0.004), \n",
      "stalk-surface-below-ring: s = 3544 (0.628), k = 1296 (0.230), f = 552 (0.098), y = 252 (0.045), \n",
      "stalk-color-above-ring: w = 3136 (0.556), p = 1008 (0.179), g = 576 (0.102), n = 448 (0.079), b = 432 (0.077), c = 36 (0.006), y = 8 (0.001), \n",
      "stalk-color-below-ring: w = 3088 (0.547), p = 1008 (0.179), g = 576 (0.102), n = 496 (0.088), b = 432 (0.077), c = 36 (0.006), y = 8 (0.001), \n",
      "veil-type: p = 5644 (1.000), \n",
      "veil-color: w = 5636 (0.999), y = 8 (0.001), \n",
      "ring-number: o = 5488 (0.972), t = 120 (0.021), n = 36 (0.006), \n",
      "ring-type: p = 3488 (0.618), l = 1296 (0.230), e = 824 (0.146), n = 36 (0.006), \n",
      "spore-print-color: n = 1920 (0.340), k = 1872 (0.332), h = 1584 (0.281), w = 148 (0.026), r = 72 (0.013), u = 48 (0.009), \n",
      "population: v = 2160 (0.383), y = 1688 (0.299), s = 1104 (0.196), a = 384 (0.068), n = 256 (0.045), c = 52 (0.009), \n",
      "habitat: d = 2492 (0.442), g = 1860 (0.330), p = 568 (0.101), u = 368 (0.065), m = 292 (0.052), l = 64 (0.011), \n"
     ]
    }
   ],
   "source": [
    "def print_all_attribute_value_counts(instances, attribute_names):\n",
    "    '''Returns a list of Counters containing the counts of occurrences \n",
    "    of each value of each attribute in the list of instances.\n",
    "    attribute_names is a list of names of attributes.'''\n",
    "    num_instances = len(instances)\n",
    "    for attribute in attribute_names:\n",
    "        value_counts = attribute_value_counts(instances, attribute, attribute_names)\n",
    "        print('{}:'.format(attribute), end=' ')\n",
    "        for value, count in sorted(value_counts.items(), key=operator.itemgetter(1), reverse=True):\n",
    "            print('{} = {} ({:5.3f}),'.format(value, count, count / num_instances), end='\\n')\n",
    "    print()\n",
    "\n",
    "print('\\nCounts for all attributes and values:\\n')\n",
    "# delete 'simple_ml.' in the function call below to test your function\n",
    "import simple_ml\n",
    "simple_ml.print_all_attribute_value_counts(clean_instances, attribute_names)"
   ]
  },
  {
   "cell_type": "markdown",
   "metadata": {},
   "source": [
    "## 4. Using Python to Build and Use a Simple Decision Tree Classifier"
   ]
  },
  {
   "cell_type": "markdown",
   "metadata": {},
   "source": [
    "### Decision Trees"
   ]
  },
  {
   "cell_type": "markdown",
   "metadata": {},
   "source": [
    "Wikipedia offers the following description of a [decision tree](https://en.wikipedia.org/wiki/Decision_tree) (with italics added to emphasize terms that will be elaborated below):\n",
    "\n",
    "> A decision tree is a flowchart-like structure in which each *internal node* represents a *test* of an *attribute*, each branch represents an *outcome* of that test and each *leaf node* represents *class label* (a decision taken after testing all attributes in the path from the root to the leaf). Each path from the root to a leaf can also be represented as a classification rule.\n",
    "\n",
    "*\\[Decision trees can also be used for regression, wherein the goal is to predict a continuous value rather than a class label, but we will focus here solely on their use for classification.\\]*\n",
    "\n",
    "The image below depicts a decision tree created from the UCI mushroom dataset that appears on [Andy G's blog post about Decision Tree Learning](http://gieseanw.wordpress.com/2012/03/03/decision-tree-learning/), where \n",
    "\n",
    "* a white box represents an *internal node* (and the label represents the *attribute* being tested)\n",
    "* a blue box represents an attribute value (an *outcome* of the *test* of that attribute)\n",
    "* a green box represents a *leaf node* with a *class label* of *edible*\n",
    "* a red box represents a *leaf node* with a *class label* of *poisonous*\n",
    "\n",
    "<img src=\"http://gieseanw.files.wordpress.com/2012/03/mushroomdecisiontree.png\" style=\"width: 800px;\" />\n",
    "\n",
    "It is important to note that the UCI mushroom dataset consists entirely of [categorical variables](https://en.wikipedia.org/wiki/Categorical_variable), i.e., every variable (or *attribute*) has an enumerated set of possible values. Many datasets include numeric variables that can take on `int` or `float` values. Tests for such variables typically use comparison operators, e.g., $age < 65$ or $36,250 < adjusted\\_gross\\_income <= 87,850$. *[Aside: Python supports boolean expressions containing multiple comparison operators, such as the expression comparing adjusted_gross_income in the preceding example.]*\n",
    "\n",
    "Our simple decision tree will only accommodate categorical variables. We will closely follow a version of the [decision tree learning algorithm implementation](http://www.onlamp.com/pub/a/python/2006/02/09/ai_decision_trees.html?page=3) offered by Chris Roach.\n",
    "\n",
    "Our goal in the following sections is to use Python to\n",
    "\n",
    "* ***create*** a simple decision tree using a set of *training* instances\n",
    "* ***classify*** (predict class labels) for a set of *test* instances using a simple decision tree\n",
    "* ***evaluate*** the performance of a simple decision tree on classifying a set of test instances\n",
    "\n",
    "First, we will explore some concepts and algorithms used in building and using decision trees."
   ]
  },
  {
   "cell_type": "markdown",
   "metadata": {},
   "source": [
    "### Entropy"
   ]
  },
  {
   "cell_type": "markdown",
   "metadata": {},
   "source": [
    "When building a supervised classification model, the frequency distribution of attribute values is a potentially important factor in determining the relative importance of each attribute at various stages in the model building process.\n",
    "\n",
    "In data modeling, we can use frequency distributions to compute ***entropy***, a measure of disorder (impurity) in a set.\n",
    "\n",
    "We compute the entropy of multiplying the proportion of instances with each class label by the log of that proportion, and then taking the negative sum of those terms.\n",
    "\n",
    "More precisely, for a 2-class (binary) classification task:\n",
    "\n",
    "$entropy(S) = - p_1 log_2 (p_1) - p_2 log_2 (p_2)$\n",
    "\n",
    "where $p_i$ is proportion (relative frequency) of class *i* within the set *S*.\n",
    "\n",
    "From the output above, we know that the proportion of `clean_instances` that are labeled `'e'` (class `edible`) in the UCI dataset is $3488 \\div 5644 = 0.618$, and the proportion labeled `'p'` (class `poisonous`) is $2156 \\div 5644 = 0.382$.\n",
    "\n",
    "After importing the Python [`math`](http://docs.python.org/2/library/math.html) module, we can use the [`math.log(x[, base])`](http://docs.python.org/2/library/math.html#math.log) function in computing the entropy of the `clean_instances` of the UCI mushroom data set as follows."
   ]
  },
  {
   "cell_type": "code",
   "execution_count": 112,
   "metadata": {},
   "outputs": [
    {
     "name": "stdout",
     "output_type": "stream",
     "text": [
      "0.9594413373534086\n"
     ]
    }
   ],
   "source": [
    "import math\n",
    "\n",
    "entropy = \\\n",
    "    - (3488 / 5644) * math.log(3488 / 5644, 2) \\\n",
    "    - (2156 / 5644) * math.log(2156 / 5644, 2)\n",
    "print(entropy)"
   ]
  },
  {
   "cell_type": "markdown",
   "metadata": {},
   "source": [
    "### Exercise 6: define `entropy()`\n",
    "** The solution is provided. **"
   ]
  },
  {
   "cell_type": "markdown",
   "metadata": {},
   "source": [
    "Define a function, `entropy(instances)`, that computes the entropy of `instances`. You may assume the class label is in position 0; we will later see how to specify default parameter values in function definitions.\n",
    "\n",
    "[Note: the class label in many data files is the *last* rather than the *first* item on each line.]"
   ]
  },
  {
   "cell_type": "code",
   "execution_count": 113,
   "metadata": {},
   "outputs": [
    {
     "name": "stdout",
     "output_type": "stream",
     "text": [
      "0.9594413373534086\n"
     ]
    }
   ],
   "source": [
    "def entropy(instances, class_index=0, attribute_name=None, value_name=None):\n",
    "    '''Calculate the entropy of attribute in position attribute_index for the list of instances.'''\n",
    "    num_instances = len(instances)\n",
    "    if num_instances <= 1:\n",
    "        return 0\n",
    "    value_counts = defaultdict(int)\n",
    "    for instance in instances:\n",
    "        value_counts[instance[class_index]] += 1\n",
    "    num_values = len(value_counts)\n",
    "    if num_values <= 1:\n",
    "        return 0\n",
    "    attribute_entropy = 0.0\n",
    "    if attribute_name:\n",
    "        print('entropy({}{}) = '.format(attribute_name, \n",
    "        \t'={}'.format(value_name) if value_name else ''))\n",
    "    for value in value_counts:\n",
    "        value_probability = value_counts[value] / num_instances\n",
    "        child_entropy = value_probability * math.log(value_probability, 2)\n",
    "        attribute_entropy -= child_entropy\n",
    "        if attribute_name:\n",
    "            print('  - p({0}) x log(p({0}), {1})  =  - {2:5.3f} x log({2:5.3f})  =  {3:5.3f}'.format(\n",
    "                value, num_values, value_probability, child_entropy))\n",
    "    if attribute_name:\n",
    "        print('  = {:5.3f}'.format(attribute_entropy))\n",
    "    return attribute_entropy\n",
    "\n",
    "# delete 'simple_ml.' in the function call below to test your function\n",
    "print(simple_ml.entropy(clean_instances))"
   ]
  },
  {
   "cell_type": "markdown",
   "metadata": {},
   "source": [
    "### Information Gain"
   ]
  },
  {
   "cell_type": "markdown",
   "metadata": {},
   "source": [
    "Informally, a decision tree is constructed from a set of instances using a recursive algorithm that \n",
    "\n",
    "* selects the *best* attribute \n",
    "* splits the set into subsets based on the values of that attribute (each subset is composed of instances from the original set that have the same value for that attribute)\n",
    "* repeats the process on each of these subsets until a stopping condition is met (e.g., a subset has no instances or has instances which all have the same class label)\n",
    "\n",
    "Entropy is a metric that can be used in selecting the best attribute for each split: the best attribute is the one resulting in the *largest decrease in entropy* for a set of instances. [Note: other metrics can be used for determining the best attribute]\n",
    "\n",
    "*Information gain* measures the decrease in entropy that results from splitting a set of instances based on an attribute.\n",
    "\n",
    "$IG(S, a) = entropy(S) - [p(s_1) × entropy(s_1) + p(s_2) × entropy(s_2) ... + p(s_n) × entropy(s_n)]$\n",
    "\n",
    "Where \n",
    "* $n$ is the number of distinct values of attribute $a$\n",
    "* $s_i$ is the subset of $S$ where all instances have the $i$th value of $a$\n",
    "* $p(s_i)$ is the proportion of instances in $S$ that have the $i$th value of $a$\n",
    "\n",
    "We'll use the definition of `information_gain()` in `simple_ml` to print the information gain for each of the attributes in the mushroom dataset ... before asking you to write your own definition of the function."
   ]
  },
  {
   "cell_type": "code",
   "execution_count": 114,
   "metadata": {},
   "outputs": [
    {
     "name": "stdout",
     "output_type": "stream",
     "text": [
      "Information gain for different attributes:\n",
      "\n",
      "0.017   1 cap-shape\n",
      "0.005   2 cap-surface\n",
      "0.195   3 cap-color\n",
      "0.140   4 bruises?\n",
      "0.860   5 odor\n",
      "0.004   6 gill-attachment\n",
      "0.058   7 gill-spacing\n",
      "0.032   8 gill-size\n",
      "0.213   9 gill-color\n",
      "0.275  10 stalk-shape\n",
      "0.097  11 stalk-root\n",
      "0.425  12 stalk-surface-above-ring\n",
      "0.409  13 stalk-surface-below-ring\n",
      "0.306  14 stalk-color-above-ring\n",
      "0.279  15 stalk-color-below-ring\n",
      "0.000  16 veil-type\n",
      "0.002  17 veil-color\n",
      "0.012  18 ring-number\n",
      "0.463  19 ring-type\n",
      "0.583  20 spore-print-color\n",
      "0.110  21 population\n",
      "0.101  22 habitat\n"
     ]
    }
   ],
   "source": [
    "print('Information gain for different attributes:', end='\\n\\n')\n",
    "for i in range(1, len(attribute_names)):\n",
    "    print('{:5.3f}  {:2} {}'.format(\n",
    "        simple_ml.information_gain(clean_instances, i), i, attribute_names[i]))"
   ]
  },
  {
   "cell_type": "markdown",
   "metadata": {},
   "source": [
    "We can sort the attributes based in decreasing order of information gain, which shows that `odor` is the best attribute for the first split in a decision tree that models the instances in this dataset."
   ]
  },
  {
   "cell_type": "code",
   "execution_count": 115,
   "metadata": {},
   "outputs": [
    {
     "name": "stdout",
     "output_type": "stream",
     "text": [
      "Information gain for different attributes:\n",
      "\n",
      "0.860   5 odor\n",
      "0.583  20 spore-print-color\n",
      "0.463  19 ring-type\n",
      "0.425  12 stalk-surface-above-ring\n",
      "0.409  13 stalk-surface-below-ring\n",
      "0.306  14 stalk-color-above-ring\n",
      "0.279  15 stalk-color-below-ring\n",
      "0.275  10 stalk-shape\n",
      "0.213   9 gill-color\n",
      "0.195   3 cap-color\n",
      "0.140   4 bruises?\n",
      "0.110  21 population\n",
      "0.101  22 habitat\n",
      "0.097  11 stalk-root\n",
      "0.058   7 gill-spacing\n",
      "0.032   8 gill-size\n",
      "0.017   1 cap-shape\n",
      "0.012  18 ring-number\n",
      "0.005   2 cap-surface\n",
      "0.004   6 gill-attachment\n",
      "0.002  17 veil-color\n",
      "0.000  16 veil-type\n"
     ]
    }
   ],
   "source": [
    "print('Information gain for different attributes:', end='\\n\\n')\n",
    "sorted_information_gain_indexes = sorted([(simple_ml.information_gain(clean_instances, i), i)\n",
    "                                          for i in range(1, len(attribute_names))], \n",
    "                                         reverse=True)\n",
    "for gain, i in sorted_information_gain_indexes:\n",
    "    print('{:5.3f}  {:2} {}'.format(gain, i, attribute_names[i]))"
   ]
  },
  {
   "cell_type": "markdown",
   "metadata": {},
   "source": [
    "*\\[The following variation does not use a list comprehension\\]*"
   ]
  },
  {
   "cell_type": "code",
   "execution_count": 116,
   "metadata": {},
   "outputs": [
    {
     "name": "stdout",
     "output_type": "stream",
     "text": [
      "Information gain for different attributes:\n",
      "\n",
      "0.860   5 odor\n",
      "0.583  20 spore-print-color\n",
      "0.463  19 ring-type\n",
      "0.425  12 stalk-surface-above-ring\n",
      "0.409  13 stalk-surface-below-ring\n",
      "0.306  14 stalk-color-above-ring\n",
      "0.279  15 stalk-color-below-ring\n",
      "0.275  10 stalk-shape\n",
      "0.213   9 gill-color\n",
      "0.195   3 cap-color\n",
      "0.140   4 bruises?\n",
      "0.110  21 population\n",
      "0.101  22 habitat\n",
      "0.097  11 stalk-root\n",
      "0.058   7 gill-spacing\n",
      "0.032   8 gill-size\n",
      "0.017   1 cap-shape\n",
      "0.012  18 ring-number\n",
      "0.005   2 cap-surface\n",
      "0.004   6 gill-attachment\n",
      "0.002  17 veil-color\n",
      "0.000  16 veil-type\n"
     ]
    }
   ],
   "source": [
    "print('Information gain for different attributes:', end='\\n\\n')\n",
    "\n",
    "information_gain_values = []\n",
    "for i in range(1, len(attribute_names)):\n",
    "    information_gain_values.append((simple_ml.information_gain(clean_instances, i), i))\n",
    "    \n",
    "sorted_information_gain_indexes = sorted(information_gain_values, \n",
    "                                         reverse=True)\n",
    "for gain, i in sorted_information_gain_indexes:\n",
    "    print('{:5.3f}  {:2} {}'.format(gain, i, attribute_names[i]))"
   ]
  },
  {
   "cell_type": "markdown",
   "metadata": {},
   "source": [
    "### Exercise 7: define `information_gain()`\n",
    "** The solution is provided. **"
   ]
  },
  {
   "cell_type": "markdown",
   "metadata": {},
   "source": [
    "Define a function, `information_gain(instances, i)`, that returns the information gain achieved by selecting the `i`th attribute to split `instances`. It should exhibit the same behavior as the `simple_ml` version of the function."
   ]
  },
  {
   "cell_type": "code",
   "execution_count": 117,
   "metadata": {},
   "outputs": [
    {
     "name": "stdout",
     "output_type": "stream",
     "text": [
      "Information gain for different attributes:\n",
      "\n",
      "0.860   5 odor\n",
      "0.583  20 spore-print-color\n",
      "0.463  19 ring-type\n",
      "0.425  12 stalk-surface-above-ring\n",
      "0.409  13 stalk-surface-below-ring\n",
      "0.306  14 stalk-color-above-ring\n",
      "0.279  15 stalk-color-below-ring\n",
      "0.275  10 stalk-shape\n",
      "0.213   9 gill-color\n",
      "0.195   3 cap-color\n",
      "0.140   4 bruises?\n",
      "0.110  21 population\n",
      "0.101  22 habitat\n",
      "0.097  11 stalk-root\n",
      "0.058   7 gill-spacing\n",
      "0.032   8 gill-size\n",
      "0.017   1 cap-shape\n",
      "0.012  18 ring-number\n",
      "0.005   2 cap-surface\n",
      "0.004   6 gill-attachment\n",
      "0.002  17 veil-color\n",
      "0.000  16 veil-type\n"
     ]
    }
   ],
   "source": [
    "def information_gain(instances, parent_index, class_index=0, attribute_name=False):\n",
    "    '''Return the information gain of splitting the instances based on the attribute parent_index'''\n",
    "    parent_entropy = entropy(instances, class_index, attribute_name)\n",
    "    child_instances = defaultdict(list)\n",
    "    for instance in instances:\n",
    "        child_instances[instance[parent_index]].append(instance)\n",
    "    children_entropy = 0.0\n",
    "    num_instances = len(instances)\n",
    "    for child_value in child_instances:\n",
    "        child_probability = len(child_instances[child_value]) / num_instances\n",
    "        children_entropy += child_probability * entropy(\n",
    "        \tchild_instances[child_value], class_index, attribute_name, child_value)\n",
    "    return parent_entropy - children_entropy\n",
    "\n",
    "# delete 'simple_ml.' in the function call below to test your function\n",
    "sorted_information_gain_indexes = sorted([(simple_ml.information_gain(clean_instances, i), i) \n",
    "                                          for i in range(1, len(attribute_names))], \n",
    "                                         reverse=True)\n",
    "\n",
    "print('Information gain for different attributes:', end='\\n\\n')\n",
    "for gain, i in sorted_information_gain_indexes:\n",
    "    print('{:5.3f}  {:2} {}'.format(gain, i, attribute_names[i]))"
   ]
  },
  {
   "cell_type": "markdown",
   "metadata": {},
   "source": [
    "### Building a Simple Decision Tree"
   ]
  },
  {
   "cell_type": "markdown",
   "metadata": {},
   "source": [
    "We will implement a modified version of the [ID3](https://en.wikipedia.org/wiki/ID3_algorithm) algorithm for building a simple decision tree.\n",
    "\n",
    "    ID3 (Examples, Target_Attribute, Candidate_Attributes)\n",
    "        Create a Root node for the tree\n",
    "        If all examples have the same value of the Target_Attribute, \n",
    "            Return the single-node tree Root with label = that value \n",
    "        If the list of Candidate_Attributes is empty,\n",
    "            Return the single node tree Root,\n",
    "                with label = most common value of Target_Attribute in the examples.\n",
    "        Otherwise Begin\n",
    "            A ← The Attribute that best classifies examples (most information gain)\n",
    "            Decision Tree attribute for Root = A.\n",
    "            For each possible value, v_i, of A,\n",
    "                Add a new tree branch below Root, corresponding to the test A = v_i.\n",
    "                Let Examples(v_i) be the subset of examples that have the value v_i for A\n",
    "                If Examples(v_i) is empty,\n",
    "                    Below this new branch add a leaf node \n",
    "                        with label = most common target value in the examples\n",
    "                Else \n",
    "                    Below this new branch add the subtree \n",
    "                        ID3 (Examples(v_i), Target_Attribute, Attributes – {A})\n",
    "        End\n",
    "        Return Root"
   ]
  },
  {
   "cell_type": "markdown",
   "metadata": {},
   "source": [
    "*\\[**Note:** the algorithm above is *recursive*, i.e., the there is a recursive call to `ID3` within the definition of `ID3`. Covering recursion is beyond the scope of this primer, but there are a number of other resources on [using recursion in Python](https://www.google.com/search?q=python+recursion). Familiarity with recursion will be important for understanding both the tree construction and classification functions below.\\]*\n",
    "\n",
    "In building a decision tree, we will need to split the instances based on the index of the *best* attribute, i.e., the attribute that offers the *highest information gain*. We will use separate utility functions to handle these subtasks. To simplify the functions, we will rely exclusively on attribute *indexes* rather than attribute *names*.\n",
    "\n",
    "First, we will define a function, **`split_instances(instances, attribute_index)`**, to split a set of instances based on any attribute. This function will return a dictionary where each *key* is a distinct value of the specified `attribute_index`, and the *value* of each key is a list representing the subset of `instances` that have that `attribute_index` value.\n",
    "\n",
    "We will use a [**`defaultdict`**](http://docs.python.org/2/library/collections.html#defaultdict-objects), a specialized dictionary class in the [**`collections`**](http://docs.python.org/2/library/collections.html) module, which automatically creates an appropriate default value for a new key. For example, a `defaultdict(int)` automatically initializes a new dictionary entry to 0 (zero); a `defaultdict(list)` automatically initializes a new dictionary entry to the empty list (`[]`)."
   ]
  },
  {
   "cell_type": "code",
   "execution_count": 118,
   "metadata": {},
   "outputs": [],
   "source": [
    "from collections import defaultdict\n",
    "\n",
    "def split_instances(instances, attribute_index):\n",
    "    '''Returns a list of dictionaries, splitting a list of instances \n",
    "        according to their values of a specified attribute index\n",
    "    \n",
    "    The key of each dictionary is a distinct value of attribute_index,\n",
    "    and the value of each dictionary is a list representing \n",
    "       the subset of instances that have that value for the attribute\n",
    "    '''\n",
    "    partitions = defaultdict(list)\n",
    "    for instance in instances:\n",
    "        partitions[instance[attribute_index]].append(instance)\n",
    "    return partitions"
   ]
  },
  {
   "cell_type": "markdown",
   "metadata": {},
   "source": [
    "To test the function, we will partition the `clean_instances` based on the `odor` attribute (index position 5) and print out the size (number of instances) in each partition rather than the lists of instances in each partition."
   ]
  },
  {
   "cell_type": "code",
   "execution_count": 119,
   "metadata": {},
   "outputs": [
    {
     "name": "stdout",
     "output_type": "stream",
     "text": [
      "[('p', 256), ('a', 400), ('l', 400), ('n', 2776), ('f', 1584), ('c', 192), ('m', 36)]\n"
     ]
    }
   ],
   "source": [
    "partitions = split_instances(clean_instances, 5)\n",
    "print([(partition, len(partitions[partition])) for partition in partitions])"
   ]
  },
  {
   "cell_type": "markdown",
   "metadata": {},
   "source": [
    "Now that we can split instances based on a particular attribute, we would like to be able to choose the *best* attribute with which to split the instances, where *best* is defined as the attribute that provides the greatest information gain if instances were split based on that attribute. We will want to restrict the candidate attributes so that we don't bother trying to split on an attribute that was used higher up in the decision tree (or use the target attribute as a candidate)."
   ]
  },
  {
   "cell_type": "markdown",
   "metadata": {},
   "source": [
    "### Exercise 8: define `choose_best_attribute_index()`"
   ]
  },
  {
   "cell_type": "markdown",
   "metadata": {},
   "source": [
    "Define a function, `choose_best_attribute_index(instances, candidate_attribute_indexes)`, that returns the index in the list of `candidate_attribute_indexes` that provides the highest information gain if `instances` are split based on that attribute index."
   ]
  },
  {
   "cell_type": "code",
   "execution_count": 120,
   "metadata": {},
   "outputs": [
    {
     "name": "stdout",
     "output_type": "stream",
     "text": [
      "Best attribute index: 5\n"
     ]
    }
   ],
   "source": [
    "def choose_best_attribute_index(instances, candidate_attribute_indexes, class_index=0):\n",
    "    '''Return the index of the attribute that will provide the greatest information gain \n",
    "    if instances were partitioned based on that attribute'''\n",
    "    gains_and_indexes = sorted([(information_gain(instances, i), i) for i in candidate_attribute_indexes], \n",
    "                               reverse=True)\n",
    "    return gains_and_indexes[0][1]\n",
    "\n",
    "# delete 'simple_ml.' in the function call below to test your function\n",
    "print('Best attribute index:', \n",
    "      choose_best_attribute_index(clean_instances, range(1, len(attribute_names))))"
   ]
  },
  {
   "cell_type": "markdown",
   "metadata": {},
   "source": [
    "A leaf node in a decision tree represents the most frequently occurring - or majority - class value for that path through the tree. We will need a function that determines the majority value for the class index among a set of instances. One way to do this is to use the [`Counter`](https://docs.python.org/2/library/collections.html#counter-objects) class introduced above."
   ]
  },
  {
   "cell_type": "code",
   "execution_count": 121,
   "metadata": {},
   "outputs": [
    {
     "name": "stdout",
     "output_type": "stream",
     "text": [
      "class_counts: Counter({'e': 3488, 'p': 2156})\n",
      "  most_common(1): [('e', 3488)]\n",
      "  most_common(1)[0][0]: e\n"
     ]
    }
   ],
   "source": [
    "class_counts = Counter([instance[0] for instance in clean_instances])\n",
    "print('class_counts: {}\\n  most_common(1): {}\\n  most_common(1)[0][0]: {}'.format(\n",
    "    class_counts,  # the Counter object\n",
    "    class_counts.most_common(1),  # returns a list in which the 1st element is a tuple with the most common value and its count\n",
    "    class_counts.most_common(1)[0][0]))  # the most common value (1st element in that tuple)"
   ]
  },
  {
   "cell_type": "markdown",
   "metadata": {},
   "source": [
    "*\\[The following variation does not use a list comprehension\\]*"
   ]
  },
  {
   "cell_type": "code",
   "execution_count": 122,
   "metadata": {},
   "outputs": [
    {
     "name": "stdout",
     "output_type": "stream",
     "text": [
      "class_counts: Counter({'e': 3488, 'p': 2156})\n",
      "  most_common(1): [('e', 3488)]\n",
      "  most_common(1)[0][0]: e\n"
     ]
    }
   ],
   "source": [
    "class_counts = Counter()  # create an empty counter\n",
    "for instance in clean_instances:\n",
    "    class_counts[instance[0]] += 1\n",
    "    \n",
    "print ('class_counts: {}\\n  most_common(1): {}\\n  most_common(1)[0][0]: {}'.format(\n",
    "    class_counts,\n",
    "    class_counts.most_common(1), \n",
    "    class_counts.most_common(1)[0][0]))"
   ]
  },
  {
   "cell_type": "markdown",
   "metadata": {},
   "source": [
    "It is often useful to compute the number of unique values and/or the total number of values in a `Counter`.\n",
    "\n",
    "The number of unique values is simply the number of dictionary entries.\n",
    "\n",
    "The total number of values can be computed by taking the [**`sum()`**](https://docs.python.org/2/library/functions.html#sum) of all the counts (the *value* of each *key: value* pair ... or *key, value* tuple, if we use `Counter().most_common()`)."
   ]
  },
  {
   "cell_type": "code",
   "execution_count": 123,
   "metadata": {},
   "outputs": [
    {
     "name": "stdout",
     "output_type": "stream",
     "text": [
      "Number of unique values: 2\n",
      "Total number of values:  5644\n"
     ]
    }
   ],
   "source": [
    "print('Number of unique values: {}'.format(len(class_counts)))\n",
    "print('Total number of values:  {}'.format(sum([v \n",
    "                                                for k, v in class_counts.most_common()])))"
   ]
  },
  {
   "cell_type": "markdown",
   "metadata": {},
   "source": [
    "Before putting all this together to define a decision tree construction function, we will cover a few additional aspects of Python used in that function."
   ]
  },
  {
   "cell_type": "markdown",
   "metadata": {},
   "source": [
    "### Truth values in Python"
   ]
  },
  {
   "cell_type": "markdown",
   "metadata": {},
   "source": [
    "Python offers a very flexible mechanism for the [testing of truth values](http://python.net/~goodger/projects/pycon/2007/idiomatic/handout.html#testing-for-truth-values): in an **if** condition, any null object, zero-valued numerical expression or empty container (string, list, dictionary or tuple) is interpreted as *False* (i.e., *not True*):"
   ]
  },
  {
   "cell_type": "code",
   "execution_count": 124,
   "metadata": {},
   "outputs": [
    {
     "name": "stdout",
     "output_type": "stream",
     "text": [
      "\"False\" is False\n",
      "\"None\" is False\n",
      "\"0\" is False\n",
      "\"0.0\" is False\n",
      "\"\" is False\n",
      "\"[]\" is False\n",
      "\"{}\" is False\n",
      "\"()\" is False\n"
     ]
    }
   ],
   "source": [
    "for x in [False, None, 0, 0.0, \"\", [], {}, ()]:\n",
    "    print('\"{}\" is'.format(x), end=' ')\n",
    "    if x:\n",
    "        print(True)\n",
    "    else:\n",
    "        print(False)"
   ]
  },
  {
   "cell_type": "markdown",
   "metadata": {},
   "source": [
    "Sometimes, particularly with function parameters, it is helpful to differentiate `None` from empty lists and other data structures with a `False` truth value (one common use case is illustrated in `create_decision_tree()` below)."
   ]
  },
  {
   "cell_type": "code",
   "execution_count": 125,
   "metadata": {},
   "outputs": [
    {
     "name": "stdout",
     "output_type": "stream",
     "text": [
      "\"False is None\" is False\n",
      "\"None is None\" is True\n",
      "\"0 is None\" is False\n",
      "\"0.0 is None\" is False\n",
      "\" is None\" is False\n",
      "\"[] is None\" is False\n",
      "\"{} is None\" is False\n",
      "\"() is None\" is False\n"
     ]
    }
   ],
   "source": [
    "for x in [False, None, 0, 0.0, \"\", [], {}, ()]:\n",
    "    print('\"{} is None\" is'.format(x), end=' ')\n",
    "    if x is None:\n",
    "        print(True)\n",
    "    else:\n",
    "        print(False)"
   ]
  },
  {
   "cell_type": "markdown",
   "metadata": {},
   "source": [
    "### Conditional expressions (ternary operators)"
   ]
  },
  {
   "cell_type": "markdown",
   "metadata": {},
   "source": [
    "Python also offers a [conditional expression (ternary operator)](http://docs.python.org/2/reference/expressions.html#conditional-expressions) that allows the functionality of an if/else statement that returns a value to be implemented as an expression. For example, the if/else statement in the code above could be implemented as a conditional expression as follows:"
   ]
  },
  {
   "cell_type": "code",
   "execution_count": 126,
   "metadata": {},
   "outputs": [
    {
     "name": "stdout",
     "output_type": "stream",
     "text": [
      "\"False\" is False\n",
      "\"None\" is False\n",
      "\"0\" is False\n",
      "\"0.0\" is False\n",
      "\"\" is False\n",
      "\"[]\" is False\n",
      "\"{}\" is False\n",
      "\"()\" is False\n"
     ]
    }
   ],
   "source": [
    "for x in [False, None, 0, 0.0, \"\", [], {}, ()]:\n",
    "    print('\"{}\" is {}'.format(x, True if x else False)) "
   ]
  },
  {
   "cell_type": "markdown",
   "metadata": {},
   "source": [
    "### More on optional parameters in Python functions"
   ]
  },
  {
   "cell_type": "markdown",
   "metadata": {},
   "source": [
    "Python function definitions can specify [default parameter values](http://docs.python.org/2/tutorial/controlflow.html#default-argument-values) indicating the value those parameters will have if no argument is explicitly provided when the function is called. Arguments can also be passed using [keyword parameters](http://docs.python.org/2/tutorial/controlflow.html#keyword-arguments) indicting which parameter will be assigned a specific argument value (which may or may not correspond to the order in which the parameters are defined).\n",
    "\n",
    "The [Python Tutorial page on default parameters](http://docs.python.org/2/tutorial/controlflow.html#default-argument-values) includes the following warning:\n",
    "\n",
    "> Important warning: The default value is evaluated only once. This makes a difference when the default is a mutable object such as a list, dictionary, or instances of most classes. \n",
    "\n",
    "Thus it is generally better to use the Python null object, `None`, rather than an empty `list` (`[]`), `dict` (`{}`) or other mutable data structure when specifying default parameter values for any of those data types."
   ]
  },
  {
   "cell_type": "code",
   "execution_count": 127,
   "metadata": {},
   "outputs": [
    {
     "name": "stdout",
     "output_type": "stream",
     "text": [
      "parameter1: None; parameter2: None\n",
      "parameter1: 1; parameter2: None\n",
      "parameter1: 1; parameter2: 2\n",
      "parameter1: 2; parameter2: None\n",
      "parameter1: None; parameter2: 2\n",
      "parameter1: 1; parameter2: 2\n"
     ]
    }
   ],
   "source": [
    "def parameter_test(parameter1=None, parameter2=None):\n",
    "    '''Prints the values of parameter1 and parameter2'''\n",
    "    print('parameter1: {}; parameter2: {}'.format(parameter1, parameter2))\n",
    "    \n",
    "parameter_test()  # no args are required\n",
    "parameter_test(1)  # if any args are provided, 1st arg gets assigned to parameter1\n",
    "parameter_test(1, 2)  # 2nd arg gets assigned to parameter2\n",
    "parameter_test(2)  # remember: if only 1 arg, 1st arg gets assigned to arg1\n",
    "parameter_test(parameter2=2)  # can use keyword to provide a value only for parameter2\n",
    "parameter_test(parameter2=2, parameter1=1) #  can use keywords for either arg, in either order"
   ]
  },
  {
   "cell_type": "markdown",
   "metadata": {},
   "source": [
    "### Exercise 9: define `majority_value()`"
   ]
  },
  {
   "cell_type": "markdown",
   "metadata": {},
   "source": [
    "Define a function, `majority_value(instances, class_index)`, that returns the most frequently occurring value of `class_index` in `instances`. The `class_index` parameter should be optional, and have a default value of `0` (zero).\n",
    "\n",
    "Your function definition should support the use of optional arguments as used in the function calls below."
   ]
  },
  {
   "cell_type": "code",
   "execution_count": 128,
   "metadata": {},
   "outputs": [
    {
     "name": "stdout",
     "output_type": "stream",
     "text": [
      "Majority value of index 0: e\n",
      "Majority value of index 1: x\n",
      "Majority value of index 2: y\n"
     ]
    }
   ],
   "source": [
    "def majority_value(instances, class_index=0):\n",
    "    '''Return the most frequent value of class_index in instances'''\n",
    "    class_counts = Counter([instance[class_index] for instance in instances])\n",
    "    return class_counts.most_common(1)[0][0]\n",
    "\n",
    "# delete 'simple_ml.' in the function calls below to test your function\n",
    "\n",
    "print('Majority value of index {}: {}'.format(\n",
    "    0, majority_value(clean_instances))) \n",
    "\n",
    "# although there is only one class_index for the dataset, \n",
    "# we'll test the function by specifying other indexes using optional / keyword arguments\n",
    "print('Majority value of index {}: {}'.format(\n",
    "    1, majority_value(clean_instances, 1)))  # using argument order\n",
    "print('Majority value of index {}: {}'.format(\n",
    "    2, majority_value(clean_instances, class_index=2)))  # using keyword argument"
   ]
  },
  {
   "cell_type": "markdown",
   "metadata": {},
   "source": [
    "### Building a Simple Decision Tree"
   ]
  },
  {
   "cell_type": "markdown",
   "metadata": {},
   "source": [
    "The recursive `create_decision_tree()` function below uses an optional parameter, `class_index`, which defaults to `0`. This is to accommodate other datasets in which the class label is the last element on each line (which would be most easily specified by using a `-1` value). Most data files in the [UCI Machine Learning Repository](https://archive.ics.uci.edu/ml/datasets.html) have the class labels as either the first element or the last element.\n",
    "\n",
    "To show how the decision tree is being built, an optional `trace` parameter, when non-zero, will generate some trace information as the tree is constructed. The indentation level is incremented with each recursive call via the use of the conditional expression (ternary operator), `trace + 1 if trace else 0`."
   ]
  },
  {
   "cell_type": "code",
   "execution_count": 129,
   "metadata": {},
   "outputs": [
    {
     "name": "stdout",
     "output_type": "stream",
     "text": [
      "> Creating tree node for attribute index 5\n",
      "> Creating subtree for value p (256, 21, 0, e)\n",
      "< < All 256 instances have label p\n",
      "> Creating subtree for value a (400, 21, 0, e)\n",
      "< < All 400 instances have label e\n",
      "> Creating subtree for value l (400, 21, 0, e)\n",
      "< < All 400 instances have label e\n",
      "> Creating subtree for value n (2764, 21, 0, e)\n",
      "> > Creating tree node for attribute index 20\n",
      "> > Creating subtree for value n (1296, 20, 0, e)\n",
      "< < < All 1296 instances have label e\n",
      "> > Creating subtree for value k (1296, 20, 0, e)\n",
      "< < < All 1296 instances have label e\n",
      "> > Creating subtree for value r (72, 20, 0, e)\n",
      "< < < All 72 instances have label p\n",
      "> > Creating subtree for value w (100, 20, 0, e)\n",
      "> > > Creating tree node for attribute index 21\n",
      "> > > Creating subtree for value v (60, 19, 0, e)\n",
      "< < < < All 60 instances have label e\n",
      "> > > Creating subtree for value c (16, 19, 0, e)\n",
      "< < < < All 16 instances have label p\n",
      "> > > Creating subtree for value y (24, 19, 0, e)\n",
      "< < < < All 24 instances have label e\n",
      "> Creating subtree for value f (1584, 21, 0, e)\n",
      "< < All 1584 instances have label p\n",
      "> Creating subtree for value c (192, 21, 0, e)\n",
      "< < All 192 instances have label p\n",
      "> Creating subtree for value m (28, 21, 0, e)\n",
      "< < All 28 instances have label p\n",
      "{5: {'p': 'p', 'a': 'e', 'l': 'e', 'n': {20: {'n': 'e', 'k': 'e', 'r': 'p', 'w': {21: {'v': 'e', 'c': 'p', 'y': 'e'}}}}, 'f': 'p', 'c': 'p', 'm': 'p'}}\n"
     ]
    }
   ],
   "source": [
    "def create_decision_tree(instances, \n",
    "                         candidate_attribute_indexes=None, \n",
    "                         class_index=0, \n",
    "                         default_class=None, \n",
    "                         trace=0):\n",
    "    '''Returns a new decision tree trained on a list of instances.\n",
    "    \n",
    "    The tree is constructed by recursively selecting and splitting instances based on \n",
    "    the highest information_gain of the candidate_attribute_indexes.\n",
    "    \n",
    "    The class label is found in position class_index.\n",
    "    \n",
    "    The default_class is the majority value for the current node's parent in the tree.\n",
    "    A positive (int) trace value will generate trace information \n",
    "        with increasing levels of indentation.\n",
    "    \n",
    "    Derived from the simplified ID3 algorithm presented in Building Decision Trees in Python \n",
    "        by Christopher Roach,\n",
    "    http://www.onlamp.com/pub/a/python/2006/02/09/ai_decision_trees.html?page=3\n",
    "    '''\n",
    "    \n",
    "    # if no candidate_attribute_indexes are provided, \n",
    "    # assume that we will use all but the target_attribute_index\n",
    "    # Note that None != [], \n",
    "    # as an empty candidate_attribute_indexes list is a recursion stopping condition\n",
    "    if candidate_attribute_indexes is None:\n",
    "        candidate_attribute_indexes = [i \n",
    "                                       for i in range(len(instances[0])) \n",
    "                                       if i != class_index]\n",
    "        # Note: do not use candidate_attribute_indexes.remove(class_index)\n",
    "        # as this would destructively modify the argument,\n",
    "        # causing problems during recursive calls\n",
    "        \n",
    "    class_labels_and_counts = Counter([instance[class_index] for instance in instances])\n",
    "\n",
    "    # If the dataset is empty or the candidate attributes list is empty, \n",
    "    # return the default value\n",
    "    if not instances or not candidate_attribute_indexes:\n",
    "        if trace:\n",
    "            print('{}Using default class {}'.format('< ' * trace, default_class))\n",
    "        return default_class\n",
    "    \n",
    "    # If all the instances have the same class label, return that class label\n",
    "    elif len(class_labels_and_counts) == 1:\n",
    "        class_label = class_labels_and_counts.most_common(1)[0][0]\n",
    "        if trace:\n",
    "            print('{}All {} instances have label {}'.format(\n",
    "                '< ' * trace, len(instances), class_label))\n",
    "        return class_label\n",
    "    else:\n",
    "        default_class = simple_ml.majority_value(instances, class_index)\n",
    "\n",
    "        # Choose the next best attribute index to best classify the instances\n",
    "        best_index = simple_ml.choose_best_attribute_index(\n",
    "            instances, candidate_attribute_indexes, class_index)        \n",
    "        if trace:\n",
    "            print('{}Creating tree node for attribute index {}'.format(\n",
    "                    '> ' * trace, best_index))\n",
    "\n",
    "        # Create a new decision tree node with the best attribute index \n",
    "        # and an empty dictionary object (for now)\n",
    "        tree = {best_index:{}}\n",
    "\n",
    "        # Create a new decision tree sub-node (branch) for each of the values \n",
    "        # in the best attribute field\n",
    "        partitions = simple_ml.split_instances(instances, best_index)\n",
    "\n",
    "        # Remove that attribute from the set of candidates for further splits\n",
    "        remaining_candidate_attribute_indexes = [i \n",
    "                                                 for i in candidate_attribute_indexes \n",
    "                                                 if i != best_index]\n",
    "        for attribute_value in partitions:\n",
    "            if trace:\n",
    "                print('{}Creating subtree for value {} ({}, {}, {}, {})'.format(\n",
    "                    '> ' * trace,\n",
    "                    attribute_value, \n",
    "                    len(partitions[attribute_value]), \n",
    "                    len(remaining_candidate_attribute_indexes), \n",
    "                    class_index, \n",
    "                    default_class))\n",
    "                \n",
    "            # Create a subtree for each value of the the best attribute\n",
    "            subtree = create_decision_tree(\n",
    "                partitions[attribute_value],\n",
    "                remaining_candidate_attribute_indexes,\n",
    "                class_index,\n",
    "                default_class,\n",
    "                trace + 1 if trace else 0)\n",
    "\n",
    "            # Add the new subtree to the empty dictionary object \n",
    "            # in the new tree/node we just created\n",
    "            tree[best_index][attribute_value] = subtree\n",
    "\n",
    "    return tree\n",
    "\n",
    "# split instances into separate training and testing sets\n",
    "training_instances = clean_instances[:-20]\n",
    "test_instances = clean_instances[-20:]\n",
    "tree = create_decision_tree(training_instances, trace=1)  # remove trace=1 to turn off tracing\n",
    "print(tree)"
   ]
  },
  {
   "cell_type": "markdown",
   "metadata": {},
   "source": [
    "The structure of the tree shown above is rather difficult to discern from the normal printed representation of a dictionary.\n",
    "\n",
    "The Python [**`pprint`**](http://docs.python.org/2/library/pprint.html) module has a number of useful methods for pretty-printing or formatting objects in a more human readable way.\n",
    "\n",
    "The [**`pprint.pprint(object, stream=None, indent=1, width=80, depth=None)`**](http://docs.python.org/2/library/pprint.html#pprint.pprint) method will print `object` to a `stream` (a default value of `None` will dictate the use of [sys.stdout](http://docs.python.org/2/library/sys.html#sys.stdout), the same destination as `print` function output), using `indent` spaces to differentiate nesting levels, using up to a maximum `width` columns and up to to a maximum nesting level `depth` (`None` indicating no maximum)."
   ]
  },
  {
   "cell_type": "code",
   "execution_count": 130,
   "metadata": {},
   "outputs": [
    {
     "name": "stdout",
     "output_type": "stream",
     "text": [
      "{5: {'a': 'e',\n",
      "     'c': 'p',\n",
      "     'f': 'p',\n",
      "     'l': 'e',\n",
      "     'm': 'p',\n",
      "     'n': {20: {'k': 'e',\n",
      "                'n': 'e',\n",
      "                'r': 'p',\n",
      "                'w': {21: {'c': 'p', 'v': 'e', 'y': 'e'}}}},\n",
      "     'p': 'p'}}\n"
     ]
    }
   ],
   "source": [
    "from pprint import pprint\n",
    "\n",
    "pprint(tree)"
   ]
  },
  {
   "cell_type": "markdown",
   "metadata": {},
   "source": [
    "### Classifying Instances with a Simple Decision Tree"
   ]
  },
  {
   "cell_type": "markdown",
   "metadata": {},
   "source": [
    "Usually, when we construct a decision tree based on a set of *training* instances, we do so with the intent of using that tree to classify a set of one or more *test* instances.\n",
    "\n",
    "We will define a function, **`classify(tree, instance, default_class=None)`**, to use a decision `tree` to classify a single `instance`, where an optional `default_class` can be specified as the return value if the instance represents a set of attribute values that don't have a representation in the decision tree.\n",
    "\n",
    "We will use a design pattern in which we will use a series of `if` statements, each of which returns a value if the condition is true, rather than a nested series of `if`, `elif` and/or `else` clauses, as it helps constrain the levels of indentation in the function."
   ]
  },
  {
   "cell_type": "code",
   "execution_count": 131,
   "metadata": {},
   "outputs": [
    {
     "name": "stdout",
     "output_type": "stream",
     "text": [
      "predicted: p; actual: p\n",
      "predicted: p; actual: p\n",
      "predicted: p; actual: p\n",
      "predicted: e; actual: e\n",
      "predicted: e; actual: e\n",
      "predicted: p; actual: p\n",
      "predicted: e; actual: e\n",
      "predicted: e; actual: e\n",
      "predicted: e; actual: e\n",
      "predicted: p; actual: p\n",
      "predicted: e; actual: e\n",
      "predicted: e; actual: e\n",
      "predicted: e; actual: e\n",
      "predicted: p; actual: p\n",
      "predicted: e; actual: e\n",
      "predicted: e; actual: e\n",
      "predicted: e; actual: e\n",
      "predicted: e; actual: e\n",
      "predicted: p; actual: p\n",
      "predicted: p; actual: p\n"
     ]
    }
   ],
   "source": [
    "def classify(tree, instance, default_class=None):\n",
    "    '''Returns a classification label for instance, given a decision tree'''\n",
    "    if not tree:  # if the node is empty, return the default class\n",
    "        return default_class\n",
    "    if not isinstance(tree, dict):  # if the node is a leaf, return its class label\n",
    "        return tree\n",
    "    attribute_index = list(tree.keys())[0]  # using list(dict.keys()) for Python 3 compatibility\n",
    "    attribute_values = list(tree.values())[0]\n",
    "    instance_attribute_value = instance[attribute_index]\n",
    "    if instance_attribute_value not in attribute_values:  # this value was not in training data\n",
    "        return default_class\n",
    "    # recursively traverse the subtree (branch) associated with instance_attribute_value\n",
    "    return classify(attribute_values[instance_attribute_value], instance, default_class)\n",
    "\n",
    "for instance in test_instances:\n",
    "    predicted_label = classify(tree, instance)\n",
    "    actual_label = instance[0]\n",
    "    print('predicted: {}; actual: {}'.format(predicted_label, actual_label))"
   ]
  },
  {
   "cell_type": "markdown",
   "metadata": {},
   "source": [
    "### Evaluating the Accuracy of a Simple Decision Tree"
   ]
  },
  {
   "cell_type": "markdown",
   "metadata": {},
   "source": [
    "It is often helpful to evaluate the performance of a model using a dataset not used in the training of that model. In the simple example shown above, we used all but the last 20 instances to train a simple decision tree, then classified those last 20 instances using the tree.\n",
    "\n",
    "The advantage of this training/test split is that visual inspection of the classifications (sometimes called *predictions*) is relatively straightforward, revealing that all 20 instances were correctly classified.\n",
    "\n",
    "There are a variety of metrics that can be used to evaluate the performance of a model. [Scikit Learn's Model Evaluation](http://scikit-learn.org/stable/modules/model_evaluation.html) library provides an overview and implementation of several possible metrics. For now, we'll simply measure the *accuracy* of a model, i.e., the percentage of test instances that are correctly classified (*true positives* and *true negatives*).\n",
    "\n",
    "The accuracy of the model above, given the set of 20 test instances, is 100% (20/20).\n",
    "\n",
    "The function below calculates the classification accuracy of a `tree` over a set of `test_instances` (with an optional `class_index` parameter indicating the position of the class label in each instance)."
   ]
  },
  {
   "cell_type": "code",
   "execution_count": 132,
   "metadata": {},
   "outputs": [
    {
     "name": "stdout",
     "output_type": "stream",
     "text": [
      "1.0\n"
     ]
    }
   ],
   "source": [
    "def classification_accuracy(tree, test_instances, class_index=0, default_class=None):\n",
    "    '''Returns the accuracy of classifying test_instances with tree, \n",
    "    where the class label is in position class_index'''\n",
    "    num_correct = 0\n",
    "    for i in range(len(test_instances)):\n",
    "        prediction = classify(tree, test_instances[i], default_class)\n",
    "        actual_value = test_instances[i][class_index]\n",
    "        if prediction == actual_value:\n",
    "            num_correct += 1\n",
    "    return num_correct / len(test_instances)\n",
    "\n",
    "print(classification_accuracy(tree, test_instances))"
   ]
  },
  {
   "cell_type": "markdown",
   "metadata": {},
   "source": [
    "In addition to showing the percentage of correctly classified instances, it may be helpful to return the actual counts of correctly and incorrectly classified instances, e.g., if we want to compile a total count of correctly and incorrectly classified instances over a collection of test instances.\n",
    "\n",
    "In order to do so, we'll use the [**`zip([iterable, ...])`**](http://docs.python.org/2.7/library/functions.html#zip) function, which combines 2 or more sequences or iterables; the function returns a list of tuples, where the *i*th tuple contains the *i*th element from each of the argument sequences or iterables."
   ]
  },
  {
   "cell_type": "code",
   "execution_count": 133,
   "metadata": {},
   "outputs": [
    {
     "data": {
      "text/plain": [
       "<zip at 0x10a6b26c8>"
      ]
     },
     "execution_count": 133,
     "metadata": {},
     "output_type": "execute_result"
    }
   ],
   "source": [
    "zip([0, 1, 2], ['a', 'b', 'c'])"
   ]
  },
  {
   "cell_type": "markdown",
   "metadata": {},
   "source": [
    "We can use [list comprehensions](http://docs.python.org/2/tutorial/datastructures.html#list-comprehensions), the `Counter` class and the `zip()` function to modify `classification_accuracy()` so that it returns a packed tuple with \n",
    "\n",
    "* the percentage of instances correctly classified\n",
    "* the number of correctly classified instances\n",
    "* the number of incorrectly classified instances\n",
    "\n",
    "We'll also modify the function to use `instances` rather than `test_instances`, as we sometimes want to be able to valuate the accuracy of a model when tested on the training instances used to create it."
   ]
  },
  {
   "cell_type": "code",
   "execution_count": 134,
   "metadata": {},
   "outputs": [
    {
     "name": "stdout",
     "output_type": "stream",
     "text": [
      "(1.0, 20, 0)\n"
     ]
    }
   ],
   "source": [
    "def classification_accuracy(tree, instances, class_index=0, default_class=None):\n",
    "    '''Returns the accuracy of classifying test_instances with tree, \n",
    "    where the class label is in position class_index'''\n",
    "    predicted_labels = [classify(tree, instance, default_class) \n",
    "                        for instance in instances]\n",
    "    actual_labels = [x[class_index] \n",
    "                     for x in instances]\n",
    "    counts = Counter([x == y \n",
    "                      for x, y in zip(predicted_labels, actual_labels)])\n",
    "    return counts[True] / len(instances), counts[True], counts[False]\n",
    "\n",
    "print(classification_accuracy(tree, test_instances))"
   ]
  },
  {
   "cell_type": "markdown",
   "metadata": {},
   "source": [
    "We sometimes want to partition the instances into subsets of equal sizes to measure performance. One metric this partitioning allows us to compute is a [learning curve](https://en.wikipedia.org/wiki/Learning_curve), i.e., assess how well the model performs based on the size of its training set. Another use of these partitions (aka *folds*) would be to conduct an [*n-fold cross validation*](https://en.wikipedia.org/wiki/Cross-validation_(statistics) evaluation.\n",
    "\n",
    "The following function, **`partition_instances(instances, num_partitions)`**, partitions a set of `instances` into `num_partitions` relatively equally sized subsets.\n",
    "\n",
    "We'll use this as yet another opportunity to demonstrate the power of using list comprehensions, this time, to condense the use of nested `for` loops."
   ]
  },
  {
   "cell_type": "code",
   "execution_count": 135,
   "metadata": {},
   "outputs": [],
   "source": [
    "def partition_instances(instances, num_partitions):\n",
    "    '''Returns a list of relatively equally sized disjoint sublists (partitions) \n",
    "    of the list of instances'''\n",
    "    return [[instances[j] \n",
    "             for j in range(i, len(instances), num_partitions)]\n",
    "            for i in range(num_partitions)]"
   ]
  },
  {
   "cell_type": "markdown",
   "metadata": {},
   "source": [
    "Before testing this function on the 5644 `clean_instances` from the UCI mushroom dataset, we'll create a small number of simplified instances to verify that the function has the desired behavior."
   ]
  },
  {
   "cell_type": "code",
   "execution_count": 136,
   "metadata": {},
   "outputs": [
    {
     "name": "stdout",
     "output_type": "stream",
     "text": [
      "Instances: [[0, 1, 2], [1, 2, 3], [2, 3, 4], [3, 4, 5], [4, 5, 6]]\n",
      "Partitions: [[[0, 1, 2], [2, 3, 4], [4, 5, 6]], [[1, 2, 3], [3, 4, 5]]]\n"
     ]
    }
   ],
   "source": [
    "instance_length = 3\n",
    "num_instances = 5\n",
    "\n",
    "simplified_instances = [[j \n",
    "                         for j in range(i, instance_length + i)] \n",
    "                        for i in range(num_instances)]\n",
    "\n",
    "print('Instances:', simplified_instances)\n",
    "partitions = partition_instances(simplified_instances, 2)\n",
    "print('Partitions:', partitions)"
   ]
  },
  {
   "cell_type": "markdown",
   "metadata": {},
   "source": [
    "*\\[The following variations do not use list comprehensions\\]*"
   ]
  },
  {
   "cell_type": "code",
   "execution_count": 137,
   "metadata": {},
   "outputs": [
    {
     "name": "stdout",
     "output_type": "stream",
     "text": [
      "Instances: [[0, 1, 2], [1, 2, 3], [2, 3, 4], [3, 4, 5], [4, 5, 6]]\n",
      "Partitions: [[[0, 1, 2], [2, 3, 4], [4, 5, 6]], [[1, 2, 3], [3, 4, 5]]]\n"
     ]
    }
   ],
   "source": [
    "def partition_instances(instances, num_partitions):\n",
    "    '''Returns a list of relatively equally sized disjoint sublists (partitions) \n",
    "    of the list of instances'''\n",
    "    partitions = []\n",
    "    for i in range(num_partitions):\n",
    "        partition = []\n",
    "        # iterate over instances starting at position i in increments of num_paritions\n",
    "        for j in range(i, len(instances), num_partitions): \n",
    "            partition.append(instances[j])\n",
    "        partitions.append(partition)\n",
    "    return partitions\n",
    "\n",
    "simplified_instances = []\n",
    "for i in range(num_instances):\n",
    "    new_instance = []\n",
    "    for j in range(i, instance_length + i):\n",
    "        new_instance.append(j)\n",
    "    simplified_instances.append(new_instance)\n",
    "\n",
    "print('Instances:', simplified_instances)\n",
    "partitions = partition_instances(simplified_instances, 2)\n",
    "print('Partitions:', partitions)"
   ]
  },
  {
   "cell_type": "markdown",
   "metadata": {},
   "source": [
    "The [**`enumerate(sequence, start=0)`**](http://docs.python.org/2.7/library/functions.html#enumerate) function creates an iterator that successively returns the index and value of each element in a `sequence`, beginning at the `start` index."
   ]
  },
  {
   "cell_type": "code",
   "execution_count": 138,
   "metadata": {},
   "outputs": [
    {
     "name": "stdout",
     "output_type": "stream",
     "text": [
      "0 a\n",
      "1 b\n",
      "2 c\n"
     ]
    }
   ],
   "source": [
    "for i, x in enumerate(['a', 'b', 'c']):\n",
    "    print(i, x)"
   ]
  },
  {
   "cell_type": "markdown",
   "metadata": {},
   "source": [
    "We can use `enumerate()` to facilitate slightly more rigorous testing of our `partition_instances` function on our `simplified_instances`.\n",
    "\n",
    "Note that since we are printing values rather than accumulating values, we will not use nested list comprehensions for this task."
   ]
  },
  {
   "cell_type": "code",
   "execution_count": 139,
   "metadata": {},
   "outputs": [
    {
     "name": "stdout",
     "output_type": "stream",
     "text": [
      "\n",
      "# partitions: 0\n",
      "\n",
      "# partitions: 1\n",
      "partition 0: [[0, 1, 2], [1, 2, 3], [2, 3, 4], [3, 4, 5], [4, 5, 6]]\n",
      "\n",
      "# partitions: 2\n",
      "partition 0: [[0, 1, 2], [2, 3, 4], [4, 5, 6]]\n",
      "partition 1: [[1, 2, 3], [3, 4, 5]]\n",
      "\n",
      "# partitions: 3\n",
      "partition 0: [[0, 1, 2], [3, 4, 5]]\n",
      "partition 1: [[1, 2, 3], [4, 5, 6]]\n",
      "partition 2: [[2, 3, 4]]\n",
      "\n",
      "# partitions: 4\n",
      "partition 0: [[0, 1, 2], [4, 5, 6]]\n",
      "partition 1: [[1, 2, 3]]\n",
      "partition 2: [[2, 3, 4]]\n",
      "partition 3: [[3, 4, 5]]\n"
     ]
    }
   ],
   "source": [
    "for i in range(num_instances):\n",
    "    print('\\n# partitions:', i)\n",
    "    for j, partition in enumerate(partition_instances(simplified_instances, i)):\n",
    "        print('partition {}: {}'.format(j, partition))"
   ]
  },
  {
   "cell_type": "markdown",
   "metadata": {},
   "source": [
    "Returning our attention to the UCI mushroom dataset, the following will partition our `clean_instances` into 10 relatively equally sized disjoint subsets. We will use a list comprehension to print out the length of each partition"
   ]
  },
  {
   "cell_type": "code",
   "execution_count": 140,
   "metadata": {},
   "outputs": [
    {
     "name": "stdout",
     "output_type": "stream",
     "text": [
      "[565, 565, 565, 565, 564, 564, 564, 564, 564, 564]\n"
     ]
    }
   ],
   "source": [
    "partitions = partition_instances(clean_instances, 10)\n",
    "print([len(partition) for partition in partitions])"
   ]
  },
  {
   "cell_type": "markdown",
   "metadata": {},
   "source": [
    "*\\[The following variation does not use a list comprehension\\]*"
   ]
  },
  {
   "cell_type": "code",
   "execution_count": 141,
   "metadata": {},
   "outputs": [
    {
     "name": "stdout",
     "output_type": "stream",
     "text": [
      "565 565 565 565 564 564 564 564 564 564 \n"
     ]
    }
   ],
   "source": [
    "for partition in partitions:\n",
    "    print(len(partition), end=' ')\n",
    "print()"
   ]
  },
  {
   "cell_type": "markdown",
   "metadata": {},
   "source": [
    "The following shows the different trees that are constructed based on partition 0 (first 10th) of `clean_instances`, partitions 0 and 1 (first 2/10ths) of `clean_instances` and all `clean_instances`."
   ]
  },
  {
   "cell_type": "code",
   "execution_count": 142,
   "metadata": {},
   "outputs": [
    {
     "name": "stdout",
     "output_type": "stream",
     "text": [
      "Tree trained with 565 instances:\n",
      "{5: {'a': 'e',\n",
      "     'c': 'p',\n",
      "     'f': 'p',\n",
      "     'l': 'e',\n",
      "     'm': 'p',\n",
      "     'n': {20: {'k': 'e', 'n': 'e', 'r': 'p', 'w': 'e'}},\n",
      "     'p': 'p'}}\n",
      "\n",
      "Tree trained with 1130 instances:\n",
      "{5: {'a': 'e',\n",
      "     'c': 'p',\n",
      "     'f': 'p',\n",
      "     'l': 'e',\n",
      "     'm': 'p',\n",
      "     'n': {20: {'k': 'e',\n",
      "                'n': 'e',\n",
      "                'r': 'p',\n",
      "                'w': {21: {'c': 'p', 'v': 'e', 'y': 'e'}}}},\n",
      "     'p': 'p'}}\n",
      "\n",
      "Tree trained with 5644 instances:\n",
      "{5: {'a': 'e',\n",
      "     'c': 'p',\n",
      "     'f': 'p',\n",
      "     'l': 'e',\n",
      "     'm': 'p',\n",
      "     'n': {20: {'k': 'e',\n",
      "                'n': 'e',\n",
      "                'r': 'p',\n",
      "                'w': {21: {'c': 'p', 'v': 'e', 'y': 'e'}}}},\n",
      "     'p': 'p'}}\n"
     ]
    }
   ],
   "source": [
    "tree0 = create_decision_tree(partitions[0])\n",
    "print('Tree trained with {} instances:'.format(len(partitions[0])))\n",
    "pprint(tree0)\n",
    "print()\n",
    "\n",
    "tree1 = create_decision_tree(partitions[0] + partitions[1])\n",
    "print('Tree trained with {} instances:'.format(len(partitions[0] + partitions[1])))\n",
    "pprint(tree1)\n",
    "print()\n",
    "\n",
    "tree = create_decision_tree(clean_instances)\n",
    "print('Tree trained with {} instances:'.format(len(clean_instances)))\n",
    "pprint(tree)"
   ]
  },
  {
   "cell_type": "markdown",
   "metadata": {},
   "source": [
    "The only difference between the first two trees - *tree0* and *tree1* - is that in the first tree, instances with no `odor` (attribute index `5` is `'n'`) and a `spore-print-color` of white (attribute `20` = `'w'`) are classified as `edible` (`'e'`). With additional training data in the 2nd partition, an additional distinction is made such that instances with no `odor`, a white `spore-print-color` and a clustered `population` (attribute `21` = `'c'`) are classified as `poisonous` (`'p'`), while all other instances with no `odor` and a white `spore-print-color` (and any other value for the `population` attribute) are classified as `edible` (`'e'`).\n",
    "\n",
    "Note that there is no difference between `tree1` and `tree` (the tree trained with all instances). This early convergence on an optimal model is uncommon on most datasets (outside the UCI repository)."
   ]
  },
  {
   "cell_type": "markdown",
   "metadata": {},
   "source": [
    "### Learning curves"
   ]
  },
  {
   "cell_type": "markdown",
   "metadata": {},
   "source": [
    "Now that we can partition our instances into subsets, we can use these subsets to construct different-sized training sets in the process of computing a learning curve.\n",
    "\n",
    "We will start off with an initial training set consisting only of the first partition, and then progressively extend that training set by adding a new partition during each iteration of computing the learning curve.\n",
    "\n",
    "The [**`list.extend(L)`**](http://docs.python.org/2/tutorial/datastructures.html#more-on-lists) method enables us to extend `list` by appending all the items in another list, `L`, to the end of `list`."
   ]
  },
  {
   "cell_type": "code",
   "execution_count": 143,
   "metadata": {},
   "outputs": [
    {
     "name": "stdout",
     "output_type": "stream",
     "text": [
      "[1, 2, 3, 4, 5]\n"
     ]
    }
   ],
   "source": [
    "x = [1, 2, 3]\n",
    "x.extend([4, 5])\n",
    "print(x)"
   ]
  },
  {
   "cell_type": "markdown",
   "metadata": {},
   "source": [
    "We can now define the function, **`compute_learning_curve(instances, num_partitions=10)`**, which will take a list of `instances`, partition it into `num_partitions` relatively equally sized disjoint partitions, and then iteratively evaluate the accuracy of models trained with an incrementally increasing combination of instances in the first `num_partitions - 1` partitions then tested with instances in the last partition, a variant of . That is, a model trained with the first partition will be constructed (and tested), then a model trained with the first 2 partitions will be constructed (and tested), and so on. \n",
    "\n",
    "The function will return a list of `num_partitions - 1` tuples representing the size of the training set and the accuracy of a tree trained with that set (and tested on the `num_partitions - 1` set). This will provide some indication of the relative impact of the size of the training set on model performance."
   ]
  },
  {
   "cell_type": "code",
   "execution_count": 144,
   "metadata": {},
   "outputs": [
    {
     "name": "stdout",
     "output_type": "stream",
     "text": [
      "[(565, (0.9964539007092199, 562, 2)), (1130, (1.0, 564, 0)), (1695, (1.0, 564, 0)), (2260, (1.0, 564, 0)), (2824, (1.0, 564, 0)), (3388, (1.0, 564, 0)), (3952, (1.0, 564, 0)), (4516, (1.0, 564, 0)), (5080, (1.0, 564, 0))]\n"
     ]
    }
   ],
   "source": [
    "def compute_learning_curve(instances, num_partitions=10):\n",
    "    '''Returns a list of training sizes and scores for incrementally increasing partitions.\n",
    "\n",
    "    The list contains 2-element tuples, each representing a training size and score.\n",
    "    The i-th training size is the number of instances in partitions 0 through num_partitions - 2.\n",
    "    The i-th score is the accuracy of a tree trained with instances \n",
    "    from partitions 0 through num_partitions - 2\n",
    "    and tested on instances from num_partitions - 1 (the last partition).'''\n",
    "    \n",
    "    partitions = partition_instances(instances, num_partitions)\n",
    "    test_instances = partitions[-1][:]\n",
    "    training_instances = []\n",
    "    accuracy_list = []\n",
    "    for i in range(0, num_partitions - 1):\n",
    "        # for each iteration, the training set is composed of partitions 0 through i - 1\n",
    "        training_instances.extend(partitions[i][:])\n",
    "        tree = create_decision_tree(training_instances)\n",
    "        partition_accuracy = classification_accuracy(tree, test_instances)\n",
    "        accuracy_list.append((len(training_instances), partition_accuracy))\n",
    "    return accuracy_list\n",
    "\n",
    "accuracy_list = compute_learning_curve(clean_instances)\n",
    "print(accuracy_list)"
   ]
  },
  {
   "cell_type": "markdown",
   "metadata": {},
   "source": [
    "The UCI mushroom dataset is a particularly clean and simple data set, enabling quick convergence on an optimal decision tree for classifying new instances using relatively few training instances. \n",
    "\n",
    "We can use a larger number of smaller partitions to see a little more variation in accuracy performance."
   ]
  },
  {
   "cell_type": "code",
   "execution_count": 145,
   "metadata": {},
   "outputs": [
    {
     "name": "stdout",
     "output_type": "stream",
     "text": [
      "[(57, (0.9821428571428571, 55, 1)), (114, (1.0, 56, 0)), (171, (0.9821428571428571, 55, 1)), (228, (1.0, 56, 0)), (285, (1.0, 56, 0)), (342, (1.0, 56, 0)), (399, (1.0, 56, 0)), (456, (1.0, 56, 0)), (513, (1.0, 56, 0)), (570, (1.0, 56, 0))]\n"
     ]
    }
   ],
   "source": [
    "accuracy_list = compute_learning_curve(clean_instances, 100)\n",
    "print(accuracy_list[:10])"
   ]
  },
  {
   "cell_type": "markdown",
   "metadata": {},
   "source": [
    "### Object-Oriented Programming: Defining a Python Class to Encapsulate a Simple Decision Tree"
   ]
  },
  {
   "cell_type": "markdown",
   "metadata": {},
   "source": [
    "The simple decision tree defined above uses a Python dictionary for its representation. One can imagine using other data structures, and/or extending the decision tree to support confidence estimates, numeric features and other capabilities that are often included in more fully functional implementations. To support future extensibility, and hide the details of the representation from the user, it would be helpful to have a user-defined class for simple decision trees.\n",
    "\n",
    "Python is an [object-oriented programming](https://en.wikipedia.org/wiki/Object-oriented_programming) language, offering simple syntax and semantics for defining classes and instantiating objects of those classes. *[It is assumed that the reader is already familiar with the concepts of object-oriented programming]*\n",
    "\n",
    "A Python [class](http://docs.python.org/2/tutorial/classes.html) starts with the keyword **`class`** followed by a class name (identifier), a colon ('`:`'), and then any number of statements, which typically take the form of assignment statements for class or instance variables and/or function definitions for class methods. All statements are indented to reflect their inclusion in the class definition.\n",
    "\n",
    "The members - methods, class variables and instance variables - of a class are accessed by prepending `self.` to each reference. Class methods always include `self` as the first parameter. \n",
    "\n",
    "All class members in Python are *public* (accessible outside the class). There is no mechanism for *private* class members, but identifiers with leading double underscores (*\\_\\_member_identifier*) are 'mangled' (translated into *\\_class_name\\__member_identifier*), and thus not directly accessible outside their class, and can be used to approximate private members by Python programmers. \n",
    "\n",
    "There is also no mechanism for *protected* identifiers - accessible only within a defining class and its subclasses - in the Python language, and so Python programmers have adopted the convention of using a single underscore (*\\_identifier*) at the start of any identifier that is intended to be protected (i.e., not to be accessed outside the class or its subclasses). \n",
    "\n",
    "Some Python programmers only use the single underscore prefixes and avoid double underscore prefixes due to unintended consequences that can arise when names are mangled. The following warning about single and double underscore prefixes is issued in [Code Like a Pythonista](http://python.net/~goodger/projects/pycon/2007/idiomatic/handout.html#naming):\n",
    "\n",
    "> try to avoid the __private form. I never use it. Trust me. If you use it, you WILL regret it later\n",
    "\n",
    "We will follow this advice and avoid using the double underscore prefix in user-defined member variables and methods.\n",
    "\n",
    "Python has a number of pre-defined [special method names](http://docs.python.org/2/reference/datamodel.html#special-method-names), all of which are denoted by leading and trailing double underscores. For example, the [**`object.__init__(self[, ...])`**](http://docs.python.org/2/reference/datamodel.html#object.__init__) method is used to specify instructions that should be executed whenever a new object of a class is instantiated. \n",
    "\n",
    "Note that other machine learning libraries may use different terminology for some of the functions we defined above. For example, in the [`sklearn.tree.DecisionTreeClassifier`](http://scikit-learn.org/stable/modules/generated/sklearn.tree.DecisionTreeClassifier.html) class (and in most `sklearn` classifier classes), the method for constructing a classifier is named [`fit()`](http://scikit-learn.org/stable/modules/generated/sklearn.tree.DecisionTreeClassifier.html#sklearn.tree.DecisionTreeClassifier.fit) - since it \"fits\" the data to a model - and the method for classifying instances is named [`predict()`](http://scikit-learn.org/stable/modules/generated/sklearn.tree.DecisionTreeClassifier.html#sklearn.tree.DecisionTreeClassifier.predict) - since it is predicting the class label for an instance.\n",
    "\n",
    "In keeping with this common terminology, the code below defines a class, **`SimpleDecisionTree`**, with a single pseudo-protected member variable `_tree`, three public methods - `fit()`, `predict()` and `pprint()` - and two pseudo-protected auxilary methods - `_create_tree()` and `_predict()` - to augment the `fit()` and `predict()` methods, respectively. \n",
    "\n",
    "The `fit()` method is identical to the `create_decision_tree()` function above, with the inclusion of the `self` parameter (as it is now a class method rather than a function). The `predict()` method is a similarly modified version of the `classify()` function, with the added capability to predict the label of either a single instance or a list of instances. The `classification_accuracy()` method is similar to the function of the same name (with the addition of the `self` parameter). The `pprint()` method prints the tree in a human-readable format.\n",
    "\n",
    "Most comments and the use of the trace parameter have been removed to make the code more compact, but are included in the version found in **`simple_decision_tree.py`**."
   ]
  },
  {
   "cell_type": "code",
   "execution_count": 146,
   "metadata": {},
   "outputs": [],
   "source": [
    "class SimpleDecisionTree:\n",
    "\n",
    "    _tree = {}  # this instance variable becomes accessible to class methods via self._tree\n",
    "\n",
    "    def __init__(self):\n",
    "        # this is where we would initialize any parameters to the SimpleDecisionTree\n",
    "        pass\n",
    "            \n",
    "    def fit(self, \n",
    "            instances, \n",
    "            candidate_attribute_indexes=None,\n",
    "            target_attribute_index=0,\n",
    "            default_class=None):\n",
    "        if not candidate_attribute_indexes:\n",
    "            candidate_attribute_indexes = [i \n",
    "                                           for i in range(len(instances[0]))\n",
    "                                           if i != target_attribute_index]\n",
    "        self._tree = self._create_tree(instances,\n",
    "                                       candidate_attribute_indexes,\n",
    "                                       target_attribute_index,\n",
    "                                       default_class)\n",
    "        \n",
    "    def _create_tree(self,\n",
    "                     instances,\n",
    "                     candidate_attribute_indexes,\n",
    "                     target_attribute_index=0,\n",
    "                     default_class=None):\n",
    "        class_labels_and_counts = Counter([instance[target_attribute_index] \n",
    "                                           for instance in instances])\n",
    "        if not instances or not candidate_attribute_indexes:\n",
    "            return default_class\n",
    "        elif len(class_labels_and_counts) == 1:\n",
    "            class_label = class_labels_and_counts.most_common(1)[0][0]\n",
    "            return class_label\n",
    "        else:\n",
    "            default_class = simple_ml.majority_value(instances, target_attribute_index)\n",
    "            best_index = simple_ml.choose_best_attribute_index(instances, \n",
    "                                                               candidate_attribute_indexes, \n",
    "                                                               target_attribute_index)\n",
    "            tree = {best_index:{}}\n",
    "            partitions = simple_ml.split_instances(instances, best_index)\n",
    "            remaining_candidate_attribute_indexes = [i \n",
    "                                                     for i in candidate_attribute_indexes \n",
    "                                                     if i != best_index]\n",
    "            for attribute_value in partitions:\n",
    "                subtree = self._create_tree(\n",
    "                    partitions[attribute_value],\n",
    "                    remaining_candidate_attribute_indexes,\n",
    "                    target_attribute_index,\n",
    "                    default_class)\n",
    "                tree[best_index][attribute_value] = subtree\n",
    "            return tree\n",
    "    \n",
    "    def predict(self, instances, default_class=None):\n",
    "        if not isinstance(instances, list):\n",
    "            return self._predict(self._tree, instance, default_class)\n",
    "        else:\n",
    "            return [self._predict(self._tree, instance, default_class) \n",
    "                    for instance in instances]\n",
    "    \n",
    "    def _predict(self, tree, instance, default_class=None):\n",
    "        if not tree:\n",
    "            return default_class\n",
    "        if not isinstance(tree, dict):\n",
    "            return tree\n",
    "        attribute_index = list(tree.keys())[0]  # using list(dict.keys()) for Py3 compatibiity\n",
    "        attribute_values = list(tree.values())[0]\n",
    "        instance_attribute_value = instance[attribute_index]\n",
    "        if instance_attribute_value not in attribute_values:\n",
    "            return default_class\n",
    "        return self._predict(attribute_values[instance_attribute_value],\n",
    "                             instance,\n",
    "                             default_class)\n",
    "    \n",
    "    def classification_accuracy(self, instances, default_class=None):\n",
    "        predicted_labels = self.predict(instances, default_class)\n",
    "        actual_labels = [x[0] for x in instances]\n",
    "        counts = Counter([x == y for x, y in zip(predicted_labels, actual_labels)])\n",
    "        return counts[True] / len(instances), counts[True], counts[False]\n",
    "    \n",
    "    def pprint(self):\n",
    "        pprint(self._tree)"
   ]
  },
  {
   "cell_type": "markdown",
   "metadata": {},
   "source": [
    "The following statements instantiate a `SimpleDecisionTree`, using all but the last 20 `clean_instances`, prints out the tree using its `pprint()` method, and then uses the `classify()` method to print the classification of the last 20 `clean_instances`."
   ]
  },
  {
   "cell_type": "code",
   "execution_count": 147,
   "metadata": {},
   "outputs": [
    {
     "name": "stdout",
     "output_type": "stream",
     "text": [
      "{5: {'a': 'e',\n",
      "     'c': 'p',\n",
      "     'f': 'p',\n",
      "     'l': 'e',\n",
      "     'm': 'p',\n",
      "     'n': {20: {'k': 'e',\n",
      "                'n': 'e',\n",
      "                'r': 'p',\n",
      "                'w': {21: {'c': 'p', 'v': 'e', 'y': 'e'}}}},\n",
      "     'p': 'p'}}\n",
      "\n",
      "Model: p; truth: p\n",
      "Model: p; truth: p\n",
      "Model: p; truth: p\n",
      "Model: e; truth: e\n",
      "Model: e; truth: e\n",
      "Model: p; truth: p\n",
      "Model: e; truth: e\n",
      "Model: e; truth: e\n",
      "Model: e; truth: e\n",
      "Model: p; truth: p\n",
      "Model: e; truth: e\n",
      "Model: e; truth: e\n",
      "Model: e; truth: e\n",
      "Model: p; truth: p\n",
      "Model: e; truth: e\n",
      "Model: e; truth: e\n",
      "Model: e; truth: e\n",
      "Model: e; truth: e\n",
      "Model: p; truth: p\n",
      "Model: p; truth: p\n",
      "\n",
      "Classification accuracy: (1.0, 20, 0)\n"
     ]
    }
   ],
   "source": [
    "simple_decision_tree = SimpleDecisionTree()\n",
    "simple_decision_tree.fit(training_instances)\n",
    "simple_decision_tree.pprint()\n",
    "print()\n",
    "\n",
    "predicted_labels = simple_decision_tree.predict(test_instances)\n",
    "actual_labels = [instance[0] for instance in test_instances]\n",
    "for predicted_label, actual_label in zip(predicted_labels, actual_labels):\n",
    "    print('Model: {}; truth: {}'.format(predicted_label, actual_label))\n",
    "print()\n",
    "print('Classification accuracy:', simple_decision_tree.classification_accuracy(test_instances))"
   ]
  },
  {
   "cell_type": "markdown",
   "metadata": {},
   "source": [
    "## 5. Next steps"
   ]
  },
  {
   "cell_type": "markdown",
   "metadata": {},
   "source": [
    "There are a variety of Python libraries - e.g., [Scikit-Learn](http://scikit-learn.org/) - for building more full-featured decision trees and other types of models based on a variety of machine learning algorithms. Hopefully, this primer will have prepared you for learning how to use those libraries effectively.\n",
    "\n",
    "Many Python-based machine learning libraries use other external Python libraries such as [NumPy](http://www.numpy.org/), [SciPy](http://www.scipy.org/scipylib/), [Matplotlib](http://matplotlib.org/) and [pandas](http://pandas.pydata.org/). There are tutorials available for each of these libraries, including the following:\n",
    "\n",
    "* [Tentative NumPy Tutorial](http://wiki.scipy.org/Tentative_NumPy_Tutorial)\n",
    "* [SciPy Tutorial](http://docs.scipy.org/doc/scipy/reference/tutorial/)\n",
    "* [Matplotlib PyPlot Tutorial](http://matplotlib.org/1.3.1/users/pyplot_tutorial.html)\n",
    "* [Pandas Tutorials](http://pandas.pydata.org/pandas-docs/stable/tutorials.html) (especially [10 Minutes to Pandas](http://pandas.pydata.org/pandas-docs/stable/10min.html))\n",
    "\n",
    "There are many machine learning or data science resources that may be useful to help you continue the journey. Here is a sampling:\n",
    "\n",
    "* Scikit-learn's tutorial, [An introduction to machine learning with scikit-learn](http://scikit-learn.org/stable/tutorial/basic/tutorial.html)\n",
    "\n",
    "* Kaggle's [Getting Started With Python For Data Science](http://www.kaggle.com/wiki/GettingStartedWithPythonForDataScience)"
   ]
  },
  {
   "cell_type": "code",
   "execution_count": null,
   "metadata": {},
   "outputs": [],
   "source": []
  }
 ],
 "metadata": {
  "kernelspec": {
   "display_name": "Python 3",
   "language": "python",
   "name": "python3"
  },
  "language_info": {
   "codemirror_mode": {
    "name": "ipython",
    "version": 3
   },
   "file_extension": ".py",
   "mimetype": "text/x-python",
   "name": "python",
   "nbconvert_exporter": "python",
   "pygments_lexer": "ipython3",
   "version": "3.7.3"
  }
 },
 "nbformat": 4,
 "nbformat_minor": 1
}
